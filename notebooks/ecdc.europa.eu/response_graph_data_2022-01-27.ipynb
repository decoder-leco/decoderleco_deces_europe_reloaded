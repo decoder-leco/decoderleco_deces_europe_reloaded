{
 "cells": [
  {
   "cell_type": "markdown",
   "id": "23e33264-78ac-484b-9466-f5313d9121e6",
   "metadata": {},
   "source": [
    "# Recuperation des données pour https://www.ecdc.europa.eu/sites/default/files/documents/response_graphs_data_2022-01-27.csv"
   ]
  },
  {
   "cell_type": "code",
   "execution_count": 1,
   "id": "c32b65b3-c18a-4117-abc6-ae744f748b4b",
   "metadata": {},
   "outputs": [],
   "source": [
    "const response: Promise = await fetch('https://www.ecdc.europa.eu/sites/default/files/documents/response_graphs_data_2022-01-27.csv')"
   ]
  },
  {
   "cell_type": "code",
   "execution_count": 2,
   "id": "a966008c-9389-499e-a70b-ce104922833f",
   "metadata": {},
   "outputs": [],
   "source": [
    "const data: String = await await response.text();"
   ]
  },
  {
   "cell_type": "markdown",
   "id": "deb1e0d4-e142-4386-9140-58633f264f2b",
   "metadata": {},
   "source": [
    "## Nous utiliserons polars pour valider & visualiser nos donnéées"
   ]
  },
  {
   "cell_type": "code",
   "execution_count": 3,
   "id": "0997b702-99a0-4cb6-8aa3-6cee5b481b59",
   "metadata": {},
   "outputs": [],
   "source": [
    "import pl from \"npm:nodejs-polars\";"
   ]
  },
  {
   "cell_type": "markdown",
   "id": "34e6a2d4-6085-457b-92ae-4ffc05430949",
   "metadata": {},
   "source": [
    "## extraction des types de chaques colonnes"
   ]
  },
  {
   "cell_type": "code",
   "execution_count": 4,
   "id": "35e029f5-02d8-4ea1-b3e9-2bd1e06a02d3",
   "metadata": {},
   "outputs": [
    {
     "data": {
      "text/plain": [
       "[\n",
       "  { DataType: \u001b[32m\"String\"\u001b[39m },\n",
       "  { DataType: \u001b[32m\"String\"\u001b[39m },\n",
       "  { DataType: \u001b[32m\"String\"\u001b[39m },\n",
       "  { DataType: \u001b[32m\"String\"\u001b[39m }\n",
       "]"
      ]
     },
     "execution_count": 4,
     "metadata": {},
     "output_type": "execute_result"
    }
   ],
   "source": [
    " pl.readCSV(data, { sep: \",\" }).dtypes"
   ]
  },
  {
   "cell_type": "markdown",
   "id": "c5685086-97d1-42f9-b7ce-0c6420612d05",
   "metadata": {},
   "source": [
    "## Affichage des 100 1ers rangs"
   ]
  },
  {
   "cell_type": "code",
   "execution_count": 5,
   "id": "fe1c44d8-25fc-4e81-8bcd-667108bb2bfb",
   "metadata": {},
   "outputs": [
    {
     "data": {
      "application/vnd.dataresource+json": {
       "data": [
        {
         "\"Country\"": "\"Austria\"",
         "\"Response_measure\"": "\"AdaptationOfWorkplace\"",
         "\"date_end\"": "2020-04-13",
         "\"date_start\"": "2020-03-16"
        },
        {
         "\"Country\"": "\"Austria\"",
         "\"Response_measure\"": "\"AdaptationOfWorkplace\"",
         "\"date_end\"": "NA",
         "\"date_start\"": "2021-04-01"
        },
        {
         "\"Country\"": "\"Austria\"",
         "\"Response_measure\"": "\"BanOnAllEvents\"",
         "\"date_end\"": "2021-05-18",
         "\"date_start\"": "2020-11-03"
        },
        {
         "\"Country\"": "\"Austria\"",
         "\"Response_measure\"": "\"ClosDaycare\"",
         "\"date_end\"": "2020-05-04",
         "\"date_start\"": "2020-03-16"
        },
        {
         "\"Country\"": "\"Austria\"",
         "\"Response_measure\"": "\"ClosDaycare\"",
         "\"date_end\"": "2020-12-07",
         "\"date_start\"": "2020-11-17"
        },
        {
         "\"Country\"": "\"Austria\"",
         "\"Response_measure\"": "\"ClosHigh\"",
         "\"date_end\"": "2020-09-30",
         "\"date_start\"": "2020-03-16"
        },
        {
         "\"Country\"": "\"Austria\"",
         "\"Response_measure\"": "\"ClosHighPartial\"",
         "\"date_end\"": "NA",
         "\"date_start\"": "2020-11-03"
        },
        {
         "\"Country\"": "\"Austria\"",
         "\"Response_measure\"": "\"ClosPrim\"",
         "\"date_end\"": "2020-12-07",
         "\"date_start\"": "2020-11-17"
        },
        {
         "\"Country\"": "\"Austria\"",
         "\"Response_measure\"": "\"ClosPrim\"",
         "\"date_end\"": "2021-02-06",
         "\"date_start\"": "2020-12-26"
        },
        {
         "\"Country\"": "\"Austria\"",
         "\"Response_measure\"": "\"ClosPrimPartial\"",
         "\"date_end\"": "2020-05-18",
         "\"date_start\"": "2020-03-16"
        },
        {
         "\"Country\"": "\"Austria\"",
         "\"Response_measure\"": "\"ClosPubAny\"",
         "\"date_end\"": "2020-04-13",
         "\"date_start\"": "2020-03-16"
        },
        {
         "\"Country\"": "\"Austria\"",
         "\"Response_measure\"": "\"ClosPubAny\"",
         "\"date_end\"": "2020-05-14",
         "\"date_start\"": "2020-05-02"
        },
        {
         "\"Country\"": "\"Austria\"",
         "\"Response_measure\"": "\"ClosPubAny\"",
         "\"date_end\"": "2020-12-06",
         "\"date_start\"": "2020-11-16"
        },
        {
         "\"Country\"": "\"Austria\"",
         "\"Response_measure\"": "\"ClosPubAny\"",
         "\"date_end\"": "2021-02-06",
         "\"date_start\"": "2020-12-28"
        },
        {
         "\"Country\"": "\"Austria\"",
         "\"Response_measure\"": "\"ClosPubAnyPartial\"",
         "\"date_end\"": "2020-05-01",
         "\"date_start\"": "2020-04-14"
        },
        {
         "\"Country\"": "\"Austria\"",
         "\"Response_measure\"": "\"ClosPubAnyPartial\"",
         "\"date_end\"": "2020-11-15",
         "\"date_start\"": "2020-05-15"
        },
        {
         "\"Country\"": "\"Austria\"",
         "\"Response_measure\"": "\"ClosPubAnyPartial\"",
         "\"date_end\"": "2020-12-27",
         "\"date_start\"": "2020-12-07"
        },
        {
         "\"Country\"": "\"Austria\"",
         "\"Response_measure\"": "\"ClosPubAnyPartial\"",
         "\"date_end\"": "NA",
         "\"date_start\"": "2021-02-07"
        },
        {
         "\"Country\"": "\"Austria\"",
         "\"Response_measure\"": "\"ClosSec\"",
         "\"date_end\"": "2021-02-07",
         "\"date_start\"": "2020-11-03"
        },
        {
         "\"Country\"": "\"Austria\"",
         "\"Response_measure\"": "\"ClosSecPartial\"",
         "\"date_end\"": "2020-06-03",
         "\"date_start\"": "2020-03-16"
        },
        {
         "\"Country\"": "\"Austria\"",
         "\"Response_measure\"": "\"ClosSecPartial\"",
         "\"date_end\"": "2021-05-16",
         "\"date_start\"": "2021-02-08"
        },
        {
         "\"Country\"": "\"Austria\"",
         "\"Response_measure\"": "\"EntertainmentVenues\"",
         "\"date_end\"": "2020-04-30",
         "\"date_start\"": "2020-03-16"
        },
        {
         "\"Country\"": "\"Austria\"",
         "\"Response_measure\"": "\"EntertainmentVenues\"",
         "\"date_end\"": "2021-02-07",
         "\"date_start\"": "2020-11-03"
        },
        {
         "\"Country\"": "\"Austria\"",
         "\"Response_measure\"": "\"EntertainmentVenuesPartial\"",
         "\"date_end\"": "NA",
         "\"date_start\"": "2021-02-08"
        },
        {
         "\"Country\"": "\"Austria\"",
         "\"Response_measure\"": "\"GymsSportsCentres\"",
         "\"date_end\"": "2021-05-18",
         "\"date_start\"": "2020-11-03"
        },
        {
         "\"Country\"": "\"Austria\"",
         "\"Response_measure\"": "\"GymsSportsCentresPartial\"",
         "\"date_end\"": "NA",
         "\"date_start\"": "2021-05-19"
        },
        {
         "\"Country\"": "\"Austria\"",
         "\"Response_measure\"": "\"HotelsOtherAccommodation\"",
         "\"date_end\"": "2020-05-29",
         "\"date_start\"": "2020-03-31"
        },
        {
         "\"Country\"": "\"Austria\"",
         "\"Response_measure\"": "\"HotelsOtherAccommodation\"",
         "\"date_end\"": "2021-05-18",
         "\"date_start\"": "2020-11-03"
        },
        {
         "\"Country\"": "\"Austria\"",
         "\"Response_measure\"": "\"HotelsOtherAccommodationPartial\"",
         "\"date_end\"": "NA",
         "\"date_start\"": "2021-05-19"
        },
        {
         "\"Country\"": "\"Austria\"",
         "\"Response_measure\"": "\"IndoorOver100\"",
         "\"date_end\"": "2020-06-30",
         "\"date_start\"": "2020-03-11"
        },
        {
         "\"Country\"": "\"Austria\"",
         "\"Response_measure\"": "\"IndoorOver1000\"",
         "\"date_end\"": "2020-09-13",
         "\"date_start\"": "2020-08-01"
        },
        {
         "\"Country\"": "\"Austria\"",
         "\"Response_measure\"": "\"IndoorOver50\"",
         "\"date_end\"": "2020-11-02",
         "\"date_start\"": "2020-09-14"
        },
        {
         "\"Country\"": "\"Austria\"",
         "\"Response_measure\"": "\"IndoorOver500\"",
         "\"date_end\"": "2020-07-31",
         "\"date_start\"": "2020-07-01"
        },
        {
         "\"Country\"": "\"Austria\"",
         "\"Response_measure\"": "\"IndoorOver500\"",
         "\"date_end\"": "NA",
         "\"date_start\"": "2021-12-12"
        },
        {
         "\"Country\"": "\"Austria\"",
         "\"Response_measure\"": "\"MasksMandatoryAllSpaces\"",
         "\"date_end\"": "2021-06-09",
         "\"date_start\"": "2020-09-14"
        },
        {
         "\"Country\"": "\"Austria\"",
         "\"Response_measure\"": "\"MasksMandatoryAllSpaces\"",
         "\"date_end\"": "NA",
         "\"date_start\"": "2022-01-11"
        },
        {
         "\"Country\"": "\"Austria\"",
         "\"Response_measure\"": "\"MasksMandatoryClosedSpaces\"",
         "\"date_end\"": "2020-06-14",
         "\"date_start\"": "2020-04-06"
        },
        {
         "\"Country\"": "\"Austria\"",
         "\"Response_measure\"": "\"MasksMandatoryClosedSpaces\"",
         "\"date_end\"": "2022-01-10",
         "\"date_start\"": "2021-06-10"
        },
        {
         "\"Country\"": "\"Austria\"",
         "\"Response_measure\"": "\"MasksMandatoryClosedSpacesPartial\"",
         "\"date_end\"": "2020-09-13",
         "\"date_start\"": "2020-06-15"
        },
        {
         "\"Country\"": "\"Austria\"",
         "\"Response_measure\"": "\"MasksVoluntaryClosedSpacesPartial\"",
         "\"date_end\"": "2020-04-05",
         "\"date_start\"": "2020-03-31"
        },
        {
         "\"Country\"": "\"Austria\"",
         "\"Response_measure\"": "\"MassGather50\"",
         "\"date_end\"": "2021-05-18",
         "\"date_start\"": "2020-11-03"
        },
        {
         "\"Country\"": "\"Austria\"",
         "\"Response_measure\"": "\"MassGather50Partial\"",
         "\"date_end\"": "2020-11-02",
         "\"date_start\"": "2020-09-14"
        },
        {
         "\"Country\"": "\"Austria\"",
         "\"Response_measure\"": "\"MassGatherAll\"",
         "\"date_end\"": "2020-07-31",
         "\"date_start\"": "2020-03-11"
        },
        {
         "\"Country\"": "\"Austria\"",
         "\"Response_measure\"": "\"MassGatherAll\"",
         "\"date_end\"": "2021-05-18",
         "\"date_start\"": "2020-11-03"
        },
        {
         "\"Country\"": "\"Austria\"",
         "\"Response_measure\"": "\"MassGatherAllPartial\"",
         "\"date_end\"": "2020-11-02",
         "\"date_start\"": "2020-08-01"
        },
        {
         "\"Country\"": "\"Austria\"",
         "\"Response_measure\"": "\"MassGatherAllPartial\"",
         "\"date_end\"": "NA",
         "\"date_start\"": "2021-12-12"
        },
        {
         "\"Country\"": "\"Austria\"",
         "\"Response_measure\"": "\"NonEssentialShops\"",
         "\"date_end\"": "2020-04-13",
         "\"date_start\"": "2020-03-16"
        },
        {
         "\"Country\"": "\"Austria\"",
         "\"Response_measure\"": "\"NonEssentialShops\"",
         "\"date_end\"": "2020-12-06",
         "\"date_start\"": "2020-11-17"
        },
        {
         "\"Country\"": "\"Austria\"",
         "\"Response_measure\"": "\"NonEssentialShops\"",
         "\"date_end\"": "2021-02-07",
         "\"date_start\"": "2020-12-26"
        },
        {
         "\"Country\"": "\"Austria\"",
         "\"Response_measure\"": "\"NonEssentialShops\"",
         "\"date_end\"": "2021-12-11",
         "\"date_start\"": "2021-11-22"
        }
       ],
       "schema": {
        "fields": [
         {
          "name": "\"Country\"",
          "type": "string"
         },
         {
          "name": "\"Response_measure\"",
          "type": "string"
         },
         {
          "name": "\"date_start\"",
          "type": "string"
         },
         {
          "name": "\"date_end\"",
          "type": "string"
         }
        ]
       }
      },
      "text/html": [
       "<table><thead><tr><th>&quot;Country&quot;</th><th>&quot;Response_measure&quot;</th><th>&quot;date_start&quot;</th><th>&quot;date_end&quot;</th></tr></thead><tbody><tr><td>&quot;Austria&quot;</td><td>&quot;AdaptationOfWorkplace&quot;</td><td>2020-03-16</td><td>2020-04-13</td></tr><tr><td>&quot;Austria&quot;</td><td>&quot;AdaptationOfWorkplace&quot;</td><td>2021-04-01</td><td>NA</td></tr><tr><td>&quot;Austria&quot;</td><td>&quot;BanOnAllEvents&quot;</td><td>2020-11-03</td><td>2021-05-18</td></tr><tr><td>&quot;Austria&quot;</td><td>&quot;ClosDaycare&quot;</td><td>2020-03-16</td><td>2020-05-04</td></tr><tr><td>&quot;Austria&quot;</td><td>&quot;ClosDaycare&quot;</td><td>2020-11-17</td><td>2020-12-07</td></tr><tr><td>&quot;Austria&quot;</td><td>&quot;ClosHigh&quot;</td><td>2020-03-16</td><td>2020-09-30</td></tr><tr><td>&quot;Austria&quot;</td><td>&quot;ClosHighPartial&quot;</td><td>2020-11-03</td><td>NA</td></tr><tr><td>&quot;Austria&quot;</td><td>&quot;ClosPrim&quot;</td><td>2020-11-17</td><td>2020-12-07</td></tr><tr><td>&quot;Austria&quot;</td><td>&quot;ClosPrim&quot;</td><td>2020-12-26</td><td>2021-02-06</td></tr><tr><td>&quot;Austria&quot;</td><td>&quot;ClosPrimPartial&quot;</td><td>2020-03-16</td><td>2020-05-18</td></tr><tr><td>&quot;Austria&quot;</td><td>&quot;ClosPubAny&quot;</td><td>2020-03-16</td><td>2020-04-13</td></tr><tr><td>&quot;Austria&quot;</td><td>&quot;ClosPubAny&quot;</td><td>2020-05-02</td><td>2020-05-14</td></tr><tr><td>&quot;Austria&quot;</td><td>&quot;ClosPubAny&quot;</td><td>2020-11-16</td><td>2020-12-06</td></tr><tr><td>&quot;Austria&quot;</td><td>&quot;ClosPubAny&quot;</td><td>2020-12-28</td><td>2021-02-06</td></tr><tr><td>&quot;Austria&quot;</td><td>&quot;ClosPubAnyPartial&quot;</td><td>2020-04-14</td><td>2020-05-01</td></tr><tr><td>&quot;Austria&quot;</td><td>&quot;ClosPubAnyPartial&quot;</td><td>2020-05-15</td><td>2020-11-15</td></tr><tr><td>&quot;Austria&quot;</td><td>&quot;ClosPubAnyPartial&quot;</td><td>2020-12-07</td><td>2020-12-27</td></tr><tr><td>&quot;Austria&quot;</td><td>&quot;ClosPubAnyPartial&quot;</td><td>2021-02-07</td><td>NA</td></tr><tr><td>&quot;Austria&quot;</td><td>&quot;ClosSec&quot;</td><td>2020-11-03</td><td>2021-02-07</td></tr><tr><td>&quot;Austria&quot;</td><td>&quot;ClosSecPartial&quot;</td><td>2020-03-16</td><td>2020-06-03</td></tr><tr><td>&quot;Austria&quot;</td><td>&quot;ClosSecPartial&quot;</td><td>2021-02-08</td><td>2021-05-16</td></tr><tr><td>&quot;Austria&quot;</td><td>&quot;EntertainmentVenues&quot;</td><td>2020-03-16</td><td>2020-04-30</td></tr><tr><td>&quot;Austria&quot;</td><td>&quot;EntertainmentVenues&quot;</td><td>2020-11-03</td><td>2021-02-07</td></tr><tr><td>&quot;Austria&quot;</td><td>&quot;EntertainmentVenuesPartial&quot;</td><td>2021-02-08</td><td>NA</td></tr><tr><td>&quot;Austria&quot;</td><td>&quot;GymsSportsCentres&quot;</td><td>2020-11-03</td><td>2021-05-18</td></tr><tr><td>&quot;Austria&quot;</td><td>&quot;GymsSportsCentresPartial&quot;</td><td>2021-05-19</td><td>NA</td></tr><tr><td>&quot;Austria&quot;</td><td>&quot;HotelsOtherAccommodation&quot;</td><td>2020-03-31</td><td>2020-05-29</td></tr><tr><td>&quot;Austria&quot;</td><td>&quot;HotelsOtherAccommodation&quot;</td><td>2020-11-03</td><td>2021-05-18</td></tr><tr><td>&quot;Austria&quot;</td><td>&quot;HotelsOtherAccommodationPartial&quot;</td><td>2021-05-19</td><td>NA</td></tr><tr><td>&quot;Austria&quot;</td><td>&quot;IndoorOver100&quot;</td><td>2020-03-11</td><td>2020-06-30</td></tr><tr><td>&quot;Austria&quot;</td><td>&quot;IndoorOver1000&quot;</td><td>2020-08-01</td><td>2020-09-13</td></tr><tr><td>&quot;Austria&quot;</td><td>&quot;IndoorOver50&quot;</td><td>2020-09-14</td><td>2020-11-02</td></tr><tr><td>&quot;Austria&quot;</td><td>&quot;IndoorOver500&quot;</td><td>2020-07-01</td><td>2020-07-31</td></tr><tr><td>&quot;Austria&quot;</td><td>&quot;IndoorOver500&quot;</td><td>2021-12-12</td><td>NA</td></tr><tr><td>&quot;Austria&quot;</td><td>&quot;MasksMandatoryAllSpaces&quot;</td><td>2020-09-14</td><td>2021-06-09</td></tr><tr><td>&quot;Austria&quot;</td><td>&quot;MasksMandatoryAllSpaces&quot;</td><td>2022-01-11</td><td>NA</td></tr><tr><td>&quot;Austria&quot;</td><td>&quot;MasksMandatoryClosedSpaces&quot;</td><td>2020-04-06</td><td>2020-06-14</td></tr><tr><td>&quot;Austria&quot;</td><td>&quot;MasksMandatoryClosedSpaces&quot;</td><td>2021-06-10</td><td>2022-01-10</td></tr><tr><td>&quot;Austria&quot;</td><td>&quot;MasksMandatoryClosedSpacesPartial&quot;</td><td>2020-06-15</td><td>2020-09-13</td></tr><tr><td>&quot;Austria&quot;</td><td>&quot;MasksVoluntaryClosedSpacesPartial&quot;</td><td>2020-03-31</td><td>2020-04-05</td></tr><tr><td>&quot;Austria&quot;</td><td>&quot;MassGather50&quot;</td><td>2020-11-03</td><td>2021-05-18</td></tr><tr><td>&quot;Austria&quot;</td><td>&quot;MassGather50Partial&quot;</td><td>2020-09-14</td><td>2020-11-02</td></tr><tr><td>&quot;Austria&quot;</td><td>&quot;MassGatherAll&quot;</td><td>2020-03-11</td><td>2020-07-31</td></tr><tr><td>&quot;Austria&quot;</td><td>&quot;MassGatherAll&quot;</td><td>2020-11-03</td><td>2021-05-18</td></tr><tr><td>&quot;Austria&quot;</td><td>&quot;MassGatherAllPartial&quot;</td><td>2020-08-01</td><td>2020-11-02</td></tr><tr><td>&quot;Austria&quot;</td><td>&quot;MassGatherAllPartial&quot;</td><td>2021-12-12</td><td>NA</td></tr><tr><td>&quot;Austria&quot;</td><td>&quot;NonEssentialShops&quot;</td><td>2020-03-16</td><td>2020-04-13</td></tr><tr><td>&quot;Austria&quot;</td><td>&quot;NonEssentialShops&quot;</td><td>2020-11-17</td><td>2020-12-06</td></tr><tr><td>&quot;Austria&quot;</td><td>&quot;NonEssentialShops&quot;</td><td>2020-12-26</td><td>2021-02-07</td></tr><tr><td>&quot;Austria&quot;</td><td>&quot;NonEssentialShops&quot;</td><td>2021-11-22</td><td>2021-12-11</td></tr></tbody></table>"
      ]
     },
     "execution_count": 5,
     "metadata": {},
     "output_type": "execute_result"
    }
   ],
   "source": [
    " pl.readCSV(data, { sep: \",\" }).head(100)"
   ]
  },
  {
   "cell_type": "code",
   "execution_count": null,
   "id": "24fba16d-df38-49a1-970f-343d1bd198c5",
   "metadata": {},
   "outputs": [],
   "source": []
  }
 ],
 "metadata": {
  "kernelspec": {
   "display_name": "Deno",
   "language": "typescript",
   "name": "deno"
  },
  "language_info": {
   "file_extension": ".ts",
   "mimetype": "text/x.typescript",
   "name": "typescript",
   "nb_converter": "script",
   "pygments_lexer": "typescript",
   "version": "5.3.3"
  }
 },
 "nbformat": 4,
 "nbformat_minor": 5
}
