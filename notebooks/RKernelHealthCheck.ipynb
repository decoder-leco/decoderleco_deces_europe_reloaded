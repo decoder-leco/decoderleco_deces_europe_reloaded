{
 "cells": [
  {
   "cell_type": "markdown",
   "id": "c42808a7-718a-4e74-87c7-51220691f7b2",
   "metadata": {},
   "source": [
    "# This notebook check the Health of the R Kernel\n",
    "_As I started the work on the `R` code re-implementation, I soon started wondering if my Jupyter `R` Kernel had issues. So I created this notebook, to run very simple R notebook samples, found in github, the typical `R` Jupyter notebook starters._"
   ]
  },
  {
   "cell_type": "markdown",
   "id": "c8a15acd-9016-4352-90e7-6a19e300e371",
   "metadata": {},
   "source": [
    "## System checks"
   ]
  },
  {
   "cell_type": "code",
   "execution_count": 1,
   "id": "9eff7ad3-3034-484d-818e-52bc153944e5",
   "metadata": {},
   "outputs": [
    {
     "data": {
      "text/plain": [
       "R version 3.5.0 (2018-04-23)\n",
       "Platform: x86_64-pc-linux-gnu (64-bit)\n",
       "Running under: Debian GNU/Linux 12 (bookworm)\n",
       "\n",
       "Matrix products: default\n",
       "BLAS: /root/anaconda3/lib/R/lib/libRblas.so\n",
       "LAPACK: /root/anaconda3/lib/R/lib/libRlapack.so\n",
       "\n",
       "locale:\n",
       " [1] LC_CTYPE=C.UTF-8       LC_NUMERIC=C           LC_TIME=C.UTF-8       \n",
       " [4] LC_COLLATE=C.UTF-8     LC_MONETARY=C.UTF-8    LC_MESSAGES=C.UTF-8   \n",
       " [7] LC_PAPER=C.UTF-8       LC_NAME=C              LC_ADDRESS=C          \n",
       "[10] LC_TELEPHONE=C         LC_MEASUREMENT=C.UTF-8 LC_IDENTIFICATION=C   \n",
       "\n",
       "attached base packages:\n",
       "[1] stats     graphics  grDevices utils     datasets  methods   base     \n",
       "\n",
       "loaded via a namespace (and not attached):\n",
       " [1] compiler_3.5.0  magrittr_1.5    IRdisplay_0.5.0 pbdZMQ_0.3-3   \n",
       " [5] tools_3.5.0     htmltools_0.3.6 base64enc_0.1-3 crayon_1.3.4   \n",
       " [9] Rcpp_0.12.17    uuid_0.1-2      stringi_1.1.7   IRkernel_0.8.11\n",
       "[13] jsonlite_1.5    stringr_1.3.1   digest_0.6.15   repr_0.15.0    \n",
       "[17] evaluate_0.10.1"
      ]
     },
     "metadata": {},
     "output_type": "display_data"
    }
   ],
   "source": [
    "sessionInfo()"
   ]
  },
  {
   "cell_type": "markdown",
   "id": "2af1ba0a-b41c-43cb-b308-79d81f5633f9",
   "metadata": {},
   "source": [
    "## First sample\n",
    "\n",
    "> _source:_ https://people.duke.edu/~ccc14/ngs-2015/BasicRinJupyterAndRstudio.html"
   ]
  },
  {
   "cell_type": "code",
   "execution_count": 1,
   "id": "f3b44051-76e8-49be-9657-aca47944c9c3",
   "metadata": {},
   "outputs": [
    {
     "data": {
      "text/html": [
       "4"
      ],
      "text/latex": [
       "4"
      ],
      "text/markdown": [
       "4"
      ],
      "text/plain": [
       "[1] 4"
      ]
     },
     "metadata": {},
     "output_type": "display_data"
    }
   ],
   "source": [
    "# This is an R cell. The '#' tells R this is a comment\n",
    "3+1"
   ]
  },
  {
   "cell_type": "markdown",
   "id": "a1ff1bca-c90e-4a64-92da-92f738c4ecd9",
   "metadata": {},
   "source": [
    "## Second sample\n",
    "\n",
    "> _source:_ https://www.w3schools.com/r/"
   ]
  },
  {
   "cell_type": "code",
   "execution_count": 2,
   "id": "d699c79b-9abe-4c02-a6ce-903d4611f3a9",
   "metadata": {},
   "outputs": [
    {
     "data": {
      "text/html": [
       "'Hello World!'"
      ],
      "text/latex": [
       "'Hello World!'"
      ],
      "text/markdown": [
       "'Hello World!'"
      ],
      "text/plain": [
       "[1] \"Hello World!\""
      ]
     },
     "metadata": {},
     "output_type": "display_data"
    },
    {
     "data": {
      "text/html": [
       "10"
      ],
      "text/latex": [
       "10"
      ],
      "text/markdown": [
       "10"
      ],
      "text/plain": [
       "[1] 10"
      ]
     },
     "metadata": {},
     "output_type": "display_data"
    }
   ],
   "source": [
    "\"Hello World!\"\n",
    "5 + 5"
   ]
  },
  {
   "cell_type": "code",
   "execution_count": 3,
   "id": "76a32f76-805d-46ff-b8bb-621b1f3e263f",
   "metadata": {},
   "outputs": [
    {
     "data": {
      "image/png": "[encoded data removed]",
      "text/plain": [
       "plot without title"
      ]
     },
     "metadata": {
      "image/png": {
       "height": 420,
       "width": 420
      }
     },
     "output_type": "display_data"
    }
   ],
   "source": [
    "plot(1:10)"
   ]
  },
  {
   "cell_type": "code",
   "execution_count": null,
   "id": "41502df6-9113-4e25-a9e7-cae240af13a8",
   "metadata": {},
   "outputs": [],
   "source": []
  }
 ],
 "metadata": {
  "kernelspec": {
   "display_name": "R",
   "language": "R",
   "name": "ir"
  },
  "language_info": {
   "codemirror_mode": "r",
   "file_extension": ".r",
   "mimetype": "text/x-r-source",
   "name": "R",
   "pygments_lexer": "r",
   "version": "4.2.2"
  }
 },
 "nbformat": 4,
 "nbformat_minor": 5
}
