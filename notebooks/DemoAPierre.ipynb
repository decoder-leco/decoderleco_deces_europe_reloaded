{
 "cells": [
  {
   "cell_type": "markdown",
   "id": "18212651-97a7-42c2-b708-f9a3cda94291",
   "metadata": {},
   "source": [
    "# Voilà ce que c'est\n",
    "\n",
    "_par exemple_\n",
    "* une petite\n",
    "* liste\n",
    "* "
   ]
  },
  {
   "cell_type": "code",
   "execution_count": null,
   "id": "d63745dc-2454-45ab-a981-80a5c0f5ea44",
   "metadata": {},
   "outputs": [],
   "source": [
    "sessionInfo()"
   ]
  },
  {
   "cell_type": "code",
   "execution_count": null,
   "id": "8858851b-2fed-49c3-b6c3-2fcd8a7cae7f",
   "metadata": {},
   "outputs": [],
   "source": [
    "sessionInfo()"
   ]
  },
  {
   "cell_type": "code",
   "execution_count": null,
   "id": "06841720-18d1-4891-9e38-63dc581f9b68",
   "metadata": {},
   "outputs": [],
   "source": [
    "5*9"
   ]
  }
 ],
 "metadata": {
  "kernelspec": {
   "display_name": "R",
   "language": "R",
   "name": "ir"
  },
  "language_info": {
   "codemirror_mode": "r",
   "file_extension": ".r",
   "mimetype": "text/x-r-source",
   "name": "R",
   "pygments_lexer": "r",
   "version": "4.2.2"
  }
 },
 "nbformat": 4,
 "nbformat_minor": 5
}
