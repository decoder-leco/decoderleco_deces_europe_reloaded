{
 "cells": [
  {
   "cell_type": "code",
   "execution_count": 1,
   "id": "4be2209f-9353-4707-84e5-4e5e5720b723",
   "metadata": {
    "scrolled": true
   },
   "outputs": [],
   "source": [
    "import fetch from \"npm:node-fetch\"\n",
    "//import * as fs from \"https://deno.land/std@0.220.1/fs/mod.ts\";\n",
    "import * as fs from \"https://deno.land/std@0.143.0/node/fs.ts\";"
   ]
  },
  {
   "cell_type": "code",
   "execution_count": 5,
   "id": "f82c2747-8192-4a49-b4e5-7522c2fafbff",
   "metadata": {},
   "outputs": [
    {
     "name": "stdout",
     "output_type": "stream",
     "text": [
      "{ type: \u001b[32m\"DISSEMINATION_OBJECT_TYPE\"\u001b[39m, title: \u001b[32m\"DATASET\"\u001b[39m }\n",
      "{ type: \u001b[32m\"DISSEMINATION_SOURCE_DATASET\"\u001b[39m, title: \u001b[32m\"DEMO_GIND\"\u001b[39m }\n",
      "{ type: \u001b[32m\"OBS_COUNT\"\u001b[39m, title: \u001b[32m\"589\"\u001b[39m }\n",
      "{ type: \u001b[32m\"OBS_PERIOD_OVERALL_OLDEST\"\u001b[39m, title: \u001b[32m\"2012\"\u001b[39m }\n",
      "{ type: \u001b[32m\"OBS_PERIOD_OVERALL_LATEST\"\u001b[39m, title: \u001b[32m\"2023\"\u001b[39m }\n",
      "{ type: \u001b[32m\"UPDATE_STRUCTURE\"\u001b[39m, date: \u001b[32m\"2023-12-22T11:00:00+0100\"\u001b[39m }\n",
      "{ type: \u001b[32m\"UPDATE_DATA\"\u001b[39m, date: \u001b[32m\"2023-12-22T11:00:00+0100\"\u001b[39m }\n",
      "{ type: \u001b[32m\"SOURCE_INSTITUTIONS\"\u001b[39m, text: \u001b[32m\"Eurostat\"\u001b[39m }\n",
      "{\n",
      "  type: \u001b[32m\"DISSEMINATION_DOI_XML\"\u001b[39m,\n",
      "  title: \u001b[32m'<adms:identifier xmlns:adms=\"http://www.w3.org/ns/adms#\" xmlns:skos=\"http://www.w3.org/2004/02/skos/'\u001b[39m... 486 more characters\n",
      "}\n",
      "{\n",
      "  type: \u001b[32m\"DISSEMINATION_PRESENTATIONS\"\u001b[39m,\n",
      "  title: \u001b[32m'[{\"names\":{\"de\":{\"locale\":\"de\",\"value\":\"Standardpräsentation\",\"html\":false},\"en\":{\"locale\":\"en\",\"val'\u001b[39m... 832 more characters\n",
      "}\n",
      "{ type: \u001b[32m\"DISSEMINATION_PRESENTATIONS_VERSION\"\u001b[39m, title: \u001b[32m\"v0_4_X\"\u001b[39m }\n",
      "TPS00001 need update  last updated at 2023-12-22T11:00:00+0100\n",
      "Downloading data in TSV for TPS00001\n",
      "Downloading data in SDMX-CSV for TPS00001\n",
      "Downloading data in SDMX-ML 2.1 for TPS00001\n",
      "Downloading structure in SDMX-ML 2.1 for TPS00001\n"
     ]
    },
    {
     "data": {
      "text/plain": [
       "Promise { \u001b[36m<pending>\u001b[39m }"
      ]
     },
     "execution_count": 5,
     "metadata": {},
     "output_type": "execute_result"
    }
   ],
   "source": [
    "// library to make HTTP calls\n",
    "// const fetch = require('node-fetch');\n",
    "// library to write to the filesystem\n",
    "// const fs = require('fs');\n",
    "  \n",
    "//util method to write to the filesystem\n",
    "const downloadFile = (async (url, path) => {\n",
    "  const res = await fetch(url);\n",
    "  const fileStream = fs.createWriteStream(path);\n",
    "  await new Promise((resolve, reject) => {\n",
    "    res.body.pipe(fileStream);\n",
    "    res.body.on(\"error\", reject);\n",
    "    fileStream.on(\"finish\", resolve);\n",
    "  });\n",
    "});\n",
    "  \n",
    "//last time program was run (you should change this value or make it a parameter of your script)\n",
    "const lastCheck = '2023-03-14T18:00';\n",
    "// online data code to lookup (you should change this value or make it a parameter of your script)\n",
    "const onlineDataCode = \"TPS00001\";\n",
    "  \n",
    "(async () => {\n",
    "  //retrieve information on dataset in JSON\n",
    "  //console.log('https://ec.europa.eu/eurostat/api/dissemination/sdmx/2.1/dataflow/ESTAT/' + onlineDataCode + '?format=json')\n",
    "  const response = await fetch('https://ec.europa.eu/eurostat/api/dissemination/sdmx/2.1/dataflow/ESTAT/' + onlineDataCode + '?format=json');\n",
    "  const json = await response.json();\n",
    "    \n",
    "  //extract last data udpate date\n",
    "  var lastUpdateDate = null;\n",
    "  for (var i = 0 ; i < json.extension.annotation.length; i++) {\n",
    "    console.log(json.extension.annotation[i]);\n",
    "    if (json.extension.annotation[i].type == \"UPDATE_DATA\")\n",
    "      lastUpdateDate = json.extension.annotation[i].date;\n",
    "    }\n",
    "    \n",
    "  //compare last data update date with our own\n",
    "  if (Date.parse(lastUpdateDate) > Date.parse(lastCheck)) {\n",
    "    console.log(onlineDataCode + \" need update \" + \" last updated at \" + lastUpdateDate);\n",
    "    //download needed format (remove the line you do not need)\n",
    "    console.log(\"Downloading data in TSV for \" + onlineDataCode );\n",
    "    downloadFile('https://ec.europa.eu/eurostat/api/dissemination/sdmx/2.1/data/' + onlineDataCode + '?format=TSV', onlineDataCode +'.tsv');\n",
    "    console.log(\"Downloading data in SDMX-CSV for \" + onlineDataCode );\n",
    "    downloadFile('https://ec.europa.eu/eurostat/api/dissemination/sdmx/2.1/data/' + onlineDataCode + '?format=SDMX-CSV', onlineDataCode +'.sdmx.csv');\n",
    "    console.log(\"Downloading data in SDMX-ML 2.1 for \" + onlineDataCode );\n",
    "    downloadFile('https://ec.europa.eu/eurostat/api/dissemination/sdmx/2.1/data/' + onlineDataCode , onlineDataCode +'.sdmx.xml');\n",
    "    console.log(\"Downloading structure in SDMX-ML 2.1 for \" + onlineDataCode );\n",
    "    downloadFile('https://ec.europa.eu/eurostat/api/dissemination/sdmx/2.1/dataflow/ESTAT/' + onlineDataCode +'?references=descendants&details=referencepartial', onlineDataCode +'.sdmx.structure.xml');\n",
    " \n",
    "    // or extract specific time-series in json-stat to feed visualisations..\n",
    "    downloadFile('https://ec.europa.eu/eurostat/api/dissemination/sdmx/2.1/data/' + onlineDataCode + '/A.....FR+LU+DE?format=JSON', onlineDataCode +'_FR_LU_DE.json');\n",
    "    // or use Eurostat statistics query format, because SDMX REST have may be less readable depending the query (may have too many dots, need to know the order of dims)\n",
    "    downloadFile('https://ec.europa.eu/eurostat/api/dissemination/statistics/1.0/data/' + onlineDataCode + '?geo=FR&geo=LU&geo=DE', onlineDataCode +'_FR_LU_DE.stats.json');\n",
    "  } else {\n",
    "    console.log(onlineDataCode + \" already up to date \" + \" last updated at \" + lastUpdateDate);\n",
    "  }\n",
    "  \n",
    "})();"
   ]
  },
  {
   "cell_type": "code",
   "execution_count": null,
   "id": "a6c481b1-bd4d-463d-996e-bac28926a474",
   "metadata": {},
   "outputs": [],
   "source": []
  }
 ],
 "metadata": {
  "kernelspec": {
   "display_name": "Deno",
   "language": "typescript",
   "name": "deno"
  },
  "language_info": {
   "file_extension": ".ts",
   "mimetype": "text/x.typescript",
   "name": "typescript",
   "nb_converter": "script",
   "pygments_lexer": "typescript",
   "version": "5.3.3"
  }
 },
 "nbformat": 4,
 "nbformat_minor": 5
}
