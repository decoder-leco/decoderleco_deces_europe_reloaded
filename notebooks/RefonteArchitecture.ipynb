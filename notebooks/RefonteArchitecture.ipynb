{
 "cells": [
  {
   "cell_type": "markdown",
   "id": "42e66d9e-7d3f-40fe-99cb-3e8926ad10de",
   "metadata": {},
   "source": [
    "## Recupérer les tables Eurostat"
   ]
  },
  {
   "cell_type": "markdown",
   "id": "33945fab-3482-457d-a9f7-ffa6b8f92ff3",
   "metadata": {},
   "source": [
    "### Références\n",
    "\n",
    "* https://cran.r-project.org/web/packages/eurostat/index.html\n",
    "* https://cran.r-project.org/package=maptools\n",
    "* http://ropengov.github.io/eurostat/"
   ]
  },
  {
   "cell_type": "markdown",
   "id": "cf6a7ffa-6a47-462d-bac9-7a95dce9b01c",
   "metadata": {},
   "source": [
    "### Résoudre les dépendances externes\n"
   ]
  },
  {
   "cell_type": "code",
   "execution_count": 1,
   "id": "d1057905-7248-4714-821b-b510919c22eb",
   "metadata": {},
   "outputs": [],
   "source": [
    "# options(repos = c(CRAN = \"https://cloud.r-project.org\"))\n",
    "# # other repos we could try: https://github.com/search?q=options%28repos+%3D+c%28CRAN+%3D+&type=code\n",
    "# # \"http://cran.stat.ucla.edu\", \"http://cloud.r-project.org\", \"http://cran.us.r-project.org\"\n",
    "\n",
    "# -----------\n",
    "# Warning message:\n",
    "# “unable to access index for repository http://cran.stat.ucla.edu/src/contrib:\n",
    "#   cannot open URL 'http://cran.stat.ucla.edu/src/contrib/PACKAGES'”Updating HTML index of packages in '.Library'\n",
    "# options(repos = c(CRAN = c(\"http://cloud.r-project.org\", \"http://cran.us.r-project.org\", \"http://cran.stat.ucla.edu\")))\n",
    "options(repos = c(CRAN = c(\"http://cloud.r-project.org\", \"http://cran.us.r-project.org\")))\n",
    "\n",
    "\n",
    "# see https://github.com/jupyter/docker-stacks/blob/main/images/minimal-notebook/Rprofile.site\n",
    "# Add R mimetype to specify how the plot returns from R to the browser.\n",
    "# https://notebook.community/andrie/jupyter-notebook-samples/Changing%20R%20plot%20options%20in%20Jupyter\n",
    "\n",
    "options(jupyter.plot_mimetypes = c('text/plain', 'image/png', 'image/jpeg', 'image/svg+xml', 'application/pdf'))"
   ]
  },
  {
   "cell_type": "code",
   "execution_count": 2,
   "id": "cec5f975-9699-48d8-a507-b08171e568b4",
   "metadata": {},
   "outputs": [
    {
     "name": "stderr",
     "output_type": "stream",
     "text": [
      "Installing package into ‘/usr/local/lib/R/site-library’\n",
      "(as ‘lib’ is unspecified)\n",
      "\n",
      "Installing package into ‘/usr/local/lib/R/site-library’\n",
      "(as ‘lib’ is unspecified)\n",
      "\n"
     ]
    }
   ],
   "source": [
    "# Télécharger et installer tous les packages dans R_LIBS_SITE\n",
    "#\n",
    "# Ce fichier n'est à executer qu'une seule fois (sauf en cas d'erreur ou il faut le relancer plusieurs fois\n",
    "# car il compile certaine packages qui deviennent alors disponibles)\n",
    "\n",
    "# Option pour éviter le warning : the 'wininet' method is deprecated for http\n",
    "options(download.file.method = \"auto\")\n",
    "\n",
    "# Fonction install_github()\n",
    "# jb: you can use remotes::install_github() instead  of using devtools to have install_github available, see https://stackoverflow.com/questions/75449981/r-does-not-let-me-install-packages\n",
    "install.packages(\"remotes\")\n",
    "# install.packages(\"devtools\")\n",
    "\n",
    "# Pour EuroStat\n",
    "install.packages(\"glue\")"
   ]
  },
  {
   "cell_type": "markdown",
   "id": "11e24c7f-6594-4785-96e4-f267e9019509",
   "metadata": {},
   "source": [
    "#### Analyse dépednance: le package `aryoda/tryCatchLog`\n",
    "\n",
    "* _source: https://github.com/aryoda/tryCatchLog_\n",
    "\n",
    "Notes:\n",
    "* le dernier commit sur le code soruce de ce package, date d'il y a presque 2 ans, exactment en date du `Jan 27, 2023`, commit hash `7943c0ec1e1064208f16fd6be59e718d1916610f`\n",
    "* la dernière publication sur le repository CRAN date de 2021, le `2021-10-25`\n",
    "* url CRAN repository: https://cran.r-project.org/web/packages/tryCatchLog/index.html"
   ]
  },
  {
   "cell_type": "code",
   "execution_count": 5,
   "id": "2bc06df6-ffba-4aee-a5db-af2c71485afe",
   "metadata": {},
   "outputs": [
    {
     "name": "stderr",
     "output_type": "stream",
     "text": [
      "Installing package into ‘/usr/local/lib/R/site-library’\n",
      "(as ‘lib’ is unspecified)\n",
      "\n"
     ]
    }
   ],
   "source": [
    "install.packages(\"tryCatchLog\")\n",
    "# browseVignettes(\"tryCatchLog\")  # to show the vignette(s)"
   ]
  },
  {
   "cell_type": "markdown",
   "id": "87804bf4-b4d3-4d39-b80b-6c1eef836871",
   "metadata": {},
   "source": [
    "#### Analyse dépedance: le package `sp`\n",
    "\n",
    "* _source: https://github.com/edzer/sp_\n",
    "\n",
    "Notes:\n",
    "* le dernier commit sur le code source de ce package, date d'il y a moins de 6 mois, exactment en date du `Jan 29, 2024`, commit hash `e60dedf3ff3d06d9ebd9d38818b072e4475758cf`\n",
    "* la dernière publication sur le repository CRAN date de 2024, le `2024-01-30`\n",
    "* url CRAN repository: https://cran.r-project.org/web/packages/sp/index.html\n",
    "* github pages: https://edzer.github.io/sp/"
   ]
  },
  {
   "cell_type": "code",
   "execution_count": 7,
   "id": "8e4812e2-aa96-47f0-baba-003bd34c04e5",
   "metadata": {},
   "outputs": [
    {
     "name": "stderr",
     "output_type": "stream",
     "text": [
      "Installing package into ‘/usr/local/lib/R/site-library’\n",
      "(as ‘lib’ is unspecified)\n",
      "\n",
      "also installing the dependency ‘lattice’\n",
      "\n",
      "\n"
     ]
    }
   ],
   "source": [
    "install.packages(\"sp\")\n",
    "# browseVignettes(\"sp\")  # to show the vignette(s)"
   ]
  },
  {
   "cell_type": "markdown",
   "id": "f44dab54-638e-4c37-8a84-287f9589ae9c",
   "metadata": {},
   "source": [
    "#### Analyse dépedance: le package `maptools`\n",
    "\n",
    "* _source: https://github.com/ropensci/maptools_\n",
    "\n",
    "Notes:\n",
    "* le dernier commit sur le code source de ce package, date d'il y a près de 8 ans, exactment en date du `Apr 4, 2016`, commit hash `7b21eceb1642e5d7661b1153c8b3777893d9c932`\n",
    "* la dernière publication sur les archives du repository CRAN date de 2023, le `2023-07-18 21:10` (ah tiens le jour de mon anniversaire, merci pour le cadeau... https://cran.r-project.org/src/contrib/Archive/maptools/maptools_1.1-8.tar.gz\n",
    "* url CRAN repository (package is archived) : was at https://cran.r-project.org/web/packages/maptools/index.html archived at https://cran.r-project.org/src/contrib/Archive/maptools/\n",
    "\n",
    "_Dépilage des erreurs d'installation_\n",
    "\n",
    "* errreur 1:\n",
    "\n",
    "```bash\n",
    "jupyter_deno_1       | trying URL 'https://cran.r-project.org/src/contrib/Archive/maptools/maptools_1.1-8.tar.gz'\n",
    "jupyter_deno_1       | Content type 'application/x-gzip' length 1376705 bytes (1.3 MB)\n",
    "jupyter_deno_1       | ==================================================\n",
    "jupyter_deno_1       | downloaded 1.3 MB\n",
    "jupyter_deno_1       |\n",
    "jupyter_deno_1       | ERROR: dependency ���foreign��� is not available for package ���maptools���\n",
    "jupyter_deno_1       | * removing ���/usr/local/lib/R/site-library/maptools���\n",
    "\n",
    "```\n",
    "\n",
    "* fix erreur 1:\n",
    "  * installer le package `foreign` , see https://cran.r-project.org/web/packages/foreign/index.html\n",
    "* ccc"
   ]
  },
  {
   "cell_type": "code",
   "execution_count": 10,
   "id": "4fbbe316-d933-498e-916c-3ac3ee55ac8b",
   "metadata": {},
   "outputs": [
    {
     "name": "stderr",
     "output_type": "stream",
     "text": [
      "Installing package into ‘/usr/local/lib/R/site-library’\n",
      "(as ‘lib’ is unspecified)\n",
      "\n"
     ]
    }
   ],
   "source": [
    "# installation de \"maptools\" - fix no. 1 \n",
    "\n",
    "install.packages(\"foreign\")"
   ]
  },
  {
   "cell_type": "code",
   "execution_count": 11,
   "id": "cef559eb-cb55-47fb-9a19-1420413379dc",
   "metadata": {},
   "outputs": [
    {
     "name": "stderr",
     "output_type": "stream",
     "text": [
      "Installing package into ‘/usr/local/lib/R/site-library’\n",
      "(as ‘lib’ is unspecified)\n",
      "\n",
      "Warning message in download.file(p, destfile, method, mode = \"wb\", ...):\n",
      "“URL 'https://cran.r-project.org/src/contrib/Archive/maptools/maptools_1.1-8.tar.gz': status was 'Couldn't resolve host name'”\n"
     ]
    },
    {
     "name": "stdout",
     "output_type": "stream",
     "text": [
      "Error in download.file(p, destfile, method, mode = \"wb\", ...) : \n",
      "  cannot open URL 'https://cran.r-project.org/src/contrib/Archive/maptools/maptools_1.1-8.tar.gz'\n"
     ]
    }
   ],
   "source": [
    "# dépendances de source(\"005_functions.R\")\n",
    "\n",
    "# install.packages(\"maptools\")\n",
    "\n",
    "urlMaptools <- \"https://cran.r-project.org/src/contrib/Archive/maptools/maptools_1.1-8.tar.gz\"\n",
    "install.packages(urlMaptools, type=\"source\", repos=NULL)"
   ]
  },
  {
   "cell_type": "code",
   "execution_count": null,
   "id": "e7010cc0-2c89-47d2-9c63-95d3908203d1",
   "metadata": {},
   "outputs": [],
   "source": [
    "# eurostat package as of http://ropengov.github.io/eurostat/\n",
    "\n",
    "# Enable this universe\n",
    "# options(repos = c(\n",
    "#   ropengov = \"https://ropengov.r-universe.dev\",\n",
    "#   CRAN = \"https://cloud.r-project.org\"\n",
    "# ))\n",
    "\n",
    "# install.packages(\"eurostat\")\n",
    "\n",
    "urlEurostat <- \"https://cloud.r-project.org/src/contrib/eurostat_4.0.0.tar.gz\"\n",
    "install.packages(urlEurostat, type=\"source\", repos=NULL)\n"
   ]
  },
  {
   "cell_type": "code",
   "execution_count": 8,
   "id": "d795fcb8-36fd-41c3-a6a3-0a608e027ac4",
   "metadata": {},
   "outputs": [
    {
     "name": "stderr",
     "output_type": "stream",
     "text": [
      "Installing package into ‘/usr/local/lib/R/site-library’\n",
      "(as ‘lib’ is unspecified)\n",
      "\n",
      "Warning message in install.packages(urlRgdal, type = \"source\", repos = NULL):\n",
      "“installation of package ‘/tmp/RtmpQmfIBB/downloaded_packages/rgdal_1.6-5.tar.gz’ had non-zero exit status”\n"
     ]
    }
   ],
   "source": [
    "# dépendances de source(\"005_functions.R\")\n",
    "\n",
    "# install.packages(\"rgdal\")\n",
    "\n",
    "# urlRgdal <- \"https://cran.r-project.org/src/contrib/Archive/rgdal/rgdal_1.6-7.tar.gz\" # “installation of package ‘/tmp/Rtmpymdyxy/downloaded_packages/rgdal_1.6-7.tar.gz’ had non-zero exit status”\n",
    "\n",
    "# urlRgdal <- \"https://cran.r-project.org/src/contrib/Archive/rgdal/rgdal_1.6-6.tar.gz\" # “installation of package ‘/tmp/RtmpgYEDV8/downloaded_packages/rgdal_1.6-6.tar.gz’ had non-zero exit status”\n",
    "urlRgdal <- \"https://cran.r-project.org/src/contrib/Archive/rgdal/rgdal_1.6-5.tar.gz\"\n",
    "\n",
    "install.packages(urlRgdal, type=\"source\", repos=NULL)"
   ]
  },
  {
   "cell_type": "markdown",
   "id": "9a0a3469-8233-47bc-b201-3a246cef1de4",
   "metadata": {},
   "source": [
    "### Résoudre les dépendances internes\n"
   ]
  },
  {
   "cell_type": "code",
   "execution_count": 8,
   "id": "e2e44531-c02f-475f-9c55-7dc9342e0bca",
   "metadata": {},
   "outputs": [
    {
     "name": "stderr",
     "output_type": "stream",
     "text": [
      "Warning message in Sys.setlocale(\"LC_ALL\", \"French\"):\n",
      "“OS reports request to set locale to \"French\" cannot be honored”\n"
     ]
    },
    {
     "ename": "ERROR",
     "evalue": "Error in library(maptools): there is no package called ‘maptools’\n",
     "output_type": "error",
     "traceback": [
      "Error in library(maptools): there is no package called ‘maptools’\nTraceback:\n",
      "1. source(\"005_functions.R\")",
      "2. withVisible(eval(ei, envir))",
      "3. eval(ei, envir)",
      "4. eval(ei, envir)",
      "5. library(maptools)"
     ]
    }
   ],
   "source": [
    "################################################################################\n",
    "# Téléchargement et Gestion des fichiers\n",
    "################################################################################\n",
    "\n",
    "source(\"src/files/files.R\")\n",
    "source(\"src/files/directory.R\")\n",
    "source(\"005_functions.R\")\n"
   ]
  },
  {
   "cell_type": "code",
   "execution_count": null,
   "id": "b234b81a-c864-4acd-9e2d-c3a9461c6baf",
   "metadata": {},
   "outputs": [],
   "source": [
    "################################################################################\n",
    "# Téléchargement et Gestion des fichiers\n",
    "################################################################################\n",
    "\n",
    "\n",
    "##----------------------------------------------------------------------------##\n",
    "#\n",
    "##### Preparer les espaces de generation de donnees ####\n",
    "#\n",
    "##----------------------------------------------------------------------------##\n",
    "\n",
    "# Créer les repertoires\n",
    "if (!dir.exists(\"gen\")) dir.create(\"gen\")\n",
    "if (!dir.exists(\"gen/csv\")) dir.create(\"gen/csv\")\n",
    "\n",
    "if (!dir.exists(\"gen/images\")) dir.create(\"gen/images\")\n",
    "\n",
    "if (!dir.exists(\"gen/rds\")) dir.create(\"gen/rds\")"
   ]
  },
  {
   "cell_type": "code",
   "execution_count": null,
   "id": "5eb272fd-e797-4205-838c-db0ba8b0e5b8",
   "metadata": {},
   "outputs": [],
   "source": [
    "##----------------------------------------------------------------------------##\n",
    "#\n",
    "#### recuperer les tables qui nous interessent chez EuroStat ####\n",
    "#\n",
    "##----------------------------------------------------------------------------##\n",
    "\n",
    "# Demographie recensée au 1er janvier de chaque année (jusqu'en 2020 inclus)\n",
    "# time = année du recensement, \n",
    "# age = tranche d'âge, \n",
    "# values = population dans cette tranche d'âge à la date time\n",
    "a__original_es_pjan_le2020 <- a__f_downloadEuroStatIfNeeded(var = a__original_es_pjan_le2020, \n",
    "                                                            euroStatFileName = \"demo_pjan\")"
   ]
  },
  {
   "cell_type": "code",
   "execution_count": null,
   "id": "fe5178c8-6912-40c3-882a-953202006207",
   "metadata": {},
   "outputs": [],
   "source": []
  }
 ],
 "metadata": {
  "kernelspec": {
   "display_name": "R",
   "language": "R",
   "name": "ir"
  },
  "language_info": {
   "codemirror_mode": "r",
   "file_extension": ".r",
   "mimetype": "text/x-r-source",
   "name": "R",
   "pygments_lexer": "r",
   "version": "4.2.2"
  }
 },
 "nbformat": 4,
 "nbformat_minor": 5
}
