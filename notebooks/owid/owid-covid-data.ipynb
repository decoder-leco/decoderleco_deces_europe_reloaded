{
 "cells": [
  {
   "cell_type": "markdown",
   "id": "23e33264-78ac-484b-9466-f5313d9121e6",
   "metadata": {},
   "source": [
    "# Recuperation des données pour https://covid.ourworldindata.org/data/owid-covid-data.csv"
   ]
  },
  {
   "cell_type": "code",
   "execution_count": 10,
   "id": "c32b65b3-c18a-4117-abc6-ae744f748b4b",
   "metadata": {},
   "outputs": [],
   "source": [
    "const response: Promise = await fetch('https://covid.ourworldindata.org/data/owid-covid-data.csv')"
   ]
  },
  {
   "cell_type": "code",
   "execution_count": 11,
   "id": "a966008c-9389-499e-a70b-ce104922833f",
   "metadata": {},
   "outputs": [],
   "source": [
    "const data: String = await await response.text();"
   ]
  },
  {
   "cell_type": "markdown",
   "id": "deb1e0d4-e142-4386-9140-58633f264f2b",
   "metadata": {},
   "source": [
    "## Nous utiliserons polars pour valider & visualiser nos donnéées"
   ]
  },
  {
   "cell_type": "code",
   "execution_count": 12,
   "id": "0997b702-99a0-4cb6-8aa3-6cee5b481b59",
   "metadata": {},
   "outputs": [],
   "source": [
    "import pl from \"npm:nodejs-polars\";"
   ]
  },
  {
   "cell_type": "markdown",
   "id": "e888a2e5-8238-4a2e-9260-05e7654fbc9a",
   "metadata": {},
   "source": [
    "## extraction des types de chaques colonnes"
   ]
  },
  {
   "cell_type": "code",
   "execution_count": 13,
   "id": "89b6fdb5-2fe9-46ac-960d-dcd5d84543e3",
   "metadata": {},
   "outputs": [
    {
     "data": {
      "text/plain": [
       "[\n",
       "  { DataType: \u001b[32m\"String\"\u001b[39m },  { DataType: \u001b[32m\"String\"\u001b[39m },  { DataType: \u001b[32m\"String\"\u001b[39m },\n",
       "  { DataType: \u001b[32m\"String\"\u001b[39m },  { DataType: \u001b[32m\"Float64\"\u001b[39m }, { DataType: \u001b[32m\"Float64\"\u001b[39m },\n",
       "  { DataType: \u001b[32m\"Float64\"\u001b[39m }, { DataType: \u001b[32m\"Float64\"\u001b[39m }, { DataType: \u001b[32m\"Float64\"\u001b[39m },\n",
       "  { DataType: \u001b[32m\"Float64\"\u001b[39m }, { DataType: \u001b[32m\"Float64\"\u001b[39m }, { DataType: \u001b[32m\"Float64\"\u001b[39m },\n",
       "  { DataType: \u001b[32m\"Float64\"\u001b[39m }, { DataType: \u001b[32m\"Float64\"\u001b[39m }, { DataType: \u001b[32m\"Float64\"\u001b[39m },\n",
       "  { DataType: \u001b[32m\"Float64\"\u001b[39m }, { DataType: \u001b[32m\"Float64\"\u001b[39m }, { DataType: \u001b[32m\"String\"\u001b[39m },\n",
       "  { DataType: \u001b[32m\"String\"\u001b[39m },  { DataType: \u001b[32m\"String\"\u001b[39m },  { DataType: \u001b[32m\"String\"\u001b[39m },\n",
       "  { DataType: \u001b[32m\"String\"\u001b[39m },  { DataType: \u001b[32m\"String\"\u001b[39m },  { DataType: \u001b[32m\"String\"\u001b[39m },\n",
       "  { DataType: \u001b[32m\"String\"\u001b[39m },  { DataType: \u001b[32m\"String\"\u001b[39m },  { DataType: \u001b[32m\"String\"\u001b[39m },\n",
       "  { DataType: \u001b[32m\"String\"\u001b[39m },  { DataType: \u001b[32m\"String\"\u001b[39m },  { DataType: \u001b[32m\"String\"\u001b[39m },\n",
       "  { DataType: \u001b[32m\"String\"\u001b[39m },  { DataType: \u001b[32m\"String\"\u001b[39m },  { DataType: \u001b[32m\"String\"\u001b[39m },\n",
       "  { DataType: \u001b[32m\"String\"\u001b[39m },  { DataType: \u001b[32m\"String\"\u001b[39m },  { DataType: \u001b[32m\"String\"\u001b[39m },\n",
       "  { DataType: \u001b[32m\"String\"\u001b[39m },  { DataType: \u001b[32m\"String\"\u001b[39m },  { DataType: \u001b[32m\"String\"\u001b[39m },\n",
       "  { DataType: \u001b[32m\"String\"\u001b[39m },  { DataType: \u001b[32m\"String\"\u001b[39m },  { DataType: \u001b[32m\"String\"\u001b[39m },\n",
       "  { DataType: \u001b[32m\"String\"\u001b[39m },  { DataType: \u001b[32m\"String\"\u001b[39m },  { DataType: \u001b[32m\"String\"\u001b[39m },\n",
       "  { DataType: \u001b[32m\"String\"\u001b[39m },  { DataType: \u001b[32m\"String\"\u001b[39m },  { DataType: \u001b[32m\"Float64\"\u001b[39m },\n",
       "  { DataType: \u001b[32m\"Float64\"\u001b[39m }, { DataType: \u001b[32m\"Float64\"\u001b[39m }, { DataType: \u001b[32m\"Float64\"\u001b[39m },\n",
       "  { DataType: \u001b[32m\"Float64\"\u001b[39m }, { DataType: \u001b[32m\"Float64\"\u001b[39m }, { DataType: \u001b[32m\"String\"\u001b[39m },\n",
       "  { DataType: \u001b[32m\"Float64\"\u001b[39m }, { DataType: \u001b[32m\"Float64\"\u001b[39m }, { DataType: \u001b[32m\"String\"\u001b[39m },\n",
       "  { DataType: \u001b[32m\"String\"\u001b[39m },  { DataType: \u001b[32m\"Float64\"\u001b[39m }, { DataType: \u001b[32m\"Float64\"\u001b[39m },\n",
       "  { DataType: \u001b[32m\"Float64\"\u001b[39m }, { DataType: \u001b[32m\"Float64\"\u001b[39m }, { DataType: \u001b[32m\"Float64\"\u001b[39m },\n",
       "  { DataType: \u001b[32m\"String\"\u001b[39m },  { DataType: \u001b[32m\"String\"\u001b[39m },  { DataType: \u001b[32m\"String\"\u001b[39m },\n",
       "  { DataType: \u001b[32m\"String\"\u001b[39m }\n",
       "]"
      ]
     },
     "execution_count": 13,
     "metadata": {},
     "output_type": "execute_result"
    }
   ],
   "source": [
    " pl.readCSV(data, { sep: \",\" }).dtypes"
   ]
  },
  {
   "cell_type": "markdown",
   "id": "e4a1d5c5-22d5-4096-a834-269f8ea592ba",
   "metadata": {},
   "source": [
    "## Affichage des 10 1ers rangs"
   ]
  },
  {
   "cell_type": "code",
   "execution_count": 15,
   "id": "fe1c44d8-25fc-4e81-8bcd-667108bb2bfb",
   "metadata": {},
   "outputs": [
    {
     "data": {
      "application/vnd.dataresource+json": {
       "data": [
        {
         "aged_65_older": 2.581,
         "aged_70_older": 1.337,
         "cardiovasc_death_rate": 597.029,
         "continent": "Asia",
         "date": "2020-01-05",
         "diabetes_prevalence": 9.59,
         "excess_mortality": null,
         "excess_mortality_cumulative": null,
         "excess_mortality_cumulative_absolute": null,
         "excess_mortality_cumulative_per_million": null,
         "extreme_poverty": null,
         "female_smokers": null,
         "gdp_per_capita": 1803.987,
         "handwashing_facilities": 37.746,
         "hosp_patients": null,
         "hosp_patients_per_million": null,
         "hospital_beds_per_thousand": 0.5,
         "human_development_index": 0.511,
         "icu_patients": null,
         "icu_patients_per_million": null,
         "iso_code": "AFG",
         "life_expectancy": 64.83,
         "location": "Afghanistan",
         "male_smokers": null,
         "median_age": 18.6,
         "new_cases": 0,
         "new_cases_per_million": 0,
         "new_cases_smoothed": null,
         "new_cases_smoothed_per_million": null,
         "new_deaths": 0,
         "new_deaths_per_million": 0,
         "new_deaths_smoothed": null,
         "new_deaths_smoothed_per_million": null,
         "new_people_vaccinated_smoothed": null,
         "new_people_vaccinated_smoothed_per_hundred": null,
         "new_tests": null,
         "new_tests_per_thousand": null,
         "new_tests_smoothed": null,
         "new_tests_smoothed_per_thousand": null,
         "new_vaccinations": null,
         "new_vaccinations_smoothed": null,
         "new_vaccinations_smoothed_per_million": null,
         "people_fully_vaccinated": null,
         "people_fully_vaccinated_per_hundred": null,
         "people_vaccinated": null,
         "people_vaccinated_per_hundred": null,
         "population": 41128772,
         "population_density": 54.422,
         "positive_rate": null,
         "reproduction_rate": null,
         "stringency_index": 0,
         "tests_per_case": null,
         "tests_units": null,
         "total_boosters": null,
         "total_boosters_per_hundred": null,
         "total_cases": null,
         "total_cases_per_million": null,
         "total_deaths": null,
         "total_deaths_per_million": null,
         "total_tests": null,
         "total_tests_per_thousand": null,
         "total_vaccinations": null,
         "total_vaccinations_per_hundred": null,
         "weekly_hosp_admissions": null,
         "weekly_hosp_admissions_per_million": null,
         "weekly_icu_admissions": null,
         "weekly_icu_admissions_per_million": null
        },
        {
         "aged_65_older": 2.581,
         "aged_70_older": 1.337,
         "cardiovasc_death_rate": 597.029,
         "continent": "Asia",
         "date": "2020-01-06",
         "diabetes_prevalence": 9.59,
         "excess_mortality": null,
         "excess_mortality_cumulative": null,
         "excess_mortality_cumulative_absolute": null,
         "excess_mortality_cumulative_per_million": null,
         "extreme_poverty": null,
         "female_smokers": null,
         "gdp_per_capita": 1803.987,
         "handwashing_facilities": 37.746,
         "hosp_patients": null,
         "hosp_patients_per_million": null,
         "hospital_beds_per_thousand": 0.5,
         "human_development_index": 0.511,
         "icu_patients": null,
         "icu_patients_per_million": null,
         "iso_code": "AFG",
         "life_expectancy": 64.83,
         "location": "Afghanistan",
         "male_smokers": null,
         "median_age": 18.6,
         "new_cases": 0,
         "new_cases_per_million": 0,
         "new_cases_smoothed": null,
         "new_cases_smoothed_per_million": null,
         "new_deaths": 0,
         "new_deaths_per_million": 0,
         "new_deaths_smoothed": null,
         "new_deaths_smoothed_per_million": null,
         "new_people_vaccinated_smoothed": null,
         "new_people_vaccinated_smoothed_per_hundred": null,
         "new_tests": null,
         "new_tests_per_thousand": null,
         "new_tests_smoothed": null,
         "new_tests_smoothed_per_thousand": null,
         "new_vaccinations": null,
         "new_vaccinations_smoothed": null,
         "new_vaccinations_smoothed_per_million": null,
         "people_fully_vaccinated": null,
         "people_fully_vaccinated_per_hundred": null,
         "people_vaccinated": null,
         "people_vaccinated_per_hundred": null,
         "population": 41128772,
         "population_density": 54.422,
         "positive_rate": null,
         "reproduction_rate": null,
         "stringency_index": 0,
         "tests_per_case": null,
         "tests_units": null,
         "total_boosters": null,
         "total_boosters_per_hundred": null,
         "total_cases": null,
         "total_cases_per_million": null,
         "total_deaths": null,
         "total_deaths_per_million": null,
         "total_tests": null,
         "total_tests_per_thousand": null,
         "total_vaccinations": null,
         "total_vaccinations_per_hundred": null,
         "weekly_hosp_admissions": null,
         "weekly_hosp_admissions_per_million": null,
         "weekly_icu_admissions": null,
         "weekly_icu_admissions_per_million": null
        },
        {
         "aged_65_older": 2.581,
         "aged_70_older": 1.337,
         "cardiovasc_death_rate": 597.029,
         "continent": "Asia",
         "date": "2020-01-07",
         "diabetes_prevalence": 9.59,
         "excess_mortality": null,
         "excess_mortality_cumulative": null,
         "excess_mortality_cumulative_absolute": null,
         "excess_mortality_cumulative_per_million": null,
         "extreme_poverty": null,
         "female_smokers": null,
         "gdp_per_capita": 1803.987,
         "handwashing_facilities": 37.746,
         "hosp_patients": null,
         "hosp_patients_per_million": null,
         "hospital_beds_per_thousand": 0.5,
         "human_development_index": 0.511,
         "icu_patients": null,
         "icu_patients_per_million": null,
         "iso_code": "AFG",
         "life_expectancy": 64.83,
         "location": "Afghanistan",
         "male_smokers": null,
         "median_age": 18.6,
         "new_cases": 0,
         "new_cases_per_million": 0,
         "new_cases_smoothed": null,
         "new_cases_smoothed_per_million": null,
         "new_deaths": 0,
         "new_deaths_per_million": 0,
         "new_deaths_smoothed": null,
         "new_deaths_smoothed_per_million": null,
         "new_people_vaccinated_smoothed": null,
         "new_people_vaccinated_smoothed_per_hundred": null,
         "new_tests": null,
         "new_tests_per_thousand": null,
         "new_tests_smoothed": null,
         "new_tests_smoothed_per_thousand": null,
         "new_vaccinations": null,
         "new_vaccinations_smoothed": null,
         "new_vaccinations_smoothed_per_million": null,
         "people_fully_vaccinated": null,
         "people_fully_vaccinated_per_hundred": null,
         "people_vaccinated": null,
         "people_vaccinated_per_hundred": null,
         "population": 41128772,
         "population_density": 54.422,
         "positive_rate": null,
         "reproduction_rate": null,
         "stringency_index": 0,
         "tests_per_case": null,
         "tests_units": null,
         "total_boosters": null,
         "total_boosters_per_hundred": null,
         "total_cases": null,
         "total_cases_per_million": null,
         "total_deaths": null,
         "total_deaths_per_million": null,
         "total_tests": null,
         "total_tests_per_thousand": null,
         "total_vaccinations": null,
         "total_vaccinations_per_hundred": null,
         "weekly_hosp_admissions": null,
         "weekly_hosp_admissions_per_million": null,
         "weekly_icu_admissions": null,
         "weekly_icu_admissions_per_million": null
        },
        {
         "aged_65_older": 2.581,
         "aged_70_older": 1.337,
         "cardiovasc_death_rate": 597.029,
         "continent": "Asia",
         "date": "2020-01-08",
         "diabetes_prevalence": 9.59,
         "excess_mortality": null,
         "excess_mortality_cumulative": null,
         "excess_mortality_cumulative_absolute": null,
         "excess_mortality_cumulative_per_million": null,
         "extreme_poverty": null,
         "female_smokers": null,
         "gdp_per_capita": 1803.987,
         "handwashing_facilities": 37.746,
         "hosp_patients": null,
         "hosp_patients_per_million": null,
         "hospital_beds_per_thousand": 0.5,
         "human_development_index": 0.511,
         "icu_patients": null,
         "icu_patients_per_million": null,
         "iso_code": "AFG",
         "life_expectancy": 64.83,
         "location": "Afghanistan",
         "male_smokers": null,
         "median_age": 18.6,
         "new_cases": 0,
         "new_cases_per_million": 0,
         "new_cases_smoothed": null,
         "new_cases_smoothed_per_million": null,
         "new_deaths": 0,
         "new_deaths_per_million": 0,
         "new_deaths_smoothed": null,
         "new_deaths_smoothed_per_million": null,
         "new_people_vaccinated_smoothed": null,
         "new_people_vaccinated_smoothed_per_hundred": null,
         "new_tests": null,
         "new_tests_per_thousand": null,
         "new_tests_smoothed": null,
         "new_tests_smoothed_per_thousand": null,
         "new_vaccinations": null,
         "new_vaccinations_smoothed": null,
         "new_vaccinations_smoothed_per_million": null,
         "people_fully_vaccinated": null,
         "people_fully_vaccinated_per_hundred": null,
         "people_vaccinated": null,
         "people_vaccinated_per_hundred": null,
         "population": 41128772,
         "population_density": 54.422,
         "positive_rate": null,
         "reproduction_rate": null,
         "stringency_index": 0,
         "tests_per_case": null,
         "tests_units": null,
         "total_boosters": null,
         "total_boosters_per_hundred": null,
         "total_cases": null,
         "total_cases_per_million": null,
         "total_deaths": null,
         "total_deaths_per_million": null,
         "total_tests": null,
         "total_tests_per_thousand": null,
         "total_vaccinations": null,
         "total_vaccinations_per_hundred": null,
         "weekly_hosp_admissions": null,
         "weekly_hosp_admissions_per_million": null,
         "weekly_icu_admissions": null,
         "weekly_icu_admissions_per_million": null
        },
        {
         "aged_65_older": 2.581,
         "aged_70_older": 1.337,
         "cardiovasc_death_rate": 597.029,
         "continent": "Asia",
         "date": "2020-01-09",
         "diabetes_prevalence": 9.59,
         "excess_mortality": null,
         "excess_mortality_cumulative": null,
         "excess_mortality_cumulative_absolute": null,
         "excess_mortality_cumulative_per_million": null,
         "extreme_poverty": null,
         "female_smokers": null,
         "gdp_per_capita": 1803.987,
         "handwashing_facilities": 37.746,
         "hosp_patients": null,
         "hosp_patients_per_million": null,
         "hospital_beds_per_thousand": 0.5,
         "human_development_index": 0.511,
         "icu_patients": null,
         "icu_patients_per_million": null,
         "iso_code": "AFG",
         "life_expectancy": 64.83,
         "location": "Afghanistan",
         "male_smokers": null,
         "median_age": 18.6,
         "new_cases": 0,
         "new_cases_per_million": 0,
         "new_cases_smoothed": null,
         "new_cases_smoothed_per_million": null,
         "new_deaths": 0,
         "new_deaths_per_million": 0,
         "new_deaths_smoothed": null,
         "new_deaths_smoothed_per_million": null,
         "new_people_vaccinated_smoothed": null,
         "new_people_vaccinated_smoothed_per_hundred": null,
         "new_tests": null,
         "new_tests_per_thousand": null,
         "new_tests_smoothed": null,
         "new_tests_smoothed_per_thousand": null,
         "new_vaccinations": null,
         "new_vaccinations_smoothed": null,
         "new_vaccinations_smoothed_per_million": null,
         "people_fully_vaccinated": null,
         "people_fully_vaccinated_per_hundred": null,
         "people_vaccinated": null,
         "people_vaccinated_per_hundred": null,
         "population": 41128772,
         "population_density": 54.422,
         "positive_rate": null,
         "reproduction_rate": null,
         "stringency_index": 0,
         "tests_per_case": null,
         "tests_units": null,
         "total_boosters": null,
         "total_boosters_per_hundred": null,
         "total_cases": null,
         "total_cases_per_million": null,
         "total_deaths": null,
         "total_deaths_per_million": null,
         "total_tests": null,
         "total_tests_per_thousand": null,
         "total_vaccinations": null,
         "total_vaccinations_per_hundred": null,
         "weekly_hosp_admissions": null,
         "weekly_hosp_admissions_per_million": null,
         "weekly_icu_admissions": null,
         "weekly_icu_admissions_per_million": null
        },
        {
         "aged_65_older": 2.581,
         "aged_70_older": 1.337,
         "cardiovasc_death_rate": 597.029,
         "continent": "Asia",
         "date": "2020-01-10",
         "diabetes_prevalence": 9.59,
         "excess_mortality": null,
         "excess_mortality_cumulative": null,
         "excess_mortality_cumulative_absolute": null,
         "excess_mortality_cumulative_per_million": null,
         "extreme_poverty": null,
         "female_smokers": null,
         "gdp_per_capita": 1803.987,
         "handwashing_facilities": 37.746,
         "hosp_patients": null,
         "hosp_patients_per_million": null,
         "hospital_beds_per_thousand": 0.5,
         "human_development_index": 0.511,
         "icu_patients": null,
         "icu_patients_per_million": null,
         "iso_code": "AFG",
         "life_expectancy": 64.83,
         "location": "Afghanistan",
         "male_smokers": null,
         "median_age": 18.6,
         "new_cases": 0,
         "new_cases_per_million": 0,
         "new_cases_smoothed": 0,
         "new_cases_smoothed_per_million": 0,
         "new_deaths": 0,
         "new_deaths_per_million": 0,
         "new_deaths_smoothed": 0,
         "new_deaths_smoothed_per_million": 0,
         "new_people_vaccinated_smoothed": null,
         "new_people_vaccinated_smoothed_per_hundred": null,
         "new_tests": null,
         "new_tests_per_thousand": null,
         "new_tests_smoothed": null,
         "new_tests_smoothed_per_thousand": null,
         "new_vaccinations": null,
         "new_vaccinations_smoothed": null,
         "new_vaccinations_smoothed_per_million": null,
         "people_fully_vaccinated": null,
         "people_fully_vaccinated_per_hundred": null,
         "people_vaccinated": null,
         "people_vaccinated_per_hundred": null,
         "population": 41128772,
         "population_density": 54.422,
         "positive_rate": null,
         "reproduction_rate": null,
         "stringency_index": 0,
         "tests_per_case": null,
         "tests_units": null,
         "total_boosters": null,
         "total_boosters_per_hundred": null,
         "total_cases": null,
         "total_cases_per_million": null,
         "total_deaths": null,
         "total_deaths_per_million": null,
         "total_tests": null,
         "total_tests_per_thousand": null,
         "total_vaccinations": null,
         "total_vaccinations_per_hundred": null,
         "weekly_hosp_admissions": null,
         "weekly_hosp_admissions_per_million": null,
         "weekly_icu_admissions": null,
         "weekly_icu_admissions_per_million": null
        },
        {
         "aged_65_older": 2.581,
         "aged_70_older": 1.337,
         "cardiovasc_death_rate": 597.029,
         "continent": "Asia",
         "date": "2020-01-11",
         "diabetes_prevalence": 9.59,
         "excess_mortality": null,
         "excess_mortality_cumulative": null,
         "excess_mortality_cumulative_absolute": null,
         "excess_mortality_cumulative_per_million": null,
         "extreme_poverty": null,
         "female_smokers": null,
         "gdp_per_capita": 1803.987,
         "handwashing_facilities": 37.746,
         "hosp_patients": null,
         "hosp_patients_per_million": null,
         "hospital_beds_per_thousand": 0.5,
         "human_development_index": 0.511,
         "icu_patients": null,
         "icu_patients_per_million": null,
         "iso_code": "AFG",
         "life_expectancy": 64.83,
         "location": "Afghanistan",
         "male_smokers": null,
         "median_age": 18.6,
         "new_cases": 0,
         "new_cases_per_million": 0,
         "new_cases_smoothed": 0,
         "new_cases_smoothed_per_million": 0,
         "new_deaths": 0,
         "new_deaths_per_million": 0,
         "new_deaths_smoothed": 0,
         "new_deaths_smoothed_per_million": 0,
         "new_people_vaccinated_smoothed": null,
         "new_people_vaccinated_smoothed_per_hundred": null,
         "new_tests": null,
         "new_tests_per_thousand": null,
         "new_tests_smoothed": null,
         "new_tests_smoothed_per_thousand": null,
         "new_vaccinations": null,
         "new_vaccinations_smoothed": null,
         "new_vaccinations_smoothed_per_million": null,
         "people_fully_vaccinated": null,
         "people_fully_vaccinated_per_hundred": null,
         "people_vaccinated": null,
         "people_vaccinated_per_hundred": null,
         "population": 41128772,
         "population_density": 54.422,
         "positive_rate": null,
         "reproduction_rate": null,
         "stringency_index": 0,
         "tests_per_case": null,
         "tests_units": null,
         "total_boosters": null,
         "total_boosters_per_hundred": null,
         "total_cases": null,
         "total_cases_per_million": null,
         "total_deaths": null,
         "total_deaths_per_million": null,
         "total_tests": null,
         "total_tests_per_thousand": null,
         "total_vaccinations": null,
         "total_vaccinations_per_hundred": null,
         "weekly_hosp_admissions": null,
         "weekly_hosp_admissions_per_million": null,
         "weekly_icu_admissions": null,
         "weekly_icu_admissions_per_million": null
        },
        {
         "aged_65_older": 2.581,
         "aged_70_older": 1.337,
         "cardiovasc_death_rate": 597.029,
         "continent": "Asia",
         "date": "2020-01-12",
         "diabetes_prevalence": 9.59,
         "excess_mortality": null,
         "excess_mortality_cumulative": null,
         "excess_mortality_cumulative_absolute": null,
         "excess_mortality_cumulative_per_million": null,
         "extreme_poverty": null,
         "female_smokers": null,
         "gdp_per_capita": 1803.987,
         "handwashing_facilities": 37.746,
         "hosp_patients": null,
         "hosp_patients_per_million": null,
         "hospital_beds_per_thousand": 0.5,
         "human_development_index": 0.511,
         "icu_patients": null,
         "icu_patients_per_million": null,
         "iso_code": "AFG",
         "life_expectancy": 64.83,
         "location": "Afghanistan",
         "male_smokers": null,
         "median_age": 18.6,
         "new_cases": 0,
         "new_cases_per_million": 0,
         "new_cases_smoothed": 0,
         "new_cases_smoothed_per_million": 0,
         "new_deaths": 0,
         "new_deaths_per_million": 0,
         "new_deaths_smoothed": 0,
         "new_deaths_smoothed_per_million": 0,
         "new_people_vaccinated_smoothed": null,
         "new_people_vaccinated_smoothed_per_hundred": null,
         "new_tests": null,
         "new_tests_per_thousand": null,
         "new_tests_smoothed": null,
         "new_tests_smoothed_per_thousand": null,
         "new_vaccinations": null,
         "new_vaccinations_smoothed": null,
         "new_vaccinations_smoothed_per_million": null,
         "people_fully_vaccinated": null,
         "people_fully_vaccinated_per_hundred": null,
         "people_vaccinated": null,
         "people_vaccinated_per_hundred": null,
         "population": 41128772,
         "population_density": 54.422,
         "positive_rate": null,
         "reproduction_rate": null,
         "stringency_index": 0,
         "tests_per_case": null,
         "tests_units": null,
         "total_boosters": null,
         "total_boosters_per_hundred": null,
         "total_cases": null,
         "total_cases_per_million": null,
         "total_deaths": null,
         "total_deaths_per_million": null,
         "total_tests": null,
         "total_tests_per_thousand": null,
         "total_vaccinations": null,
         "total_vaccinations_per_hundred": null,
         "weekly_hosp_admissions": null,
         "weekly_hosp_admissions_per_million": null,
         "weekly_icu_admissions": null,
         "weekly_icu_admissions_per_million": null
        },
        {
         "aged_65_older": 2.581,
         "aged_70_older": 1.337,
         "cardiovasc_death_rate": 597.029,
         "continent": "Asia",
         "date": "2020-01-13",
         "diabetes_prevalence": 9.59,
         "excess_mortality": null,
         "excess_mortality_cumulative": null,
         "excess_mortality_cumulative_absolute": null,
         "excess_mortality_cumulative_per_million": null,
         "extreme_poverty": null,
         "female_smokers": null,
         "gdp_per_capita": 1803.987,
         "handwashing_facilities": 37.746,
         "hosp_patients": null,
         "hosp_patients_per_million": null,
         "hospital_beds_per_thousand": 0.5,
         "human_development_index": 0.511,
         "icu_patients": null,
         "icu_patients_per_million": null,
         "iso_code": "AFG",
         "life_expectancy": 64.83,
         "location": "Afghanistan",
         "male_smokers": null,
         "median_age": 18.6,
         "new_cases": 0,
         "new_cases_per_million": 0,
         "new_cases_smoothed": 0,
         "new_cases_smoothed_per_million": 0,
         "new_deaths": 0,
         "new_deaths_per_million": 0,
         "new_deaths_smoothed": 0,
         "new_deaths_smoothed_per_million": 0,
         "new_people_vaccinated_smoothed": null,
         "new_people_vaccinated_smoothed_per_hundred": null,
         "new_tests": null,
         "new_tests_per_thousand": null,
         "new_tests_smoothed": null,
         "new_tests_smoothed_per_thousand": null,
         "new_vaccinations": null,
         "new_vaccinations_smoothed": null,
         "new_vaccinations_smoothed_per_million": null,
         "people_fully_vaccinated": null,
         "people_fully_vaccinated_per_hundred": null,
         "people_vaccinated": null,
         "people_vaccinated_per_hundred": null,
         "population": 41128772,
         "population_density": 54.422,
         "positive_rate": null,
         "reproduction_rate": null,
         "stringency_index": 0,
         "tests_per_case": null,
         "tests_units": null,
         "total_boosters": null,
         "total_boosters_per_hundred": null,
         "total_cases": null,
         "total_cases_per_million": null,
         "total_deaths": null,
         "total_deaths_per_million": null,
         "total_tests": null,
         "total_tests_per_thousand": null,
         "total_vaccinations": null,
         "total_vaccinations_per_hundred": null,
         "weekly_hosp_admissions": null,
         "weekly_hosp_admissions_per_million": null,
         "weekly_icu_admissions": null,
         "weekly_icu_admissions_per_million": null
        },
        {
         "aged_65_older": 2.581,
         "aged_70_older": 1.337,
         "cardiovasc_death_rate": 597.029,
         "continent": "Asia",
         "date": "2020-01-14",
         "diabetes_prevalence": 9.59,
         "excess_mortality": null,
         "excess_mortality_cumulative": null,
         "excess_mortality_cumulative_absolute": null,
         "excess_mortality_cumulative_per_million": null,
         "extreme_poverty": null,
         "female_smokers": null,
         "gdp_per_capita": 1803.987,
         "handwashing_facilities": 37.746,
         "hosp_patients": null,
         "hosp_patients_per_million": null,
         "hospital_beds_per_thousand": 0.5,
         "human_development_index": 0.511,
         "icu_patients": null,
         "icu_patients_per_million": null,
         "iso_code": "AFG",
         "life_expectancy": 64.83,
         "location": "Afghanistan",
         "male_smokers": null,
         "median_age": 18.6,
         "new_cases": 0,
         "new_cases_per_million": 0,
         "new_cases_smoothed": 0,
         "new_cases_smoothed_per_million": 0,
         "new_deaths": 0,
         "new_deaths_per_million": 0,
         "new_deaths_smoothed": 0,
         "new_deaths_smoothed_per_million": 0,
         "new_people_vaccinated_smoothed": null,
         "new_people_vaccinated_smoothed_per_hundred": null,
         "new_tests": null,
         "new_tests_per_thousand": null,
         "new_tests_smoothed": null,
         "new_tests_smoothed_per_thousand": null,
         "new_vaccinations": null,
         "new_vaccinations_smoothed": null,
         "new_vaccinations_smoothed_per_million": null,
         "people_fully_vaccinated": null,
         "people_fully_vaccinated_per_hundred": null,
         "people_vaccinated": null,
         "people_vaccinated_per_hundred": null,
         "population": 41128772,
         "population_density": 54.422,
         "positive_rate": null,
         "reproduction_rate": null,
         "stringency_index": 0,
         "tests_per_case": null,
         "tests_units": null,
         "total_boosters": null,
         "total_boosters_per_hundred": null,
         "total_cases": null,
         "total_cases_per_million": null,
         "total_deaths": null,
         "total_deaths_per_million": null,
         "total_tests": null,
         "total_tests_per_thousand": null,
         "total_vaccinations": null,
         "total_vaccinations_per_hundred": null,
         "weekly_hosp_admissions": null,
         "weekly_hosp_admissions_per_million": null,
         "weekly_icu_admissions": null,
         "weekly_icu_admissions_per_million": null
        }
       ],
       "schema": {
        "fields": [
         {
          "name": "iso_code",
          "type": "string"
         },
         {
          "name": "continent",
          "type": "string"
         },
         {
          "name": "location",
          "type": "string"
         },
         {
          "name": "date",
          "type": "string"
         },
         {
          "name": "total_cases",
          "type": "number"
         },
         {
          "name": "new_cases",
          "type": "number"
         },
         {
          "name": "new_cases_smoothed",
          "type": "number"
         },
         {
          "name": "total_deaths",
          "type": "number"
         },
         {
          "name": "new_deaths",
          "type": "number"
         },
         {
          "name": "new_deaths_smoothed",
          "type": "number"
         },
         {
          "name": "total_cases_per_million",
          "type": "number"
         },
         {
          "name": "new_cases_per_million",
          "type": "number"
         },
         {
          "name": "new_cases_smoothed_per_million",
          "type": "number"
         },
         {
          "name": "total_deaths_per_million",
          "type": "number"
         },
         {
          "name": "new_deaths_per_million",
          "type": "number"
         },
         {
          "name": "new_deaths_smoothed_per_million",
          "type": "number"
         },
         {
          "name": "reproduction_rate",
          "type": "number"
         },
         {
          "name": "icu_patients",
          "type": "string"
         },
         {
          "name": "icu_patients_per_million",
          "type": "string"
         },
         {
          "name": "hosp_patients",
          "type": "string"
         },
         {
          "name": "hosp_patients_per_million",
          "type": "string"
         },
         {
          "name": "weekly_icu_admissions",
          "type": "string"
         },
         {
          "name": "weekly_icu_admissions_per_million",
          "type": "string"
         },
         {
          "name": "weekly_hosp_admissions",
          "type": "string"
         },
         {
          "name": "weekly_hosp_admissions_per_million",
          "type": "string"
         },
         {
          "name": "total_tests",
          "type": "string"
         },
         {
          "name": "new_tests",
          "type": "string"
         },
         {
          "name": "total_tests_per_thousand",
          "type": "string"
         },
         {
          "name": "new_tests_per_thousand",
          "type": "string"
         },
         {
          "name": "new_tests_smoothed",
          "type": "string"
         },
         {
          "name": "new_tests_smoothed_per_thousand",
          "type": "string"
         },
         {
          "name": "positive_rate",
          "type": "string"
         },
         {
          "name": "tests_per_case",
          "type": "string"
         },
         {
          "name": "tests_units",
          "type": "string"
         },
         {
          "name": "total_vaccinations",
          "type": "string"
         },
         {
          "name": "people_vaccinated",
          "type": "string"
         },
         {
          "name": "people_fully_vaccinated",
          "type": "string"
         },
         {
          "name": "total_boosters",
          "type": "string"
         },
         {
          "name": "new_vaccinations",
          "type": "string"
         },
         {
          "name": "new_vaccinations_smoothed",
          "type": "string"
         },
         {
          "name": "total_vaccinations_per_hundred",
          "type": "string"
         },
         {
          "name": "people_vaccinated_per_hundred",
          "type": "string"
         },
         {
          "name": "people_fully_vaccinated_per_hundred",
          "type": "string"
         },
         {
          "name": "total_boosters_per_hundred",
          "type": "string"
         },
         {
          "name": "new_vaccinations_smoothed_per_million",
          "type": "string"
         },
         {
          "name": "new_people_vaccinated_smoothed",
          "type": "string"
         },
         {
          "name": "new_people_vaccinated_smoothed_per_hundred",
          "type": "string"
         },
         {
          "name": "stringency_index",
          "type": "number"
         },
         {
          "name": "population_density",
          "type": "number"
         },
         {
          "name": "median_age",
          "type": "number"
         },
         {
          "name": "aged_65_older",
          "type": "number"
         },
         {
          "name": "aged_70_older",
          "type": "number"
         },
         {
          "name": "gdp_per_capita",
          "type": "number"
         },
         {
          "name": "extreme_poverty",
          "type": "string"
         },
         {
          "name": "cardiovasc_death_rate",
          "type": "number"
         },
         {
          "name": "diabetes_prevalence",
          "type": "number"
         },
         {
          "name": "female_smokers",
          "type": "string"
         },
         {
          "name": "male_smokers",
          "type": "string"
         },
         {
          "name": "handwashing_facilities",
          "type": "number"
         },
         {
          "name": "hospital_beds_per_thousand",
          "type": "number"
         },
         {
          "name": "life_expectancy",
          "type": "number"
         },
         {
          "name": "human_development_index",
          "type": "number"
         },
         {
          "name": "population",
          "type": "number"
         },
         {
          "name": "excess_mortality_cumulative_absolute",
          "type": "string"
         },
         {
          "name": "excess_mortality_cumulative",
          "type": "string"
         },
         {
          "name": "excess_mortality",
          "type": "string"
         },
         {
          "name": "excess_mortality_cumulative_per_million",
          "type": "string"
         }
        ]
       }
      },
      "text/html": [
       "<table><thead><tr><th>iso_code</th><th>continent</th><th>location</th><th>date</th><th>total_cases</th><th>new_cases</th><th>new_cases_smoothed</th><th>total_deaths</th><th>new_deaths</th><th>new_deaths_smoothed</th><th>total_cases_per_million</th><th>new_cases_per_million</th><th>new_cases_smoothed_per_million</th><th>total_deaths_per_million</th><th>new_deaths_per_million</th><th>new_deaths_smoothed_per_million</th><th>reproduction_rate</th><th>icu_patients</th><th>icu_patients_per_million</th><th>hosp_patients</th><th>hosp_patients_per_million</th><th>weekly_icu_admissions</th><th>weekly_icu_admissions_per_million</th><th>weekly_hosp_admissions</th><th>weekly_hosp_admissions_per_million</th><th>total_tests</th><th>new_tests</th><th>total_tests_per_thousand</th><th>new_tests_per_thousand</th><th>new_tests_smoothed</th><th>new_tests_smoothed_per_thousand</th><th>positive_rate</th><th>tests_per_case</th><th>tests_units</th><th>total_vaccinations</th><th>people_vaccinated</th><th>people_fully_vaccinated</th><th>total_boosters</th><th>new_vaccinations</th><th>new_vaccinations_smoothed</th><th>total_vaccinations_per_hundred</th><th>people_vaccinated_per_hundred</th><th>people_fully_vaccinated_per_hundred</th><th>total_boosters_per_hundred</th><th>new_vaccinations_smoothed_per_million</th><th>new_people_vaccinated_smoothed</th><th>new_people_vaccinated_smoothed_per_hundred</th><th>stringency_index</th><th>population_density</th><th>median_age</th><th>aged_65_older</th><th>aged_70_older</th><th>gdp_per_capita</th><th>extreme_poverty</th><th>cardiovasc_death_rate</th><th>diabetes_prevalence</th><th>female_smokers</th><th>male_smokers</th><th>handwashing_facilities</th><th>hospital_beds_per_thousand</th><th>life_expectancy</th><th>human_development_index</th><th>population</th><th>excess_mortality_cumulative_absolute</th><th>excess_mortality_cumulative</th><th>excess_mortality</th><th>excess_mortality_cumulative_per_million</th></tr></thead><tbody><tr><td>AFG</td><td>Asia</td><td>Afghanistan</td><td>2020-01-05</td><td>null</td><td>0</td><td>null</td><td>null</td><td>0</td><td>null</td><td>null</td><td>0</td><td>null</td><td>null</td><td>0</td><td>null</td><td>null</td><td>null</td><td>null</td><td>null</td><td>null</td><td>null</td><td>null</td><td>null</td><td>null</td><td>null</td><td>null</td><td>null</td><td>null</td><td>null</td><td>null</td><td>null</td><td>null</td><td>null</td><td>null</td><td>null</td><td>null</td><td>null</td><td>null</td><td>null</td><td>null</td><td>null</td><td>null</td><td>null</td><td>null</td><td>null</td><td>null</td><td>0</td><td>54.422</td><td>18.6</td><td>2.581</td><td>1.337</td><td>1803.987</td><td>null</td><td>597.029</td><td>9.59</td><td>null</td><td>null</td><td>37.746</td><td>0.5</td><td>64.83</td><td>0.511</td><td>41128772</td><td>null</td><td>null</td><td>null</td><td>null</td></tr><tr><td>AFG</td><td>Asia</td><td>Afghanistan</td><td>2020-01-06</td><td>null</td><td>0</td><td>null</td><td>null</td><td>0</td><td>null</td><td>null</td><td>0</td><td>null</td><td>null</td><td>0</td><td>null</td><td>null</td><td>null</td><td>null</td><td>null</td><td>null</td><td>null</td><td>null</td><td>null</td><td>null</td><td>null</td><td>null</td><td>null</td><td>null</td><td>null</td><td>null</td><td>null</td><td>null</td><td>null</td><td>null</td><td>null</td><td>null</td><td>null</td><td>null</td><td>null</td><td>null</td><td>null</td><td>null</td><td>null</td><td>null</td><td>null</td><td>null</td><td>0</td><td>54.422</td><td>18.6</td><td>2.581</td><td>1.337</td><td>1803.987</td><td>null</td><td>597.029</td><td>9.59</td><td>null</td><td>null</td><td>37.746</td><td>0.5</td><td>64.83</td><td>0.511</td><td>41128772</td><td>null</td><td>null</td><td>null</td><td>null</td></tr><tr><td>AFG</td><td>Asia</td><td>Afghanistan</td><td>2020-01-07</td><td>null</td><td>0</td><td>null</td><td>null</td><td>0</td><td>null</td><td>null</td><td>0</td><td>null</td><td>null</td><td>0</td><td>null</td><td>null</td><td>null</td><td>null</td><td>null</td><td>null</td><td>null</td><td>null</td><td>null</td><td>null</td><td>null</td><td>null</td><td>null</td><td>null</td><td>null</td><td>null</td><td>null</td><td>null</td><td>null</td><td>null</td><td>null</td><td>null</td><td>null</td><td>null</td><td>null</td><td>null</td><td>null</td><td>null</td><td>null</td><td>null</td><td>null</td><td>null</td><td>0</td><td>54.422</td><td>18.6</td><td>2.581</td><td>1.337</td><td>1803.987</td><td>null</td><td>597.029</td><td>9.59</td><td>null</td><td>null</td><td>37.746</td><td>0.5</td><td>64.83</td><td>0.511</td><td>41128772</td><td>null</td><td>null</td><td>null</td><td>null</td></tr><tr><td>AFG</td><td>Asia</td><td>Afghanistan</td><td>2020-01-08</td><td>null</td><td>0</td><td>null</td><td>null</td><td>0</td><td>null</td><td>null</td><td>0</td><td>null</td><td>null</td><td>0</td><td>null</td><td>null</td><td>null</td><td>null</td><td>null</td><td>null</td><td>null</td><td>null</td><td>null</td><td>null</td><td>null</td><td>null</td><td>null</td><td>null</td><td>null</td><td>null</td><td>null</td><td>null</td><td>null</td><td>null</td><td>null</td><td>null</td><td>null</td><td>null</td><td>null</td><td>null</td><td>null</td><td>null</td><td>null</td><td>null</td><td>null</td><td>null</td><td>0</td><td>54.422</td><td>18.6</td><td>2.581</td><td>1.337</td><td>1803.987</td><td>null</td><td>597.029</td><td>9.59</td><td>null</td><td>null</td><td>37.746</td><td>0.5</td><td>64.83</td><td>0.511</td><td>41128772</td><td>null</td><td>null</td><td>null</td><td>null</td></tr><tr><td>AFG</td><td>Asia</td><td>Afghanistan</td><td>2020-01-09</td><td>null</td><td>0</td><td>null</td><td>null</td><td>0</td><td>null</td><td>null</td><td>0</td><td>null</td><td>null</td><td>0</td><td>null</td><td>null</td><td>null</td><td>null</td><td>null</td><td>null</td><td>null</td><td>null</td><td>null</td><td>null</td><td>null</td><td>null</td><td>null</td><td>null</td><td>null</td><td>null</td><td>null</td><td>null</td><td>null</td><td>null</td><td>null</td><td>null</td><td>null</td><td>null</td><td>null</td><td>null</td><td>null</td><td>null</td><td>null</td><td>null</td><td>null</td><td>null</td><td>0</td><td>54.422</td><td>18.6</td><td>2.581</td><td>1.337</td><td>1803.987</td><td>null</td><td>597.029</td><td>9.59</td><td>null</td><td>null</td><td>37.746</td><td>0.5</td><td>64.83</td><td>0.511</td><td>41128772</td><td>null</td><td>null</td><td>null</td><td>null</td></tr><tr><td>AFG</td><td>Asia</td><td>Afghanistan</td><td>2020-01-10</td><td>null</td><td>0</td><td>0</td><td>null</td><td>0</td><td>0</td><td>null</td><td>0</td><td>0</td><td>null</td><td>0</td><td>0</td><td>null</td><td>null</td><td>null</td><td>null</td><td>null</td><td>null</td><td>null</td><td>null</td><td>null</td><td>null</td><td>null</td><td>null</td><td>null</td><td>null</td><td>null</td><td>null</td><td>null</td><td>null</td><td>null</td><td>null</td><td>null</td><td>null</td><td>null</td><td>null</td><td>null</td><td>null</td><td>null</td><td>null</td><td>null</td><td>null</td><td>null</td><td>0</td><td>54.422</td><td>18.6</td><td>2.581</td><td>1.337</td><td>1803.987</td><td>null</td><td>597.029</td><td>9.59</td><td>null</td><td>null</td><td>37.746</td><td>0.5</td><td>64.83</td><td>0.511</td><td>41128772</td><td>null</td><td>null</td><td>null</td><td>null</td></tr><tr><td>AFG</td><td>Asia</td><td>Afghanistan</td><td>2020-01-11</td><td>null</td><td>0</td><td>0</td><td>null</td><td>0</td><td>0</td><td>null</td><td>0</td><td>0</td><td>null</td><td>0</td><td>0</td><td>null</td><td>null</td><td>null</td><td>null</td><td>null</td><td>null</td><td>null</td><td>null</td><td>null</td><td>null</td><td>null</td><td>null</td><td>null</td><td>null</td><td>null</td><td>null</td><td>null</td><td>null</td><td>null</td><td>null</td><td>null</td><td>null</td><td>null</td><td>null</td><td>null</td><td>null</td><td>null</td><td>null</td><td>null</td><td>null</td><td>null</td><td>0</td><td>54.422</td><td>18.6</td><td>2.581</td><td>1.337</td><td>1803.987</td><td>null</td><td>597.029</td><td>9.59</td><td>null</td><td>null</td><td>37.746</td><td>0.5</td><td>64.83</td><td>0.511</td><td>41128772</td><td>null</td><td>null</td><td>null</td><td>null</td></tr><tr><td>AFG</td><td>Asia</td><td>Afghanistan</td><td>2020-01-12</td><td>null</td><td>0</td><td>0</td><td>null</td><td>0</td><td>0</td><td>null</td><td>0</td><td>0</td><td>null</td><td>0</td><td>0</td><td>null</td><td>null</td><td>null</td><td>null</td><td>null</td><td>null</td><td>null</td><td>null</td><td>null</td><td>null</td><td>null</td><td>null</td><td>null</td><td>null</td><td>null</td><td>null</td><td>null</td><td>null</td><td>null</td><td>null</td><td>null</td><td>null</td><td>null</td><td>null</td><td>null</td><td>null</td><td>null</td><td>null</td><td>null</td><td>null</td><td>null</td><td>0</td><td>54.422</td><td>18.6</td><td>2.581</td><td>1.337</td><td>1803.987</td><td>null</td><td>597.029</td><td>9.59</td><td>null</td><td>null</td><td>37.746</td><td>0.5</td><td>64.83</td><td>0.511</td><td>41128772</td><td>null</td><td>null</td><td>null</td><td>null</td></tr><tr><td>AFG</td><td>Asia</td><td>Afghanistan</td><td>2020-01-13</td><td>null</td><td>0</td><td>0</td><td>null</td><td>0</td><td>0</td><td>null</td><td>0</td><td>0</td><td>null</td><td>0</td><td>0</td><td>null</td><td>null</td><td>null</td><td>null</td><td>null</td><td>null</td><td>null</td><td>null</td><td>null</td><td>null</td><td>null</td><td>null</td><td>null</td><td>null</td><td>null</td><td>null</td><td>null</td><td>null</td><td>null</td><td>null</td><td>null</td><td>null</td><td>null</td><td>null</td><td>null</td><td>null</td><td>null</td><td>null</td><td>null</td><td>null</td><td>null</td><td>0</td><td>54.422</td><td>18.6</td><td>2.581</td><td>1.337</td><td>1803.987</td><td>null</td><td>597.029</td><td>9.59</td><td>null</td><td>null</td><td>37.746</td><td>0.5</td><td>64.83</td><td>0.511</td><td>41128772</td><td>null</td><td>null</td><td>null</td><td>null</td></tr><tr><td>AFG</td><td>Asia</td><td>Afghanistan</td><td>2020-01-14</td><td>null</td><td>0</td><td>0</td><td>null</td><td>0</td><td>0</td><td>null</td><td>0</td><td>0</td><td>null</td><td>0</td><td>0</td><td>null</td><td>null</td><td>null</td><td>null</td><td>null</td><td>null</td><td>null</td><td>null</td><td>null</td><td>null</td><td>null</td><td>null</td><td>null</td><td>null</td><td>null</td><td>null</td><td>null</td><td>null</td><td>null</td><td>null</td><td>null</td><td>null</td><td>null</td><td>null</td><td>null</td><td>null</td><td>null</td><td>null</td><td>null</td><td>null</td><td>null</td><td>0</td><td>54.422</td><td>18.6</td><td>2.581</td><td>1.337</td><td>1803.987</td><td>null</td><td>597.029</td><td>9.59</td><td>null</td><td>null</td><td>37.746</td><td>0.5</td><td>64.83</td><td>0.511</td><td>41128772</td><td>null</td><td>null</td><td>null</td><td>null</td></tr></tbody></table>"
      ]
     },
     "execution_count": 15,
     "metadata": {},
     "output_type": "execute_result"
    }
   ],
   "source": [
    " pl.readCSV(data, { sep: \",\" }).head(10)"
   ]
  },
  {
   "cell_type": "code",
   "execution_count": null,
   "id": "24fba16d-df38-49a1-970f-343d1bd198c5",
   "metadata": {},
   "outputs": [],
   "source": []
  }
 ],
 "metadata": {
  "kernelspec": {
   "display_name": "Deno",
   "language": "typescript",
   "name": "deno"
  },
  "language_info": {
   "file_extension": ".ts",
   "mimetype": "text/x.typescript",
   "name": "typescript",
   "nb_converter": "script",
   "pygments_lexer": "typescript",
   "version": "5.3.3"
  }
 },
 "nbformat": 4,
 "nbformat_minor": 5
}
