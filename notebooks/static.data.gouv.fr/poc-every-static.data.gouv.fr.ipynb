{
 "cells": [
  {
   "cell_type": "markdown",
   "id": "9bd83d73-3578-4abb-af53-fc6d6f2c20c8",
   "metadata": {},
   "source": [
    "# Récupération des données depuis static.data.gouv.fr"
   ]
  },
  {
   "cell_type": "markdown",
   "id": "96ea3dfa-3b90-4688-84da-e72a40df66d7",
   "metadata": {},
   "source": [
    "## reformatage des données brute .txt en données .csv"
   ]
  },
  {
   "cell_type": "markdown",
   "id": "3b6e6627-acb8-41a1-bc69-a0e3b7e0628d",
   "metadata": {},
   "source": [
    "## from  040_deces_francais.R\n",
    "```R\n",
    "# Largeur des champs dans le fichier\n",
    "fields_widths <- c(\t\t\t\t\t# Colonne :\n",
    "        nom = 80,\t\t\t\t\t# 80\n",
    "        sexe = 1,\t\t\t\t\t# 81\n",
    "        naissance_date = 8,\t\t\t# 89\n",
    "        naissance_code_lieu = 5,\t# 94\n",
    "        naissance_commune = 30,\t\t# 124\n",
    "        naissance_pays = 30,\t\t# 154\n",
    "        deces_date = 8,\t\t\t\t# 162\n",
    "        deces_code_lieu = 5,\t\t# 167\n",
    "        deces_numero_acte = 9\t\t# 176\n",
    ")\n",
    "```"
   ]
  },
  {
   "cell_type": "markdown",
   "id": "2a891891-d1c2-433f-a585-8831fb9604d8",
   "metadata": {},
   "source": [
    "## typescript version"
   ]
  },
  {
   "cell_type": "code",
   "execution_count": 3,
   "id": "9b16c637-b2dc-42a1-93e7-7cceb88d6cfb",
   "metadata": {},
   "outputs": [],
   "source": [
    "function txt2csv(dataLine: String): String {\n",
    "    return dataLine.substring(0,80).replace(\"*\",\" \").replace(\"/\",\"\")+\",\"+\n",
    "        dataLine.substring(80,81)+\",\"+\n",
    "        dataLine.substring(81,89)+\",\"+\n",
    "        dataLine.substring(89,94)+\",\"+\n",
    "        dataLine.substring(94,124)+\",\"+\n",
    "        dataLine.substring(124,154)+\",\"+\n",
    "        dataLine.substring(154,162)+\",\"+\n",
    "        dataLine.substring(162,167)+\",\"+\n",
    "        dataLine.substring(167,176)+\"\\r\\n\"\n",
    "}"
   ]
  },
  {
   "cell_type": "markdown",
   "id": "387bc9e8-210b-4878-8cb4-20114f82a1b6",
   "metadata": {},
   "source": [
    "## Tableau des ressources a ingerer "
   ]
  },
  {
   "cell_type": "code",
   "execution_count": 4,
   "id": "5830f08f-c446-43ab-b1c2-b29f9ebf6ec0",
   "metadata": {},
   "outputs": [],
   "source": [
    "const listes_deces: String[] = [\n",
    "  { date: '2023-t2', url: 'https://static.data.gouv.fr/resources/fichier-des-personnes-decedees/20230712-130137/deces-2023-t2.txt'},\n",
    "  { date: '2023-t1', url: 'https://static.data.gouv.fr/resources/fichier-des-personnes-decedees/20230412-140241/deces-2023-t1.txt'},\n",
    "  { date: '2022', url: 'https://static.data.gouv.fr/resources/fichier-des-personnes-decedees/20230209-094802/deces-2022.txt'},\n",
    "  { date: '2021', url: 'https://static.data.gouv.fr/resources/fichier-des-personnes-decedees/20220112-114131/deces-2021.txt'},\n",
    "  { date: '2020', url: 'https://static.data.gouv.fr/resources/fichier-des-personnes-decedees/20210112-143457/deces-2020.txt'},\n",
    "  { date: '2019', url: 'https://static.data.gouv.fr/resources/fichier-des-personnes-decedees/20200113-173945/deces-2019.txt'},\n",
    "  { date: '2018', url: 'https://static.data.gouv.fr/resources/fichier-des-personnes-decedees/20191205-191652/deces-2018.txt'},\n",
    "  { date: '2017', url: 'https://static.data.gouv.fr/resources/fichier-des-personnes-decedees/20191209-192304/deces-2017.txt'},\n",
    "  { date: '2016', url: 'https://static.data.gouv.fr/resources/fichier-des-personnes-decedees/20191209-192203/deces-2016.txt'},\n",
    "  { date: '2015', url: 'https://static.data.gouv.fr/resources/fichier-des-personnes-decedees/20191209-192119/deces-2015.txt'},\n",
    "  { date: '2014', url: 'https://static.data.gouv.fr/resources/fichier-des-personnes-decedees/20191209-192022/deces-2014.txt'},\n",
    "  { date: '2013', url: 'https://static.data.gouv.fr/resources/fichier-des-personnes-decedees/20191209-191938/deces-2013.txt'},\n",
    "  { date: '2012', url: 'https://static.data.gouv.fr/resources/fichier-des-personnes-decedees/20191209-191851/deces-2012.txt'},\n",
    "  { date: '2011', url: 'https://static.data.gouv.fr/resources/fichier-des-personnes-decedees/20191209-191745/deces-2011.txt'},\n",
    "  { date: '2010', url: 'https://static.data.gouv.fr/resources/fichier-des-personnes-decedees/20191209-191659/deces-2010.txt'}\n",
    "]"
   ]
  },
  {
   "cell_type": "markdown",
   "id": "d22ada70-21be-492c-a339-0363d171cac1",
   "metadata": {},
   "source": [
    "## Utilisation de polars pour valider & visualiser nos données"
   ]
  },
  {
   "cell_type": "code",
   "execution_count": 5,
   "id": "aa21dca5-e92e-496e-ad03-ca27d815b977",
   "metadata": {},
   "outputs": [],
   "source": [
    "import pl from \"npm:nodejs-polars\";"
   ]
  },
  {
   "cell_type": "markdown",
   "id": "2cbd8708-febb-4710-b37f-0aa8adec222c",
   "metadata": {},
   "source": [
    "## Recuperaration de données\n",
    "* https://static.data.gouv.fr/resources/fichier-des-personnes-decedees/20230209-094802/deces-2022.txt\n",
    "* j'ai limité la conversion aux 1000 1er echantillons, parce que sur la totalité mon laptop crash"
   ]
  },
  {
   "cell_type": "code",
   "execution_count": 6,
   "id": "7dfe3ff1-6fd0-4e9a-8315-a3d5297bf6a3",
   "metadata": {},
   "outputs": [],
   "source": [
    "const response: Promise = await fetch( 'https://static.data.gouv.fr/resources/fichier-des-personnes-decedees/20230209-094802/deces-2022.txt' )"
   ]
  },
  {
   "cell_type": "markdown",
   "id": "881c7582-95ce-4d33-a051-9e98875addac",
   "metadata": {},
   "source": [
    "## Reformatage des donnés (1000 1er echantillons)"
   ]
  },
  {
   "cell_type": "code",
   "execution_count": 7,
   "id": "c6d3cfb2-93ba-40f1-9649-96d3702d7b48",
   "metadata": {},
   "outputs": [
    {
     "data": {
      "text/plain": [
       "\u001b[32m\"Nom,sexe,naissance_date,naissance_code_lieu,naissance_commune,naissance_pays,deces_date,deces_code_l\"\u001b[39m... 185022 more characters"
      ]
     },
     "execution_count": 7,
     "metadata": {},
     "output_type": "execute_result"
    }
   ],
   "source": [
    "let reformated: String = \"\"\n",
    "if (response.ok) {\n",
    "    const data: String = await response.text();\n",
    "    reformated += \"Nom,sexe,naissance_date,naissance_code_lieu,naissance_commune,naissance_pays,deces_date,deces_code_lieu,deces_numero_acte\\n\"\n",
    "    const txttocsv: String[] = data.split(\"\\n\")\n",
    "    for (let i: number=0; i < 1000; i++) reformated += txt2csv(txttocsv[i])\n",
    "} else {\n",
    "    console.log(\"erreur HTTP 404\")\n",
    "}"
   ]
  },
  {
   "cell_type": "code",
   "execution_count": 8,
   "id": "3b4416e6-5440-4f3f-80ff-3a633d0a00a8",
   "metadata": {},
   "outputs": [
    {
     "data": {
      "application/vnd.dataresource+json": {
       "data": [
        {
         "Nom": "VOYLE JEAN                                                                     ",
         "deces_code_lieu": 1004,
         "deces_date": 20220124,
         "deces_numero_acte": "26       ",
         "naissance_code_lieu": 74281,
         "naissance_commune": "THONON-LES-BAINS              ",
         "naissance_date": 19220925,
         "naissance_pays": "                              ",
         "sexe": 1
        },
        {
         "Nom": "GIRARD YVONNE LOUISE                                                           ",
         "deces_code_lieu": 1004,
         "deces_date": 20220110,
         "deces_numero_acte": "14       ",
         "naissance_code_lieu": 1255,
         "naissance_commune": "MONTAGNIEU                    ",
         "naissance_date": 19270810,
         "naissance_pays": "                              ",
         "sexe": 2
        },
        {
         "Nom": "DUMARCHEY RENEE                                                                ",
         "deces_code_lieu": 1004,
         "deces_date": 20211227,
         "deces_numero_acte": "265      ",
         "naissance_code_lieu": 1004,
         "naissance_commune": "AMBERIEU-EN-BUGEY             ",
         "naissance_date": 19270407,
         "naissance_pays": "                              ",
         "sexe": 2
        },
        {
         "Nom": "MARECHAL JULIETTE                                                              ",
         "deces_code_lieu": 1004,
         "deces_date": 20211230,
         "deces_numero_acte": "3        ",
         "naissance_code_lieu": 1053,
         "naissance_commune": "BOURG-EN-BRESSE               ",
         "naissance_date": 19321115,
         "naissance_pays": "                              ",
         "sexe": 2
        },
        {
         "Nom": "FREMAUX GEORGES ARTHUR                                                         ",
         "deces_code_lieu": 1004,
         "deces_date": 20220102,
         "deces_numero_acte": "2        ",
         "naissance_code_lieu": 1373,
         "naissance_commune": "SAINT-MARTIN-DU-FRENE         ",
         "naissance_date": 19290505,
         "naissance_pays": "                              ",
         "sexe": 1
        },
        {
         "Nom": "BARD NADINE MURIELLE MICHELLE                                                  ",
         "deces_code_lieu": 1004,
         "deces_date": 20211226,
         "deces_numero_acte": "4        ",
         "naissance_code_lieu": 1053,
         "naissance_commune": "BOURG-EN-BRESSE               ",
         "naissance_date": 19670715,
         "naissance_pays": "                              ",
         "sexe": 2
        },
        {
         "Nom": "MORIN MARCELLE ALBERTINE                                                       ",
         "deces_code_lieu": 1004,
         "deces_date": 20220101,
         "deces_numero_acte": "1        ",
         "naissance_code_lieu": 71373,
         "naissance_commune": "ROMENAY                       ",
         "naissance_date": 19271029,
         "naissance_pays": "                              ",
         "sexe": 2
        },
        {
         "Nom": "MERMAND SIMONNE                                                                ",
         "deces_code_lieu": 1004,
         "deces_date": 20220107,
         "deces_numero_acte": "13       ",
         "naissance_code_lieu": 1202,
         "naissance_commune": "LAGNIEU                       ",
         "naissance_date": 19290417,
         "naissance_pays": "                              ",
         "sexe": 2
        },
        {
         "Nom": "DURAND MOISE DESIRE HENRI                                                      ",
         "deces_code_lieu": 1004,
         "deces_date": 20220103,
         "deces_numero_acte": "9        ",
         "naissance_code_lieu": 60122,
         "naissance_commune": "CAMPEAUX                      ",
         "naissance_date": 19470601,
         "naissance_pays": "                              ",
         "sexe": 1
        },
        {
         "Nom": "EMONARD YVETTE ROSE                                                            ",
         "deces_code_lieu": 1004,
         "deces_date": 20220121,
         "deces_numero_acte": "25       ",
         "naissance_code_lieu": 1199,
         "naissance_commune": "JUJURIEUX                     ",
         "naissance_date": 19311030,
         "naissance_pays": "                              ",
         "sexe": 2
        },
        {
         "Nom": "CHALLOIT MARCELLE GEORGETTE                                                    ",
         "deces_code_lieu": 1004,
         "deces_date": 20220104,
         "deces_numero_acte": "8        ",
         "naissance_code_lieu": 54395,
         "naissance_commune": "NANCY                         ",
         "naissance_date": 19231230,
         "naissance_pays": "                              ",
         "sexe": 2
        },
        {
         "Nom": "VIANNAY ANNICK LAURENCE                                                        ",
         "deces_code_lieu": 1004,
         "deces_date": 20220101,
         "deces_numero_acte": "5        ",
         "naissance_code_lieu": 1053,
         "naissance_commune": "BOURG-EN-BRESSE               ",
         "naissance_date": 19470831,
         "naissance_pays": "                              ",
         "sexe": 2
        },
        {
         "Nom": "MONARD MARIE ROSE                                                              ",
         "deces_code_lieu": 1004,
         "deces_date": 20220103,
         "deces_numero_acte": "6        ",
         "naissance_code_lieu": 1172,
         "naissance_commune": "GERMAGNAT                     ",
         "naissance_date": 19310308,
         "naissance_pays": "                              ",
         "sexe": 2
        },
        {
         "Nom": "LEBRUN HENRI RAYMOND                                                           ",
         "deces_code_lieu": 1004,
         "deces_date": 20220122,
         "deces_numero_acte": "24       ",
         "naissance_code_lieu": 87085,
         "naissance_commune": "LIMOGES                       ",
         "naissance_date": 19280412,
         "naissance_pays": "                              ",
         "sexe": 1
        },
        {
         "Nom": "SASSOUE VICTOR JEAN                                                            ",
         "deces_code_lieu": 1004,
         "deces_date": 20220108,
         "deces_numero_acte": "12       ",
         "naissance_code_lieu": 73223,
         "naissance_commune": "SAINT-ANDRE                   ",
         "naissance_date": 19351121,
         "naissance_pays": "                              ",
         "sexe": 1
        },
        {
         "Nom": "BONETTI MAURICE                                                                ",
         "deces_code_lieu": 1004,
         "deces_date": 20220113,
         "deces_numero_acte": "16       ",
         "naissance_code_lieu": 1199,
         "naissance_commune": "JUJURIEUX                     ",
         "naissance_date": 19360829,
         "naissance_pays": "                              ",
         "sexe": 1
        },
        {
         "Nom": "JACQUET RENEE                                                                  ",
         "deces_code_lieu": 1004,
         "deces_date": 20220119,
         "deces_numero_acte": "23       ",
         "naissance_code_lieu": 1007,
         "naissance_commune": "AMBRONAY                      ",
         "naissance_date": 19350225,
         "naissance_pays": "                              ",
         "sexe": 2
        },
        {
         "Nom": "BIGOT ALAIN                                                                    ",
         "deces_code_lieu": 1004,
         "deces_date": 20220117,
         "deces_numero_acte": "22       ",
         "naissance_code_lieu": 1053,
         "naissance_commune": "BOURG-EN-BRESSE               ",
         "naissance_date": 19540222,
         "naissance_pays": "                              ",
         "sexe": 1
        },
        {
         "Nom": "CATIN JOSETTE                                                                  ",
         "deces_code_lieu": 1004,
         "deces_date": 20220118,
         "deces_numero_acte": "20       ",
         "naissance_code_lieu": 38085,
         "naissance_commune": "CHARVIEU-CHAVAGNEUX           ",
         "naissance_date": 19400428,
         "naissance_pays": "                              ",
         "sexe": 2
        },
        {
         "Nom": "MEREAUD ROBERT                                                                 ",
         "deces_code_lieu": 1004,
         "deces_date": 20220117,
         "deces_numero_acte": "19       ",
         "naissance_code_lieu": 1393,
         "naissance_commune": "SANDRANS                      ",
         "naissance_date": 19480717,
         "naissance_pays": "                              ",
         "sexe": 1
        },
        {
         "Nom": "PERVIER-GUILBAUD JEAN-PIERRE GUY                                               ",
         "deces_code_lieu": 1004,
         "deces_date": 20220117,
         "deces_numero_acte": "18       ",
         "naissance_code_lieu": 50129,
         "naissance_commune": "CHERBOURG-EN-COTENTIN         ",
         "naissance_date": 19490209,
         "naissance_pays": "                              ",
         "sexe": 1
        },
        {
         "Nom": "RIVIERE ALAIN EUGENE MARIE                                                     ",
         "deces_code_lieu": 1005,
         "deces_date": 20211218,
         "deces_numero_acte": "9        ",
         "naissance_code_lieu": 69383,
         "naissance_commune": "LYON 3E  ARRONDISSEMENT       ",
         "naissance_date": 19471014,
         "naissance_pays": "                              ",
         "sexe": 1
        },
        {
         "Nom": "DURAND YVES                                                                    ",
         "deces_code_lieu": 1007,
         "deces_date": 20220107,
         "deces_numero_acte": "1        ",
         "naissance_code_lieu": 1007,
         "naissance_commune": "AMBRONAY                      ",
         "naissance_date": 19530101,
         "naissance_pays": "                              ",
         "sexe": 1
        },
        {
         "Nom": "JOBEZ CLAUDE                                                                   ",
         "deces_code_lieu": 1008,
         "deces_date": 20211221,
         "deces_numero_acte": "6        ",
         "naissance_code_lieu": 1053,
         "naissance_commune": "BOURG-EN-BRESSE               ",
         "naissance_date": 19460501,
         "naissance_pays": "                              ",
         "sexe": 1
        },
        {
         "Nom": "HASELHOFF PHILIPPE CHRISTIAN                                                   ",
         "deces_code_lieu": 1008,
         "deces_date": 20220115,
         "deces_numero_acte": "1        ",
         "naissance_code_lieu": 76540,
         "naissance_commune": "ROUEN                         ",
         "naissance_date": 19620503,
         "naissance_pays": "                              ",
         "sexe": 1
        },
        {
         "Nom": "BEAUCHER JEAN-PASCAL MARCEL                                                    ",
         "deces_code_lieu": 1014,
         "deces_date": 20220126,
         "deces_numero_acte": "4        ",
         "naissance_code_lieu": 80021,
         "naissance_commune": "AMIENS                        ",
         "naissance_date": 19480131,
         "naissance_pays": "                              ",
         "sexe": 1
        },
        {
         "Nom": "LONG VIVIANE                                                                   ",
         "deces_code_lieu": 1014,
         "deces_date": 20220102,
         "deces_numero_acte": "1        ",
         "naissance_code_lieu": 87085,
         "naissance_commune": "LIMOGES                       ",
         "naissance_date": 19460621,
         "naissance_pays": "                              ",
         "sexe": 2
        },
        {
         "Nom": "CAPELLI JOCELIN                                                                ",
         "deces_code_lieu": 1014,
         "deces_date": 20211227,
         "deces_numero_acte": "36       ",
         "naissance_code_lieu": 1283,
         "naissance_commune": "OYONNAX                       ",
         "naissance_date": 19830108,
         "naissance_pays": "                              ",
         "sexe": 1
        },
        {
         "Nom": "FROSSARD SYLVIANE MARIE ANTOINETTE                                             ",
         "deces_code_lieu": 1014,
         "deces_date": 20220105,
         "deces_numero_acte": "2        ",
         "naissance_code_lieu": 39318,
         "naissance_commune": "MARTIGNA                      ",
         "naissance_date": 19230610,
         "naissance_pays": "                              ",
         "sexe": 2
        },
        {
         "Nom": "BOLL HADRIEN                                                                   ",
         "deces_code_lieu": 1022,
         "deces_date": 20220117,
         "deces_numero_acte": "1        ",
         "naissance_code_lieu": 78498,
         "naissance_commune": "POISSY                        ",
         "naissance_date": 19851130,
         "naissance_pays": "                              ",
         "sexe": 1
        },
        {
         "Nom": "BREVET MARIE CECILE ODETTE                                                     ",
         "deces_code_lieu": 1024,
         "deces_date": 20220110,
         "deces_numero_acte": "1        ",
         "naissance_code_lieu": 1266,
         "naissance_commune": "MONTREVEL-EN-BRESSE           ",
         "naissance_date": 19260825,
         "naissance_pays": "                              ",
         "sexe": 2
        },
        {
         "Nom": "ALLAGNAT CHRISTIAN                                                             ",
         "deces_code_lieu": 1025,
         "deces_date": 20220115,
         "deces_numero_acte": "1        ",
         "naissance_code_lieu": 1283,
         "naissance_commune": "OYONNAX                       ",
         "naissance_date": 19661123,
         "naissance_pays": "                              ",
         "sexe": 1
        },
        {
         "Nom": "BOYAT HENRIETTE MARIE ALEXANDRINE                                              ",
         "deces_code_lieu": 1026,
         "deces_date": 20220115,
         "deces_numero_acte": "02       ",
         "naissance_code_lieu": 1231,
         "naissance_commune": "MANZIAT                       ",
         "naissance_date": 19240704,
         "naissance_pays": "                              ",
         "sexe": 2
        },
        {
         "Nom": "PALANCHON ODILE                                                                ",
         "deces_code_lieu": 1026,
         "deces_date": 20220113,
         "deces_numero_acte": "01       ",
         "naissance_code_lieu": 1096,
         "naissance_commune": "CHAVEYRIAT                    ",
         "naissance_date": 19340922,
         "naissance_pays": "                              ",
         "sexe": 2
        },
        {
         "Nom": "CRAMPON MICHELLE ANDREE                                                        ",
         "deces_code_lieu": 1032,
         "deces_date": 20220106,
         "deces_numero_acte": "3        ",
         "naissance_code_lieu": 1004,
         "naissance_commune": "AMBERIEU-EN-BUGEY             ",
         "naissance_date": 19430406,
         "naissance_pays": "                              ",
         "sexe": 2
        },
        {
         "Nom": "MARTINET CLAUDIA MADELEINE                                                     ",
         "deces_code_lieu": 1032,
         "deces_date": 20220101,
         "deces_numero_acte": "2        ",
         "naissance_code_lieu": 69266,
         "naissance_commune": "VILLEURBANNE                  ",
         "naissance_date": 19290105,
         "naissance_pays": "                              ",
         "sexe": 2
        },
        {
         "Nom": "GUEZE JEANNE                                                                   ",
         "deces_code_lieu": 1032,
         "deces_date": 20220122,
         "deces_numero_acte": "5        ",
         "naissance_code_lieu": 69382,
         "naissance_commune": "LYON 2E  ARRONDISSEMENT       ",
         "naissance_date": 19250415,
         "naissance_pays": "                              ",
         "sexe": 2
        },
        {
         "Nom": "ROBIN JEAN                                                                     ",
         "deces_code_lieu": 1033,
         "deces_date": 20220122,
         "deces_numero_acte": "8        ",
         "naissance_code_lieu": 1033,
         "naissance_commune": "VALSERHONE                    ",
         "naissance_date": 19290802,
         "naissance_pays": "                              ",
         "sexe": 1
        },
        {
         "Nom": "BOURGEAT JOSEPH EUGENE                                                         ",
         "deces_code_lieu": 1033,
         "deces_date": 20220117,
         "deces_numero_acte": "5        ",
         "naissance_code_lieu": 38400,
         "naissance_commune": "SAINT-JEAN-DE-MOIRANS         ",
         "naissance_date": 19340302,
         "naissance_pays": "                              ",
         "sexe": 1
        },
        {
         "Nom": "DUPONT YVETTE MARIE                                                            ",
         "deces_code_lieu": 1033,
         "deces_date": 20220118,
         "deces_numero_acte": "4        ",
         "naissance_code_lieu": 74183,
         "naissance_commune": "MIEUSSY                       ",
         "naissance_date": 19360306,
         "naissance_pays": "                              ",
         "sexe": 2
        },
        {
         "Nom": "BASTARD JEAN MARC                                                              ",
         "deces_code_lieu": 1033,
         "deces_date": 20220108,
         "deces_numero_acte": "2        ",
         "naissance_code_lieu": 74159,
         "naissance_commune": "MAGLAND                       ",
         "naissance_date": 19331031,
         "naissance_pays": "                              ",
         "sexe": 1
        },
        {
         "Nom": "DEBOIS CLAUDE DESIRE                                                           ",
         "deces_code_lieu": 1033,
         "deces_date": 20220120,
         "deces_numero_acte": "7        ",
         "naissance_code_lieu": 39478,
         "naissance_commune": "SAINT-CLAUDE                  ",
         "naissance_date": 19320402,
         "naissance_pays": "                              ",
         "sexe": 1
        },
        {
         "Nom": "LAUTH SEBASTIEN                                                                ",
         "deces_code_lieu": 1033,
         "deces_date": 20220107,
         "deces_numero_acte": "1        ",
         "naissance_code_lieu": 13054,
         "naissance_commune": "MARIGNANE                     ",
         "naissance_date": 19800614,
         "naissance_pays": "                              ",
         "sexe": 1
        },
        {
         "Nom": "LAGOUTTE CLAUDE ALAIN                                                          ",
         "deces_code_lieu": 1034,
         "deces_date": 20220123,
         "deces_numero_acte": "23       ",
         "naissance_code_lieu": 1034,
         "naissance_commune": "BELLEY                        ",
         "naissance_date": 19520113,
         "naissance_pays": "                              ",
         "sexe": 1
        },
        {
         "Nom": "ROBIN JACQUES ROBERT                                                           ",
         "deces_code_lieu": 1034,
         "deces_date": 20220120,
         "deces_numero_acte": "22       ",
         "naissance_code_lieu": 1053,
         "naissance_commune": "BOURG-EN-BRESSE               ",
         "naissance_date": 19530803,
         "naissance_pays": "                              ",
         "sexe": 1
        },
        {
         "Nom": "RIVET SIMONE FLORENCE                                                          ",
         "deces_code_lieu": 1034,
         "deces_date": 20220123,
         "deces_numero_acte": "25       ",
         "naissance_code_lieu": 1454,
         "naissance_commune": "VIRIGNIN                      ",
         "naissance_date": 19360830,
         "naissance_pays": "                              ",
         "sexe": 2
        },
        {
         "Nom": "LIRAVAUX JACQUELINE EMILIENNE                                                  ",
         "deces_code_lieu": 1034,
         "deces_date": 20220103,
         "deces_numero_acte": "8        ",
         "naissance_code_lieu": 75120,
         "naissance_commune": "PARIS 20E  ARRONDISSEMENT     ",
         "naissance_date": 19240610,
         "naissance_pays": "                              ",
         "sexe": 2
        },
        {
         "Nom": "FERRA CLAUDE RENE                                                              ",
         "deces_code_lieu": 1034,
         "deces_date": 20220123,
         "deces_numero_acte": "24       ",
         "naissance_code_lieu": 69383,
         "naissance_commune": "LYON 3E  ARRONDISSEMENT       ",
         "naissance_date": 19390413,
         "naissance_pays": "                              ",
         "sexe": 1
        },
        {
         "Nom": "CONAND ANDRE LOUIS                                                             ",
         "deces_code_lieu": 1034,
         "deces_date": 20220103,
         "deces_numero_acte": "6        ",
         "naissance_code_lieu": 1216,
         "naissance_commune": "LHUIS                         ",
         "naissance_date": 19350411,
         "naissance_pays": "                              ",
         "sexe": 1
        },
        {
         "Nom": "BINOIS ODETTE DENISE                                                           ",
         "deces_code_lieu": 1034,
         "deces_date": 20220101,
         "deces_numero_acte": "7        ",
         "naissance_code_lieu": 28352,
         "naissance_commune": "SAINT-MARTIN-DE-NIGELLES      ",
         "naissance_date": 19310703,
         "naissance_pays": "                              ",
         "sexe": 2
        }
       ],
       "schema": {
        "fields": [
         {
          "name": "Nom",
          "type": "string"
         },
         {
          "name": "sexe",
          "type": "integer"
         },
         {
          "name": "naissance_date",
          "type": "integer"
         },
         {
          "name": "naissance_code_lieu",
          "type": "integer"
         },
         {
          "name": "naissance_commune",
          "type": "string"
         },
         {
          "name": "naissance_pays",
          "type": "string"
         },
         {
          "name": "deces_date",
          "type": "integer"
         },
         {
          "name": "deces_code_lieu",
          "type": "integer"
         },
         {
          "name": "deces_numero_acte",
          "type": "string"
         }
        ]
       }
      },
      "text/html": [
       "<table><thead><tr><th>Nom</th><th>sexe</th><th>naissance_date</th><th>naissance_code_lieu</th><th>naissance_commune</th><th>naissance_pays</th><th>deces_date</th><th>deces_code_lieu</th><th>deces_numero_acte</th></tr></thead><tbody><tr><td>VOYLE JEAN                                                                     </td><td>1</td><td>19220925</td><td>74281</td><td>THONON-LES-BAINS              </td><td>                              </td><td>20220124</td><td>1004</td><td>26       </td></tr><tr><td>GIRARD YVONNE LOUISE                                                           </td><td>2</td><td>19270810</td><td>1255</td><td>MONTAGNIEU                    </td><td>                              </td><td>20220110</td><td>1004</td><td>14       </td></tr><tr><td>DUMARCHEY RENEE                                                                </td><td>2</td><td>19270407</td><td>1004</td><td>AMBERIEU-EN-BUGEY             </td><td>                              </td><td>20211227</td><td>1004</td><td>265      </td></tr><tr><td>MARECHAL JULIETTE                                                              </td><td>2</td><td>19321115</td><td>1053</td><td>BOURG-EN-BRESSE               </td><td>                              </td><td>20211230</td><td>1004</td><td>3        </td></tr><tr><td>FREMAUX GEORGES ARTHUR                                                         </td><td>1</td><td>19290505</td><td>1373</td><td>SAINT-MARTIN-DU-FRENE         </td><td>                              </td><td>20220102</td><td>1004</td><td>2        </td></tr><tr><td>BARD NADINE MURIELLE MICHELLE                                                  </td><td>2</td><td>19670715</td><td>1053</td><td>BOURG-EN-BRESSE               </td><td>                              </td><td>20211226</td><td>1004</td><td>4        </td></tr><tr><td>MORIN MARCELLE ALBERTINE                                                       </td><td>2</td><td>19271029</td><td>71373</td><td>ROMENAY                       </td><td>                              </td><td>20220101</td><td>1004</td><td>1        </td></tr><tr><td>MERMAND SIMONNE                                                                </td><td>2</td><td>19290417</td><td>1202</td><td>LAGNIEU                       </td><td>                              </td><td>20220107</td><td>1004</td><td>13       </td></tr><tr><td>DURAND MOISE DESIRE HENRI                                                      </td><td>1</td><td>19470601</td><td>60122</td><td>CAMPEAUX                      </td><td>                              </td><td>20220103</td><td>1004</td><td>9        </td></tr><tr><td>EMONARD YVETTE ROSE                                                            </td><td>2</td><td>19311030</td><td>1199</td><td>JUJURIEUX                     </td><td>                              </td><td>20220121</td><td>1004</td><td>25       </td></tr><tr><td>CHALLOIT MARCELLE GEORGETTE                                                    </td><td>2</td><td>19231230</td><td>54395</td><td>NANCY                         </td><td>                              </td><td>20220104</td><td>1004</td><td>8        </td></tr><tr><td>VIANNAY ANNICK LAURENCE                                                        </td><td>2</td><td>19470831</td><td>1053</td><td>BOURG-EN-BRESSE               </td><td>                              </td><td>20220101</td><td>1004</td><td>5        </td></tr><tr><td>MONARD MARIE ROSE                                                              </td><td>2</td><td>19310308</td><td>1172</td><td>GERMAGNAT                     </td><td>                              </td><td>20220103</td><td>1004</td><td>6        </td></tr><tr><td>LEBRUN HENRI RAYMOND                                                           </td><td>1</td><td>19280412</td><td>87085</td><td>LIMOGES                       </td><td>                              </td><td>20220122</td><td>1004</td><td>24       </td></tr><tr><td>SASSOUE VICTOR JEAN                                                            </td><td>1</td><td>19351121</td><td>73223</td><td>SAINT-ANDRE                   </td><td>                              </td><td>20220108</td><td>1004</td><td>12       </td></tr><tr><td>BONETTI MAURICE                                                                </td><td>1</td><td>19360829</td><td>1199</td><td>JUJURIEUX                     </td><td>                              </td><td>20220113</td><td>1004</td><td>16       </td></tr><tr><td>JACQUET RENEE                                                                  </td><td>2</td><td>19350225</td><td>1007</td><td>AMBRONAY                      </td><td>                              </td><td>20220119</td><td>1004</td><td>23       </td></tr><tr><td>BIGOT ALAIN                                                                    </td><td>1</td><td>19540222</td><td>1053</td><td>BOURG-EN-BRESSE               </td><td>                              </td><td>20220117</td><td>1004</td><td>22       </td></tr><tr><td>CATIN JOSETTE                                                                  </td><td>2</td><td>19400428</td><td>38085</td><td>CHARVIEU-CHAVAGNEUX           </td><td>                              </td><td>20220118</td><td>1004</td><td>20       </td></tr><tr><td>MEREAUD ROBERT                                                                 </td><td>1</td><td>19480717</td><td>1393</td><td>SANDRANS                      </td><td>                              </td><td>20220117</td><td>1004</td><td>19       </td></tr><tr><td>PERVIER-GUILBAUD JEAN-PIERRE GUY                                               </td><td>1</td><td>19490209</td><td>50129</td><td>CHERBOURG-EN-COTENTIN         </td><td>                              </td><td>20220117</td><td>1004</td><td>18       </td></tr><tr><td>RIVIERE ALAIN EUGENE MARIE                                                     </td><td>1</td><td>19471014</td><td>69383</td><td>LYON 3E  ARRONDISSEMENT       </td><td>                              </td><td>20211218</td><td>1005</td><td>9        </td></tr><tr><td>DURAND YVES                                                                    </td><td>1</td><td>19530101</td><td>1007</td><td>AMBRONAY                      </td><td>                              </td><td>20220107</td><td>1007</td><td>1        </td></tr><tr><td>JOBEZ CLAUDE                                                                   </td><td>1</td><td>19460501</td><td>1053</td><td>BOURG-EN-BRESSE               </td><td>                              </td><td>20211221</td><td>1008</td><td>6        </td></tr><tr><td>HASELHOFF PHILIPPE CHRISTIAN                                                   </td><td>1</td><td>19620503</td><td>76540</td><td>ROUEN                         </td><td>                              </td><td>20220115</td><td>1008</td><td>1        </td></tr><tr><td>BEAUCHER JEAN-PASCAL MARCEL                                                    </td><td>1</td><td>19480131</td><td>80021</td><td>AMIENS                        </td><td>                              </td><td>20220126</td><td>1014</td><td>4        </td></tr><tr><td>LONG VIVIANE                                                                   </td><td>2</td><td>19460621</td><td>87085</td><td>LIMOGES                       </td><td>                              </td><td>20220102</td><td>1014</td><td>1        </td></tr><tr><td>CAPELLI JOCELIN                                                                </td><td>1</td><td>19830108</td><td>1283</td><td>OYONNAX                       </td><td>                              </td><td>20211227</td><td>1014</td><td>36       </td></tr><tr><td>FROSSARD SYLVIANE MARIE ANTOINETTE                                             </td><td>2</td><td>19230610</td><td>39318</td><td>MARTIGNA                      </td><td>                              </td><td>20220105</td><td>1014</td><td>2        </td></tr><tr><td>BOLL HADRIEN                                                                   </td><td>1</td><td>19851130</td><td>78498</td><td>POISSY                        </td><td>                              </td><td>20220117</td><td>1022</td><td>1        </td></tr><tr><td>BREVET MARIE CECILE ODETTE                                                     </td><td>2</td><td>19260825</td><td>1266</td><td>MONTREVEL-EN-BRESSE           </td><td>                              </td><td>20220110</td><td>1024</td><td>1        </td></tr><tr><td>ALLAGNAT CHRISTIAN                                                             </td><td>1</td><td>19661123</td><td>1283</td><td>OYONNAX                       </td><td>                              </td><td>20220115</td><td>1025</td><td>1        </td></tr><tr><td>BOYAT HENRIETTE MARIE ALEXANDRINE                                              </td><td>2</td><td>19240704</td><td>1231</td><td>MANZIAT                       </td><td>                              </td><td>20220115</td><td>1026</td><td>02       </td></tr><tr><td>PALANCHON ODILE                                                                </td><td>2</td><td>19340922</td><td>1096</td><td>CHAVEYRIAT                    </td><td>                              </td><td>20220113</td><td>1026</td><td>01       </td></tr><tr><td>CRAMPON MICHELLE ANDREE                                                        </td><td>2</td><td>19430406</td><td>1004</td><td>AMBERIEU-EN-BUGEY             </td><td>                              </td><td>20220106</td><td>1032</td><td>3        </td></tr><tr><td>MARTINET CLAUDIA MADELEINE                                                     </td><td>2</td><td>19290105</td><td>69266</td><td>VILLEURBANNE                  </td><td>                              </td><td>20220101</td><td>1032</td><td>2        </td></tr><tr><td>GUEZE JEANNE                                                                   </td><td>2</td><td>19250415</td><td>69382</td><td>LYON 2E  ARRONDISSEMENT       </td><td>                              </td><td>20220122</td><td>1032</td><td>5        </td></tr><tr><td>ROBIN JEAN                                                                     </td><td>1</td><td>19290802</td><td>1033</td><td>VALSERHONE                    </td><td>                              </td><td>20220122</td><td>1033</td><td>8        </td></tr><tr><td>BOURGEAT JOSEPH EUGENE                                                         </td><td>1</td><td>19340302</td><td>38400</td><td>SAINT-JEAN-DE-MOIRANS         </td><td>                              </td><td>20220117</td><td>1033</td><td>5        </td></tr><tr><td>DUPONT YVETTE MARIE                                                            </td><td>2</td><td>19360306</td><td>74183</td><td>MIEUSSY                       </td><td>                              </td><td>20220118</td><td>1033</td><td>4        </td></tr><tr><td>BASTARD JEAN MARC                                                              </td><td>1</td><td>19331031</td><td>74159</td><td>MAGLAND                       </td><td>                              </td><td>20220108</td><td>1033</td><td>2        </td></tr><tr><td>DEBOIS CLAUDE DESIRE                                                           </td><td>1</td><td>19320402</td><td>39478</td><td>SAINT-CLAUDE                  </td><td>                              </td><td>20220120</td><td>1033</td><td>7        </td></tr><tr><td>LAUTH SEBASTIEN                                                                </td><td>1</td><td>19800614</td><td>13054</td><td>MARIGNANE                     </td><td>                              </td><td>20220107</td><td>1033</td><td>1        </td></tr><tr><td>LAGOUTTE CLAUDE ALAIN                                                          </td><td>1</td><td>19520113</td><td>1034</td><td>BELLEY                        </td><td>                              </td><td>20220123</td><td>1034</td><td>23       </td></tr><tr><td>ROBIN JACQUES ROBERT                                                           </td><td>1</td><td>19530803</td><td>1053</td><td>BOURG-EN-BRESSE               </td><td>                              </td><td>20220120</td><td>1034</td><td>22       </td></tr><tr><td>RIVET SIMONE FLORENCE                                                          </td><td>2</td><td>19360830</td><td>1454</td><td>VIRIGNIN                      </td><td>                              </td><td>20220123</td><td>1034</td><td>25       </td></tr><tr><td>LIRAVAUX JACQUELINE EMILIENNE                                                  </td><td>2</td><td>19240610</td><td>75120</td><td>PARIS 20E  ARRONDISSEMENT     </td><td>                              </td><td>20220103</td><td>1034</td><td>8        </td></tr><tr><td>FERRA CLAUDE RENE                                                              </td><td>1</td><td>19390413</td><td>69383</td><td>LYON 3E  ARRONDISSEMENT       </td><td>                              </td><td>20220123</td><td>1034</td><td>24       </td></tr><tr><td>CONAND ANDRE LOUIS                                                             </td><td>1</td><td>19350411</td><td>1216</td><td>LHUIS                         </td><td>                              </td><td>20220103</td><td>1034</td><td>6        </td></tr><tr><td>BINOIS ODETTE DENISE                                                           </td><td>2</td><td>19310703</td><td>28352</td><td>SAINT-MARTIN-DE-NIGELLES      </td><td>                              </td><td>20220101</td><td>1034</td><td>7        </td></tr></tbody></table>"
      ]
     },
     "execution_count": 8,
     "metadata": {},
     "output_type": "execute_result"
    }
   ],
   "source": [
    "pl.readCSV(reformated, { sep: \",\" }).head(1000)"
   ]
  },
  {
   "cell_type": "code",
   "execution_count": null,
   "id": "6d24d51c-4137-4ef2-91e8-63e2847be74d",
   "metadata": {},
   "outputs": [],
   "source": []
  }
 ],
 "metadata": {
  "kernelspec": {
   "display_name": "Deno",
   "language": "typescript",
   "name": "deno"
  },
  "language_info": {
   "file_extension": ".ts",
   "mimetype": "text/x.typescript",
   "name": "typescript",
   "nb_converter": "script",
   "pygments_lexer": "typescript",
   "version": "5.3.3"
  }
 },
 "nbformat": 4,
 "nbformat_minor": 5
}
