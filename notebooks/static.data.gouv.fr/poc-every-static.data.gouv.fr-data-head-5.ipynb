{
 "cells": [
  {
   "cell_type": "markdown",
   "id": "9bd83d73-3578-4abb-af53-fc6d6f2c20c8",
   "metadata": {},
   "source": [
    "# Récupération des données depuis static.data.gouv.fr"
   ]
  },
  {
   "cell_type": "markdown",
   "id": "96ea3dfa-3b90-4688-84da-e72a40df66d7",
   "metadata": {},
   "source": [
    "## reformatage des données brute .txt en données .csv"
   ]
  },
  {
   "cell_type": "markdown",
   "id": "3b6e6627-acb8-41a1-bc69-a0e3b7e0628d",
   "metadata": {},
   "source": [
    "## from  040_deces_francais.R\n",
    "```R\n",
    "# Largeur des champs dans le fichier\n",
    "fields_widths <- c(\t\t\t\t\t# Colonne :\n",
    "        nom = 80,\t\t\t\t\t# 80\n",
    "        sexe = 1,\t\t\t\t\t# 81\n",
    "        naissance_date = 8,\t\t\t# 89\n",
    "        naissance_code_lieu = 5,\t# 94\n",
    "        naissance_commune = 30,\t\t# 124\n",
    "        naissance_pays = 30,\t\t# 154\n",
    "        deces_date = 8,\t\t\t\t# 162\n",
    "        deces_code_lieu = 5,\t\t# 167\n",
    "        deces_numero_acte = 9\t\t# 176\n",
    ")\n",
    "```"
   ]
  },
  {
   "cell_type": "markdown",
   "id": "2a891891-d1c2-433f-a585-8831fb9604d8",
   "metadata": {},
   "source": [
    "## typescript version"
   ]
  },
  {
   "cell_type": "code",
   "execution_count": 41,
   "id": "9b16c637-b2dc-42a1-93e7-7cceb88d6cfb",
   "metadata": {},
   "outputs": [],
   "source": [
    "function txt2csv(dataLine) {\n",
    "    return dataLine.substring(0,80).replace(\"*\",\" \").replace(\"/\",\"\")+\",\"+\n",
    "        dataLine.substring(80,81)+\",\"+\n",
    "        dataLine.substring(81,89)+\",\"+\n",
    "        dataLine.substring(89,94)+\",\"+\n",
    "        dataLine.substring(94,124)+\",\"+\n",
    "        dataLine.substring(124,154)+\",\"+\n",
    "        dataLine.substring(154,162)+\",\"+\n",
    "        dataLine.substring(162,167)+\",\"+\n",
    "        dataLine.substring(167,176)+\"\\r\\n\"\n",
    "}"
   ]
  },
  {
   "cell_type": "markdown",
   "id": "387bc9e8-210b-4878-8cb4-20114f82a1b6",
   "metadata": {},
   "source": [
    "## Tableau des ressources a ingerer"
   ]
  },
  {
   "cell_type": "code",
   "execution_count": null,
   "id": "5830f08f-c446-43ab-b1c2-b29f9ebf6ec0",
   "metadata": {},
   "outputs": [],
   "source": [
    "const listes_deces = [\n",
    "  { date: '2023-t2', url: 'https://static.data.gouv.fr/resources/fichier-des-personnes-decedees/20230712-130137/deces-2023-t2.txt'},\n",
    "  { date: '2023-t1', url: 'https://static.data.gouv.fr/resources/fichier-des-personnes-decedees/20230412-140241/deces-2023-t1.txt'},\n",
    "  { date: '2022', url: 'https://static.data.gouv.fr/resources/fichier-des-personnes-decedees/20230209-094802/deces-2022.txt'},\n",
    "  { date: '2021', url: 'https://static.data.gouv.fr/resources/fichier-des-personnes-decedees/20220112-114131/deces-2021.txt'},\n",
    "  { date: '2020', url: 'https://static.data.gouv.fr/resources/fichier-des-personnes-decedees/20210112-143457/deces-2020.txt'},\n",
    "  { date: '2019', url: 'https://static.data.gouv.fr/resources/fichier-des-personnes-decedees/20200113-173945/deces-2019.txt'},\n",
    "  { date: '2018', url: 'https://static.data.gouv.fr/resources/fichier-des-personnes-decedees/20191205-191652/deces-2018.txt'},\n",
    "  { date: '2017', url: 'https://static.data.gouv.fr/resources/fichier-des-personnes-decedees/20191209-192304/deces-2017.txt'},\n",
    "  { date: '2016', url: 'https://static.data.gouv.fr/resources/fichier-des-personnes-decedees/20191209-192203/deces-2016.txt'},\n",
    "  { date: '2015', url: 'https://static.data.gouv.fr/resources/fichier-des-personnes-decedees/20191209-192119/deces-2015.txt'},\n",
    "  { date: '2014', url: 'https://static.data.gouv.fr/resources/fichier-des-personnes-decedees/20191209-192022/deces-2014.txt'},\n",
    "  { date: '2013', url: 'https://static.data.gouv.fr/resources/fichier-des-personnes-decedees/20191209-191938/deces-2013.txt'},\n",
    "  { date: '2012', url: 'https://static.data.gouv.fr/resources/fichier-des-personnes-decedees/20191209-191851/deces-2012.txt'},\n",
    "  { date: '2011', url: 'https://static.data.gouv.fr/resources/fichier-des-personnes-decedees/20191209-191745/deces-2011.txt'},\n",
    "  { date: '2010', url: 'https://static.data.gouv.fr/resources/fichier-des-personnes-decedees/20191209-191659/deces-2010.txt'}\n",
    "]"
   ]
  },
  {
   "cell_type": "markdown",
   "id": "d22ada70-21be-492c-a339-0363d171cac1",
   "metadata": {},
   "source": [
    "## Utilisation de polars pour valider & visualiser nos données"
   ]
  },
  {
   "cell_type": "code",
   "execution_count": 33,
   "id": "aa21dca5-e92e-496e-ad03-ca27d815b977",
   "metadata": {},
   "outputs": [],
   "source": [
    "import pl from \"npm:nodejs-polars\";"
   ]
  },
  {
   "cell_type": "markdown",
   "id": "2cbd8708-febb-4710-b37f-0aa8adec222c",
   "metadata": {},
   "source": [
    "## Recuperaration de données\n",
    "* https://static.data.gouv.fr/resources/fichier-des-personnes-decedees/20230209-094802/deces-2022.txt\n",
    "* j'ai limité la conversion aux 1000 1er echantillons, parce que sur la totalité mon laptop crash"
   ]
  },
  {
   "cell_type": "code",
   "execution_count": 46,
   "id": "7dfe3ff1-6fd0-4e9a-8315-a3d5297bf6a3",
   "metadata": {},
   "outputs": [],
   "source": [
    "let response = await fetch( 'https://static.data.gouv.fr/resources/fichier-des-personnes-decedees/20230209-094802/deces-2022.txt' )"
   ]
  },
  {
   "cell_type": "markdown",
   "id": "881c7582-95ce-4d33-a051-9e98875addac",
   "metadata": {},
   "source": [
    "## Reformatage des donnés & visualisation (1000 1er echantillons)"
   ]
  },
  {
   "cell_type": "code",
   "execution_count": null,
   "id": "c6d3cfb2-93ba-40f1-9649-96d3702d7b48",
   "metadata": {},
   "outputs": [],
   "source": [
    "if (response.ok) {\n",
    "    const data = await response.text();\n",
    "    //console.log(\"data: \", data)\n",
    "    let data2 = \"Nom,sexe,naissance_date,naissance_code_lieu,naissance_commune,naissance_pays,deces_date,deces_code_lieu,deces_numero_acte\\n\"\n",
    "    const txttocsv = data.split(\"\\n\")\n",
    "    for (let i=0; i < 1000; i++) data2 += txt2csv(txttocsv[i])\n",
    "    pl.readCSV(data2, { sep: \",\" }).head(1000)\n",
    "} else {\n",
    "    console.log(\"404\")\n",
    "}"
   ]
  },
  {
   "cell_type": "code",
   "execution_count": null,
   "id": "3b4416e6-5440-4f3f-80ff-3a633d0a00a8",
   "metadata": {},
   "outputs": [],
   "source": []
  }
 ],
 "metadata": {
  "kernelspec": {
   "display_name": "Deno",
   "language": "typescript",
   "name": "deno"
  },
  "language_info": {
   "file_extension": ".ts",
   "mimetype": "text/x.typescript",
   "name": "typescript",
   "nb_converter": "script",
   "pygments_lexer": "typescript",
   "version": "5.3.3"
  }
 },
 "nbformat": 4,
 "nbformat_minor": 5
}
