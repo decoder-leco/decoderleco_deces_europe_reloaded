{
 "cells": [
  {
   "cell_type": "markdown",
   "id": "1af78410-48fb-4489-b045-5ab3392b2cfb",
   "metadata": {},
   "source": [
    "# Ingestion des données eurostat pour demo_pjan\n",
    "* demo_pjan\n",
    "* demo_magec\n",
    "* demo_r_mwk_05"
   ]
  },
  {
   "cell_type": "markdown",
   "id": "3b033e4a-eae6-4f93-bd23-4155dc947a6a",
   "metadata": {},
   "source": [
    "## Nous utilserons polars pour pouvoir voir nos dataset"
   ]
  },
  {
   "cell_type": "code",
   "execution_count": 1,
   "id": "845d81f8-c4b6-4689-9fd7-7592451455a5",
   "metadata": {},
   "outputs": [],
   "source": [
    "import pl from \"npm:nodejs-polars\";"
   ]
  },
  {
   "cell_type": "markdown",
   "id": "39c904ce-4872-4beb-a6a7-f23af6fdc2dd",
   "metadata": {},
   "source": [
    "## Declaration des constante pour construire l'url de chaquess ressources à interroger"
   ]
  },
  {
   "cell_type": "code",
   "execution_count": 2,
   "id": "e8fe1fc5-f9e0-428e-9701-0aa9f174b996",
   "metadata": {},
   "outputs": [],
   "source": [
    "const eurostat_baseUrl = \"https://ec.europa.eu/eurostat/api/dissemination/sdmx/2.1/data/\""
   ]
  },
  {
   "cell_type": "code",
   "execution_count": 3,
   "id": "cddbc304-bfd1-44f8-a6c7-fd6713776400",
   "metadata": {},
   "outputs": [],
   "source": [
    "const format = \"/?format=SDMX-CSV\""
   ]
  },
  {
   "cell_type": "markdown",
   "id": "f422bce6-f761-4e94-bb76-93f73f661e98",
   "metadata": {},
   "source": [
    "## Récupération des données pour `demo_pjan`"
   ]
  },
  {
   "cell_type": "code",
   "execution_count": 4,
   "id": "1d8fa6f6-faea-4665-bfc0-a1ca7b0d40bf",
   "metadata": {},
   "outputs": [],
   "source": [
    "let response = await fetch( eurostat_baseUrl +\"demo_pjan\"+ format)"
   ]
  },
  {
   "cell_type": "code",
   "execution_count": 5,
   "id": "1d99093f-4110-409f-8a0f-8c10ce48c4e2",
   "metadata": {},
   "outputs": [],
   "source": [
    "let demo_pjan = await response.text();"
   ]
  },
  {
   "cell_type": "markdown",
   "id": "0f2a80a8-9821-4d92-883c-819e03fe3d9f",
   "metadata": {},
   "source": [
    "## Visualisation du header csv"
   ]
  },
  {
   "cell_type": "code",
   "execution_count": null,
   "id": "cbc46c5c-5b68-4994-9140-faee5b61add8",
   "metadata": {},
   "outputs": [],
   "source": [
    "pl.readCSV(demo_pjan.substring(0,demo_pjan.indexOf('\\r\\n')), { sep: \",\"});"
   ]
  },
  {
   "cell_type": "markdown",
   "id": "f9ed3736-b773-402b-966d-1579c176022b",
   "metadata": {},
   "source": [
    "## Transformation en dataframe polars pour recuperer nos types & visualiser un echantillon de données"
   ]
  },
  {
   "cell_type": "code",
   "execution_count": 9,
   "id": "f041aba7-0277-4798-9184-18e5c82df047",
   "metadata": {},
   "outputs": [],
   "source": [
    "let df = pl.readCSV(demo_pjan, { sep: \",\" });"
   ]
  },
  {
   "cell_type": "code",
   "execution_count": 10,
   "id": "2b9c489c-9861-4883-8a4b-e1131c9988d4",
   "metadata": {},
   "outputs": [
    {
     "data": {
      "text/plain": [
       "[\n",
       "  { DataType: \u001b[32m\"String\"\u001b[39m },\n",
       "  { DataType: \u001b[32m\"String\"\u001b[39m },\n",
       "  { DataType: \u001b[32m\"String\"\u001b[39m },\n",
       "  { DataType: \u001b[32m\"String\"\u001b[39m },\n",
       "  { DataType: \u001b[32m\"String\"\u001b[39m },\n",
       "  { DataType: \u001b[32m\"String\"\u001b[39m },\n",
       "  { DataType: \u001b[32m\"String\"\u001b[39m },\n",
       "  { DataType: \u001b[32m\"Int64\"\u001b[39m },\n",
       "  { DataType: \u001b[32m\"Int64\"\u001b[39m },\n",
       "  { DataType: \u001b[32m\"String\"\u001b[39m }\n",
       "]"
      ]
     },
     "execution_count": 10,
     "metadata": {},
     "output_type": "execute_result"
    }
   ],
   "source": [
    "df.dtypes"
   ]
  },
  {
   "cell_type": "markdown",
   "id": "16d255ba-8d7d-4fc2-876e-ae3124fbe7ea",
   "metadata": {},
   "source": [
    "### Noms desColonnes ainsi que leur type\n",
    "\n",
    "| DATAFLOW | LAST UPDATE | freq | age | sex | unit | geo | TIME_PERIOD | OBS_VALUE | OBS_FLAG |\n",
    "|:--------:|:-----------:|:----:|:---:|:---:|:----:|:---:|:-----------:|:---------:|:--------:|\n",
    "|String|String|String|String|String|String|String|String|Int64|String|"
   ]
  },
  {
   "cell_type": "markdown",
   "id": "78355221-591a-468c-b350-1ba377c8411f",
   "metadata": {},
   "source": [
    "## échantillon des 5000 1ere rangés"
   ]
  },
  {
   "cell_type": "code",
   "execution_count": 16,
   "id": "b420cc36-a8e5-4ed4-a0f8-5143423f17d1",
   "metadata": {
    "scrolled": true
   },
   "outputs": [
    {
     "data": {
      "application/vnd.dataresource+json": {
       "data": [
        {
         "DATAFLOW": "ESTAT:DEMO_PJAN(1.0)",
         "LAST UPDATE": "08/03/24 23:00:00",
         "OBS_FLAG": null,
         "OBS_VALUE": 20898,
         "TIME_PERIOD": 1986,
         "age": "TOTAL",
         "freq": "A",
         "geo": "AD",
         "sex": "F",
         "unit": "NR"
        },
        {
         "DATAFLOW": "ESTAT:DEMO_PJAN(1.0)",
         "LAST UPDATE": "08/03/24 23:00:00",
         "OBS_FLAG": null,
         "OBS_VALUE": 22148,
         "TIME_PERIOD": 1987,
         "age": "TOTAL",
         "freq": "A",
         "geo": "AD",
         "sex": "F",
         "unit": "NR"
        },
        {
         "DATAFLOW": "ESTAT:DEMO_PJAN(1.0)",
         "LAST UPDATE": "08/03/24 23:00:00",
         "OBS_FLAG": null,
         "OBS_VALUE": 22814,
         "TIME_PERIOD": 1988,
         "age": "TOTAL",
         "freq": "A",
         "geo": "AD",
         "sex": "F",
         "unit": "NR"
        },
        {
         "DATAFLOW": "ESTAT:DEMO_PJAN(1.0)",
         "LAST UPDATE": "08/03/24 23:00:00",
         "OBS_FLAG": null,
         "OBS_VALUE": 23813,
         "TIME_PERIOD": 1989,
         "age": "TOTAL",
         "freq": "A",
         "geo": "AD",
         "sex": "F",
         "unit": "NR"
        },
        {
         "DATAFLOW": "ESTAT:DEMO_PJAN(1.0)",
         "LAST UPDATE": "08/03/24 23:00:00",
         "OBS_FLAG": null,
         "OBS_VALUE": 24171,
         "TIME_PERIOD": 1990,
         "age": "TOTAL",
         "freq": "A",
         "geo": "AD",
         "sex": "F",
         "unit": "NR"
        },
        {
         "DATAFLOW": "ESTAT:DEMO_PJAN(1.0)",
         "LAST UPDATE": "08/03/24 23:00:00",
         "OBS_FLAG": null,
         "OBS_VALUE": 25542,
         "TIME_PERIOD": 1991,
         "age": "TOTAL",
         "freq": "A",
         "geo": "AD",
         "sex": "F",
         "unit": "NR"
        },
        {
         "DATAFLOW": "ESTAT:DEMO_PJAN(1.0)",
         "LAST UPDATE": "08/03/24 23:00:00",
         "OBS_FLAG": null,
         "OBS_VALUE": 27572,
         "TIME_PERIOD": 1992,
         "age": "TOTAL",
         "freq": "A",
         "geo": "AD",
         "sex": "F",
         "unit": "NR"
        },
        {
         "DATAFLOW": "ESTAT:DEMO_PJAN(1.0)",
         "LAST UPDATE": "08/03/24 23:00:00",
         "OBS_FLAG": null,
         "OBS_VALUE": 28864,
         "TIME_PERIOD": 1993,
         "age": "TOTAL",
         "freq": "A",
         "geo": "AD",
         "sex": "F",
         "unit": "NR"
        },
        {
         "DATAFLOW": "ESTAT:DEMO_PJAN(1.0)",
         "LAST UPDATE": "08/03/24 23:00:00",
         "OBS_FLAG": null,
         "OBS_VALUE": 30406,
         "TIME_PERIOD": 1994,
         "age": "TOTAL",
         "freq": "A",
         "geo": "AD",
         "sex": "F",
         "unit": "NR"
        },
        {
         "DATAFLOW": "ESTAT:DEMO_PJAN(1.0)",
         "LAST UPDATE": "08/03/24 23:00:00",
         "OBS_FLAG": null,
         "OBS_VALUE": 30228,
         "TIME_PERIOD": 1995,
         "age": "TOTAL",
         "freq": "A",
         "geo": "AD",
         "sex": "F",
         "unit": "NR"
        },
        {
         "DATAFLOW": "ESTAT:DEMO_PJAN(1.0)",
         "LAST UPDATE": "08/03/24 23:00:00",
         "OBS_FLAG": null,
         "OBS_VALUE": 30200,
         "TIME_PERIOD": 1996,
         "age": "TOTAL",
         "freq": "A",
         "geo": "AD",
         "sex": "F",
         "unit": "NR"
        },
        {
         "DATAFLOW": "ESTAT:DEMO_PJAN(1.0)",
         "LAST UPDATE": "08/03/24 23:00:00",
         "OBS_FLAG": null,
         "OBS_VALUE": 30627,
         "TIME_PERIOD": 1997,
         "age": "TOTAL",
         "freq": "A",
         "geo": "AD",
         "sex": "F",
         "unit": "NR"
        },
        {
         "DATAFLOW": "ESTAT:DEMO_PJAN(1.0)",
         "LAST UPDATE": "08/03/24 23:00:00",
         "OBS_FLAG": null,
         "OBS_VALUE": 31025,
         "TIME_PERIOD": 1998,
         "age": "TOTAL",
         "freq": "A",
         "geo": "AD",
         "sex": "F",
         "unit": "NR"
        },
        {
         "DATAFLOW": "ESTAT:DEMO_PJAN(1.0)",
         "LAST UPDATE": "08/03/24 23:00:00",
         "OBS_FLAG": null,
         "OBS_VALUE": 31384,
         "TIME_PERIOD": 1999,
         "age": "TOTAL",
         "freq": "A",
         "geo": "AD",
         "sex": "F",
         "unit": "NR"
        },
        {
         "DATAFLOW": "ESTAT:DEMO_PJAN(1.0)",
         "LAST UPDATE": "08/03/24 23:00:00",
         "OBS_FLAG": null,
         "OBS_VALUE": 31538,
         "TIME_PERIOD": 2000,
         "age": "TOTAL",
         "freq": "A",
         "geo": "AD",
         "sex": "F",
         "unit": "NR"
        },
        {
         "DATAFLOW": "ESTAT:DEMO_PJAN(1.0)",
         "LAST UPDATE": "08/03/24 23:00:00",
         "OBS_FLAG": null,
         "OBS_VALUE": 31576,
         "TIME_PERIOD": 2001,
         "age": "TOTAL",
         "freq": "A",
         "geo": "AD",
         "sex": "F",
         "unit": "NR"
        },
        {
         "DATAFLOW": "ESTAT:DEMO_PJAN(1.0)",
         "LAST UPDATE": "08/03/24 23:00:00",
         "OBS_FLAG": null,
         "OBS_VALUE": 31915,
         "TIME_PERIOD": 2002,
         "age": "TOTAL",
         "freq": "A",
         "geo": "AD",
         "sex": "F",
         "unit": "NR"
        },
        {
         "DATAFLOW": "ESTAT:DEMO_PJAN(1.0)",
         "LAST UPDATE": "08/03/24 23:00:00",
         "OBS_FLAG": null,
         "OBS_VALUE": 32354,
         "TIME_PERIOD": 2003,
         "age": "TOTAL",
         "freq": "A",
         "geo": "AD",
         "sex": "F",
         "unit": "NR"
        },
        {
         "DATAFLOW": "ESTAT:DEMO_PJAN(1.0)",
         "LAST UPDATE": "08/03/24 23:00:00",
         "OBS_FLAG": null,
         "OBS_VALUE": 34738,
         "TIME_PERIOD": 2004,
         "age": "TOTAL",
         "freq": "A",
         "geo": "AD",
         "sex": "F",
         "unit": "NR"
        },
        {
         "DATAFLOW": "ESTAT:DEMO_PJAN(1.0)",
         "LAST UPDATE": "08/03/24 23:00:00",
         "OBS_FLAG": null,
         "OBS_VALUE": 36790,
         "TIME_PERIOD": 2005,
         "age": "TOTAL",
         "freq": "A",
         "geo": "AD",
         "sex": "F",
         "unit": "NR"
        },
        {
         "DATAFLOW": "ESTAT:DEMO_PJAN(1.0)",
         "LAST UPDATE": "08/03/24 23:00:00",
         "OBS_FLAG": null,
         "OBS_VALUE": 37575,
         "TIME_PERIOD": 2006,
         "age": "TOTAL",
         "freq": "A",
         "geo": "AD",
         "sex": "F",
         "unit": "NR"
        },
        {
         "DATAFLOW": "ESTAT:DEMO_PJAN(1.0)",
         "LAST UPDATE": "08/03/24 23:00:00",
         "OBS_FLAG": null,
         "OBS_VALUE": 38705,
         "TIME_PERIOD": 2007,
         "age": "TOTAL",
         "freq": "A",
         "geo": "AD",
         "sex": "F",
         "unit": "NR"
        },
        {
         "DATAFLOW": "ESTAT:DEMO_PJAN(1.0)",
         "LAST UPDATE": "08/03/24 23:00:00",
         "OBS_FLAG": null,
         "OBS_VALUE": 39622,
         "TIME_PERIOD": 2008,
         "age": "TOTAL",
         "freq": "A",
         "geo": "AD",
         "sex": "F",
         "unit": "NR"
        },
        {
         "DATAFLOW": "ESTAT:DEMO_PJAN(1.0)",
         "LAST UPDATE": "08/03/24 23:00:00",
         "OBS_FLAG": null,
         "OBS_VALUE": 40303,
         "TIME_PERIOD": 2009,
         "age": "TOTAL",
         "freq": "A",
         "geo": "AD",
         "sex": "F",
         "unit": "NR"
        },
        {
         "DATAFLOW": "ESTAT:DEMO_PJAN(1.0)",
         "LAST UPDATE": "08/03/24 23:00:00",
         "OBS_FLAG": null,
         "OBS_VALUE": 40296,
         "TIME_PERIOD": 2010,
         "age": "TOTAL",
         "freq": "A",
         "geo": "AD",
         "sex": "F",
         "unit": "NR"
        },
        {
         "DATAFLOW": "ESTAT:DEMO_PJAN(1.0)",
         "LAST UPDATE": "08/03/24 23:00:00",
         "OBS_FLAG": null,
         "OBS_VALUE": 38252,
         "TIME_PERIOD": 2011,
         "age": "TOTAL",
         "freq": "A",
         "geo": "AD",
         "sex": "F",
         "unit": "NR"
        },
        {
         "DATAFLOW": "ESTAT:DEMO_PJAN(1.0)",
         "LAST UPDATE": "08/03/24 23:00:00",
         "OBS_FLAG": null,
         "OBS_VALUE": 38252,
         "TIME_PERIOD": 2012,
         "age": "TOTAL",
         "freq": "A",
         "geo": "AD",
         "sex": "F",
         "unit": "NR"
        },
        {
         "DATAFLOW": "ESTAT:DEMO_PJAN(1.0)",
         "LAST UPDATE": "08/03/24 23:00:00",
         "OBS_FLAG": null,
         "OBS_VALUE": 37408,
         "TIME_PERIOD": 2013,
         "age": "TOTAL",
         "freq": "A",
         "geo": "AD",
         "sex": "F",
         "unit": "NR"
        },
        {
         "DATAFLOW": "ESTAT:DEMO_PJAN(1.0)",
         "LAST UPDATE": "08/03/24 23:00:00",
         "OBS_FLAG": null,
         "OBS_VALUE": 37388,
         "TIME_PERIOD": 2019,
         "age": "TOTAL",
         "freq": "A",
         "geo": "AD",
         "sex": "F",
         "unit": "NR"
        },
        {
         "DATAFLOW": "ESTAT:DEMO_PJAN(1.0)",
         "LAST UPDATE": "08/03/24 23:00:00",
         "OBS_FLAG": null,
         "OBS_VALUE": 1526762,
         "TIME_PERIOD": 2000,
         "age": "TOTAL",
         "freq": "A",
         "geo": "AL",
         "sex": "F",
         "unit": "NR"
        },
        {
         "DATAFLOW": "ESTAT:DEMO_PJAN(1.0)",
         "LAST UPDATE": "08/03/24 23:00:00",
         "OBS_FLAG": null,
         "OBS_VALUE": 1535822,
         "TIME_PERIOD": 2001,
         "age": "TOTAL",
         "freq": "A",
         "geo": "AL",
         "sex": "F",
         "unit": "NR"
        },
        {
         "DATAFLOW": "ESTAT:DEMO_PJAN(1.0)",
         "LAST UPDATE": "08/03/24 23:00:00",
         "OBS_FLAG": null,
         "OBS_VALUE": 1532563,
         "TIME_PERIOD": 2002,
         "age": "TOTAL",
         "freq": "A",
         "geo": "AL",
         "sex": "F",
         "unit": "NR"
        },
        {
         "DATAFLOW": "ESTAT:DEMO_PJAN(1.0)",
         "LAST UPDATE": "08/03/24 23:00:00",
         "OBS_FLAG": null,
         "OBS_VALUE": 1526180,
         "TIME_PERIOD": 2003,
         "age": "TOTAL",
         "freq": "A",
         "geo": "AL",
         "sex": "F",
         "unit": "NR"
        },
        {
         "DATAFLOW": "ESTAT:DEMO_PJAN(1.0)",
         "LAST UPDATE": "08/03/24 23:00:00",
         "OBS_FLAG": null,
         "OBS_VALUE": 1520481,
         "TIME_PERIOD": 2004,
         "age": "TOTAL",
         "freq": "A",
         "geo": "AL",
         "sex": "F",
         "unit": "NR"
        },
        {
         "DATAFLOW": "ESTAT:DEMO_PJAN(1.0)",
         "LAST UPDATE": "08/03/24 23:00:00",
         "OBS_FLAG": null,
         "OBS_VALUE": 1512745,
         "TIME_PERIOD": 2005,
         "age": "TOTAL",
         "freq": "A",
         "geo": "AL",
         "sex": "F",
         "unit": "NR"
        },
        {
         "DATAFLOW": "ESTAT:DEMO_PJAN(1.0)",
         "LAST UPDATE": "08/03/24 23:00:00",
         "OBS_FLAG": null,
         "OBS_VALUE": 1503969,
         "TIME_PERIOD": 2006,
         "age": "TOTAL",
         "freq": "A",
         "geo": "AL",
         "sex": "F",
         "unit": "NR"
        },
        {
         "DATAFLOW": "ESTAT:DEMO_PJAN(1.0)",
         "LAST UPDATE": "08/03/24 23:00:00",
         "OBS_FLAG": null,
         "OBS_VALUE": 1492439,
         "TIME_PERIOD": 2007,
         "age": "TOTAL",
         "freq": "A",
         "geo": "AL",
         "sex": "F",
         "unit": "NR"
        },
        {
         "DATAFLOW": "ESTAT:DEMO_PJAN(1.0)",
         "LAST UPDATE": "08/03/24 23:00:00",
         "OBS_FLAG": null,
         "OBS_VALUE": 1480358,
         "TIME_PERIOD": 2008,
         "age": "TOTAL",
         "freq": "A",
         "geo": "AL",
         "sex": "F",
         "unit": "NR"
        },
        {
         "DATAFLOW": "ESTAT:DEMO_PJAN(1.0)",
         "LAST UPDATE": "08/03/24 23:00:00",
         "OBS_FLAG": null,
         "OBS_VALUE": 1468935,
         "TIME_PERIOD": 2009,
         "age": "TOTAL",
         "freq": "A",
         "geo": "AL",
         "sex": "F",
         "unit": "NR"
        },
        {
         "DATAFLOW": "ESTAT:DEMO_PJAN(1.0)",
         "LAST UPDATE": "08/03/24 23:00:00",
         "OBS_FLAG": null,
         "OBS_VALUE": 1459025,
         "TIME_PERIOD": 2010,
         "age": "TOTAL",
         "freq": "A",
         "geo": "AL",
         "sex": "F",
         "unit": "NR"
        },
        {
         "DATAFLOW": "ESTAT:DEMO_PJAN(1.0)",
         "LAST UPDATE": "08/03/24 23:00:00",
         "OBS_FLAG": null,
         "OBS_VALUE": 1451691,
         "TIME_PERIOD": 2011,
         "age": "TOTAL",
         "freq": "A",
         "geo": "AL",
         "sex": "F",
         "unit": "NR"
        },
        {
         "DATAFLOW": "ESTAT:DEMO_PJAN(1.0)",
         "LAST UPDATE": "08/03/24 23:00:00",
         "OBS_FLAG": null,
         "OBS_VALUE": 1444234,
         "TIME_PERIOD": 2012,
         "age": "TOTAL",
         "freq": "A",
         "geo": "AL",
         "sex": "F",
         "unit": "NR"
        },
        {
         "DATAFLOW": "ESTAT:DEMO_PJAN(1.0)",
         "LAST UPDATE": "08/03/24 23:00:00",
         "OBS_FLAG": null,
         "OBS_VALUE": 1437193,
         "TIME_PERIOD": 2013,
         "age": "TOTAL",
         "freq": "A",
         "geo": "AL",
         "sex": "F",
         "unit": "NR"
        },
        {
         "DATAFLOW": "ESTAT:DEMO_PJAN(1.0)",
         "LAST UPDATE": "08/03/24 23:00:00",
         "OBS_FLAG": null,
         "OBS_VALUE": 1430827,
         "TIME_PERIOD": 2014,
         "age": "TOTAL",
         "freq": "A",
         "geo": "AL",
         "sex": "F",
         "unit": "NR"
        },
        {
         "DATAFLOW": "ESTAT:DEMO_PJAN(1.0)",
         "LAST UPDATE": "08/03/24 23:00:00",
         "OBS_FLAG": null,
         "OBS_VALUE": 1424597,
         "TIME_PERIOD": 2015,
         "age": "TOTAL",
         "freq": "A",
         "geo": "AL",
         "sex": "F",
         "unit": "NR"
        },
        {
         "DATAFLOW": "ESTAT:DEMO_PJAN(1.0)",
         "LAST UPDATE": "08/03/24 23:00:00",
         "OBS_FLAG": null,
         "OBS_VALUE": 1417141,
         "TIME_PERIOD": 2016,
         "age": "TOTAL",
         "freq": "A",
         "geo": "AL",
         "sex": "F",
         "unit": "NR"
        },
        {
         "DATAFLOW": "ESTAT:DEMO_PJAN(1.0)",
         "LAST UPDATE": "08/03/24 23:00:00",
         "OBS_FLAG": null,
         "OBS_VALUE": 1423050,
         "TIME_PERIOD": 2017,
         "age": "TOTAL",
         "freq": "A",
         "geo": "AL",
         "sex": "F",
         "unit": "NR"
        },
        {
         "DATAFLOW": "ESTAT:DEMO_PJAN(1.0)",
         "LAST UPDATE": "08/03/24 23:00:00",
         "OBS_FLAG": null,
         "OBS_VALUE": 1431715,
         "TIME_PERIOD": 2018,
         "age": "TOTAL",
         "freq": "A",
         "geo": "AL",
         "sex": "F",
         "unit": "NR"
        },
        {
         "DATAFLOW": "ESTAT:DEMO_PJAN(1.0)",
         "LAST UPDATE": "08/03/24 23:00:00",
         "OBS_FLAG": null,
         "OBS_VALUE": 1432833,
         "TIME_PERIOD": 2019,
         "age": "TOTAL",
         "freq": "A",
         "geo": "AL",
         "sex": "F",
         "unit": "NR"
        },
        {
         "DATAFLOW": "ESTAT:DEMO_PJAN(1.0)",
         "LAST UPDATE": "08/03/24 23:00:00",
         "OBS_FLAG": null,
         "OBS_VALUE": 1425342,
         "TIME_PERIOD": 2020,
         "age": "TOTAL",
         "freq": "A",
         "geo": "AL",
         "sex": "F",
         "unit": "NR"
        }
       ],
       "schema": {
        "fields": [
         {
          "name": "DATAFLOW",
          "type": "string"
         },
         {
          "name": "LAST UPDATE",
          "type": "string"
         },
         {
          "name": "freq",
          "type": "string"
         },
         {
          "name": "unit",
          "type": "string"
         },
         {
          "name": "age",
          "type": "string"
         },
         {
          "name": "sex",
          "type": "string"
         },
         {
          "name": "geo",
          "type": "string"
         },
         {
          "name": "TIME_PERIOD",
          "type": "integer"
         },
         {
          "name": "OBS_VALUE",
          "type": "integer"
         },
         {
          "name": "OBS_FLAG",
          "type": "string"
         }
        ]
       }
      },
      "text/html": [
       "<table><thead><tr><th>DATAFLOW</th><th>LAST UPDATE</th><th>freq</th><th>unit</th><th>age</th><th>sex</th><th>geo</th><th>TIME_PERIOD</th><th>OBS_VALUE</th><th>OBS_FLAG</th></tr></thead><tbody><tr><td>ESTAT:DEMO_PJAN(1.0)</td><td>08/03/24 23:00:00</td><td>A</td><td>NR</td><td>TOTAL</td><td>F</td><td>AD</td><td>1986</td><td>20898</td><td>null</td></tr><tr><td>ESTAT:DEMO_PJAN(1.0)</td><td>08/03/24 23:00:00</td><td>A</td><td>NR</td><td>TOTAL</td><td>F</td><td>AD</td><td>1987</td><td>22148</td><td>null</td></tr><tr><td>ESTAT:DEMO_PJAN(1.0)</td><td>08/03/24 23:00:00</td><td>A</td><td>NR</td><td>TOTAL</td><td>F</td><td>AD</td><td>1988</td><td>22814</td><td>null</td></tr><tr><td>ESTAT:DEMO_PJAN(1.0)</td><td>08/03/24 23:00:00</td><td>A</td><td>NR</td><td>TOTAL</td><td>F</td><td>AD</td><td>1989</td><td>23813</td><td>null</td></tr><tr><td>ESTAT:DEMO_PJAN(1.0)</td><td>08/03/24 23:00:00</td><td>A</td><td>NR</td><td>TOTAL</td><td>F</td><td>AD</td><td>1990</td><td>24171</td><td>null</td></tr><tr><td>ESTAT:DEMO_PJAN(1.0)</td><td>08/03/24 23:00:00</td><td>A</td><td>NR</td><td>TOTAL</td><td>F</td><td>AD</td><td>1991</td><td>25542</td><td>null</td></tr><tr><td>ESTAT:DEMO_PJAN(1.0)</td><td>08/03/24 23:00:00</td><td>A</td><td>NR</td><td>TOTAL</td><td>F</td><td>AD</td><td>1992</td><td>27572</td><td>null</td></tr><tr><td>ESTAT:DEMO_PJAN(1.0)</td><td>08/03/24 23:00:00</td><td>A</td><td>NR</td><td>TOTAL</td><td>F</td><td>AD</td><td>1993</td><td>28864</td><td>null</td></tr><tr><td>ESTAT:DEMO_PJAN(1.0)</td><td>08/03/24 23:00:00</td><td>A</td><td>NR</td><td>TOTAL</td><td>F</td><td>AD</td><td>1994</td><td>30406</td><td>null</td></tr><tr><td>ESTAT:DEMO_PJAN(1.0)</td><td>08/03/24 23:00:00</td><td>A</td><td>NR</td><td>TOTAL</td><td>F</td><td>AD</td><td>1995</td><td>30228</td><td>null</td></tr><tr><td>ESTAT:DEMO_PJAN(1.0)</td><td>08/03/24 23:00:00</td><td>A</td><td>NR</td><td>TOTAL</td><td>F</td><td>AD</td><td>1996</td><td>30200</td><td>null</td></tr><tr><td>ESTAT:DEMO_PJAN(1.0)</td><td>08/03/24 23:00:00</td><td>A</td><td>NR</td><td>TOTAL</td><td>F</td><td>AD</td><td>1997</td><td>30627</td><td>null</td></tr><tr><td>ESTAT:DEMO_PJAN(1.0)</td><td>08/03/24 23:00:00</td><td>A</td><td>NR</td><td>TOTAL</td><td>F</td><td>AD</td><td>1998</td><td>31025</td><td>null</td></tr><tr><td>ESTAT:DEMO_PJAN(1.0)</td><td>08/03/24 23:00:00</td><td>A</td><td>NR</td><td>TOTAL</td><td>F</td><td>AD</td><td>1999</td><td>31384</td><td>null</td></tr><tr><td>ESTAT:DEMO_PJAN(1.0)</td><td>08/03/24 23:00:00</td><td>A</td><td>NR</td><td>TOTAL</td><td>F</td><td>AD</td><td>2000</td><td>31538</td><td>null</td></tr><tr><td>ESTAT:DEMO_PJAN(1.0)</td><td>08/03/24 23:00:00</td><td>A</td><td>NR</td><td>TOTAL</td><td>F</td><td>AD</td><td>2001</td><td>31576</td><td>null</td></tr><tr><td>ESTAT:DEMO_PJAN(1.0)</td><td>08/03/24 23:00:00</td><td>A</td><td>NR</td><td>TOTAL</td><td>F</td><td>AD</td><td>2002</td><td>31915</td><td>null</td></tr><tr><td>ESTAT:DEMO_PJAN(1.0)</td><td>08/03/24 23:00:00</td><td>A</td><td>NR</td><td>TOTAL</td><td>F</td><td>AD</td><td>2003</td><td>32354</td><td>null</td></tr><tr><td>ESTAT:DEMO_PJAN(1.0)</td><td>08/03/24 23:00:00</td><td>A</td><td>NR</td><td>TOTAL</td><td>F</td><td>AD</td><td>2004</td><td>34738</td><td>null</td></tr><tr><td>ESTAT:DEMO_PJAN(1.0)</td><td>08/03/24 23:00:00</td><td>A</td><td>NR</td><td>TOTAL</td><td>F</td><td>AD</td><td>2005</td><td>36790</td><td>null</td></tr><tr><td>ESTAT:DEMO_PJAN(1.0)</td><td>08/03/24 23:00:00</td><td>A</td><td>NR</td><td>TOTAL</td><td>F</td><td>AD</td><td>2006</td><td>37575</td><td>null</td></tr><tr><td>ESTAT:DEMO_PJAN(1.0)</td><td>08/03/24 23:00:00</td><td>A</td><td>NR</td><td>TOTAL</td><td>F</td><td>AD</td><td>2007</td><td>38705</td><td>null</td></tr><tr><td>ESTAT:DEMO_PJAN(1.0)</td><td>08/03/24 23:00:00</td><td>A</td><td>NR</td><td>TOTAL</td><td>F</td><td>AD</td><td>2008</td><td>39622</td><td>null</td></tr><tr><td>ESTAT:DEMO_PJAN(1.0)</td><td>08/03/24 23:00:00</td><td>A</td><td>NR</td><td>TOTAL</td><td>F</td><td>AD</td><td>2009</td><td>40303</td><td>null</td></tr><tr><td>ESTAT:DEMO_PJAN(1.0)</td><td>08/03/24 23:00:00</td><td>A</td><td>NR</td><td>TOTAL</td><td>F</td><td>AD</td><td>2010</td><td>40296</td><td>null</td></tr><tr><td>ESTAT:DEMO_PJAN(1.0)</td><td>08/03/24 23:00:00</td><td>A</td><td>NR</td><td>TOTAL</td><td>F</td><td>AD</td><td>2011</td><td>38252</td><td>null</td></tr><tr><td>ESTAT:DEMO_PJAN(1.0)</td><td>08/03/24 23:00:00</td><td>A</td><td>NR</td><td>TOTAL</td><td>F</td><td>AD</td><td>2012</td><td>38252</td><td>null</td></tr><tr><td>ESTAT:DEMO_PJAN(1.0)</td><td>08/03/24 23:00:00</td><td>A</td><td>NR</td><td>TOTAL</td><td>F</td><td>AD</td><td>2013</td><td>37408</td><td>null</td></tr><tr><td>ESTAT:DEMO_PJAN(1.0)</td><td>08/03/24 23:00:00</td><td>A</td><td>NR</td><td>TOTAL</td><td>F</td><td>AD</td><td>2019</td><td>37388</td><td>null</td></tr><tr><td>ESTAT:DEMO_PJAN(1.0)</td><td>08/03/24 23:00:00</td><td>A</td><td>NR</td><td>TOTAL</td><td>F</td><td>AL</td><td>2000</td><td>1526762</td><td>null</td></tr><tr><td>ESTAT:DEMO_PJAN(1.0)</td><td>08/03/24 23:00:00</td><td>A</td><td>NR</td><td>TOTAL</td><td>F</td><td>AL</td><td>2001</td><td>1535822</td><td>null</td></tr><tr><td>ESTAT:DEMO_PJAN(1.0)</td><td>08/03/24 23:00:00</td><td>A</td><td>NR</td><td>TOTAL</td><td>F</td><td>AL</td><td>2002</td><td>1532563</td><td>null</td></tr><tr><td>ESTAT:DEMO_PJAN(1.0)</td><td>08/03/24 23:00:00</td><td>A</td><td>NR</td><td>TOTAL</td><td>F</td><td>AL</td><td>2003</td><td>1526180</td><td>null</td></tr><tr><td>ESTAT:DEMO_PJAN(1.0)</td><td>08/03/24 23:00:00</td><td>A</td><td>NR</td><td>TOTAL</td><td>F</td><td>AL</td><td>2004</td><td>1520481</td><td>null</td></tr><tr><td>ESTAT:DEMO_PJAN(1.0)</td><td>08/03/24 23:00:00</td><td>A</td><td>NR</td><td>TOTAL</td><td>F</td><td>AL</td><td>2005</td><td>1512745</td><td>null</td></tr><tr><td>ESTAT:DEMO_PJAN(1.0)</td><td>08/03/24 23:00:00</td><td>A</td><td>NR</td><td>TOTAL</td><td>F</td><td>AL</td><td>2006</td><td>1503969</td><td>null</td></tr><tr><td>ESTAT:DEMO_PJAN(1.0)</td><td>08/03/24 23:00:00</td><td>A</td><td>NR</td><td>TOTAL</td><td>F</td><td>AL</td><td>2007</td><td>1492439</td><td>null</td></tr><tr><td>ESTAT:DEMO_PJAN(1.0)</td><td>08/03/24 23:00:00</td><td>A</td><td>NR</td><td>TOTAL</td><td>F</td><td>AL</td><td>2008</td><td>1480358</td><td>null</td></tr><tr><td>ESTAT:DEMO_PJAN(1.0)</td><td>08/03/24 23:00:00</td><td>A</td><td>NR</td><td>TOTAL</td><td>F</td><td>AL</td><td>2009</td><td>1468935</td><td>null</td></tr><tr><td>ESTAT:DEMO_PJAN(1.0)</td><td>08/03/24 23:00:00</td><td>A</td><td>NR</td><td>TOTAL</td><td>F</td><td>AL</td><td>2010</td><td>1459025</td><td>null</td></tr><tr><td>ESTAT:DEMO_PJAN(1.0)</td><td>08/03/24 23:00:00</td><td>A</td><td>NR</td><td>TOTAL</td><td>F</td><td>AL</td><td>2011</td><td>1451691</td><td>null</td></tr><tr><td>ESTAT:DEMO_PJAN(1.0)</td><td>08/03/24 23:00:00</td><td>A</td><td>NR</td><td>TOTAL</td><td>F</td><td>AL</td><td>2012</td><td>1444234</td><td>null</td></tr><tr><td>ESTAT:DEMO_PJAN(1.0)</td><td>08/03/24 23:00:00</td><td>A</td><td>NR</td><td>TOTAL</td><td>F</td><td>AL</td><td>2013</td><td>1437193</td><td>null</td></tr><tr><td>ESTAT:DEMO_PJAN(1.0)</td><td>08/03/24 23:00:00</td><td>A</td><td>NR</td><td>TOTAL</td><td>F</td><td>AL</td><td>2014</td><td>1430827</td><td>null</td></tr><tr><td>ESTAT:DEMO_PJAN(1.0)</td><td>08/03/24 23:00:00</td><td>A</td><td>NR</td><td>TOTAL</td><td>F</td><td>AL</td><td>2015</td><td>1424597</td><td>null</td></tr><tr><td>ESTAT:DEMO_PJAN(1.0)</td><td>08/03/24 23:00:00</td><td>A</td><td>NR</td><td>TOTAL</td><td>F</td><td>AL</td><td>2016</td><td>1417141</td><td>null</td></tr><tr><td>ESTAT:DEMO_PJAN(1.0)</td><td>08/03/24 23:00:00</td><td>A</td><td>NR</td><td>TOTAL</td><td>F</td><td>AL</td><td>2017</td><td>1423050</td><td>null</td></tr><tr><td>ESTAT:DEMO_PJAN(1.0)</td><td>08/03/24 23:00:00</td><td>A</td><td>NR</td><td>TOTAL</td><td>F</td><td>AL</td><td>2018</td><td>1431715</td><td>null</td></tr><tr><td>ESTAT:DEMO_PJAN(1.0)</td><td>08/03/24 23:00:00</td><td>A</td><td>NR</td><td>TOTAL</td><td>F</td><td>AL</td><td>2019</td><td>1432833</td><td>null</td></tr><tr><td>ESTAT:DEMO_PJAN(1.0)</td><td>08/03/24 23:00:00</td><td>A</td><td>NR</td><td>TOTAL</td><td>F</td><td>AL</td><td>2020</td><td>1425342</td><td>null</td></tr></tbody></table>"
      ]
     },
     "execution_count": 16,
     "metadata": {},
     "output_type": "execute_result"
    }
   ],
   "source": [
    "df.head(5000)"
   ]
  }
 ],
 "metadata": {
  "kernelspec": {
   "display_name": "Deno",
   "language": "typescript",
   "name": "deno"
  },
  "language_info": {
   "file_extension": ".ts",
   "mimetype": "text/x.typescript",
   "name": "typescript",
   "nb_converter": "script",
   "pygments_lexer": "typescript",
   "version": "5.3.3"
  }
 },
 "nbformat": 4,
 "nbformat_minor": 5
}
