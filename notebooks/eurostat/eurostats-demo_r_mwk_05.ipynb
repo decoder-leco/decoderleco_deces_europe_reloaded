{
 "cells": [
  {
   "cell_type": "markdown",
   "id": "1af78410-48fb-4489-b045-5ab3392b2cfb",
   "metadata": {},
   "source": [
    "# Ingestion des données eurostat pour `demo_r_mwk_05`"
   ]
  },
  {
   "cell_type": "markdown",
   "id": "3b033e4a-eae6-4f93-bd23-4155dc947a6a",
   "metadata": {},
   "source": [
    "## Nous utilserons polars pour pouvoir voir nos dataset"
   ]
  },
  {
   "cell_type": "code",
   "execution_count": 2,
   "id": "845d81f8-c4b6-4689-9fd7-7592451455a5",
   "metadata": {},
   "outputs": [],
   "source": [
    "import pl from \"npm:nodejs-polars\";"
   ]
  },
  {
   "cell_type": "markdown",
   "id": "39c904ce-4872-4beb-a6a7-f23af6fdc2dd",
   "metadata": {},
   "source": [
    "## Declaration des constante pour construire l'url de chaquess ressources à interroger"
   ]
  },
  {
   "cell_type": "code",
   "execution_count": 3,
   "id": "e8fe1fc5-f9e0-428e-9701-0aa9f174b996",
   "metadata": {},
   "outputs": [],
   "source": [
    "const eurostat_baseUrl = \"https://ec.europa.eu/eurostat/api/dissemination/sdmx/2.1/data/\""
   ]
  },
  {
   "cell_type": "code",
   "execution_count": 4,
   "id": "cddbc304-bfd1-44f8-a6c7-fd6713776400",
   "metadata": {},
   "outputs": [],
   "source": [
    "const format = \"/?format=SDMX-CSV\""
   ]
  },
  {
   "cell_type": "markdown",
   "id": "f422bce6-f761-4e94-bb76-93f73f661e98",
   "metadata": {},
   "source": [
    "## Récupération des données"
   ]
  },
  {
   "cell_type": "code",
   "execution_count": 5,
   "id": "1d8fa6f6-faea-4665-bfc0-a1ca7b0d40bf",
   "metadata": {},
   "outputs": [],
   "source": [
    "let response = await fetch( eurostat_baseUrl +\"demo_r_mwk_05\"+ format)"
   ]
  },
  {
   "cell_type": "code",
   "execution_count": 6,
   "id": "1d99093f-4110-409f-8a0f-8c10ce48c4e2",
   "metadata": {},
   "outputs": [],
   "source": [
    "let demo_r_mwk_05 = await response.text();"
   ]
  },
  {
   "cell_type": "markdown",
   "id": "0f2a80a8-9821-4d92-883c-819e03fe3d9f",
   "metadata": {},
   "source": [
    "## Visualisation du header csv"
   ]
  },
  {
   "cell_type": "code",
   "execution_count": 7,
   "id": "cbc46c5c-5b68-4994-9140-faee5b61add8",
   "metadata": {},
   "outputs": [
    {
     "data": {
      "application/vnd.dataresource+json": {
       "data": [],
       "schema": {
        "fields": [
         {
          "name": "DATAFLOW",
          "type": "string"
         },
         {
          "name": "LAST UPDATE",
          "type": "string"
         },
         {
          "name": "freq",
          "type": "string"
         },
         {
          "name": "age",
          "type": "string"
         },
         {
          "name": "sex",
          "type": "string"
         },
         {
          "name": "unit",
          "type": "string"
         },
         {
          "name": "geo",
          "type": "string"
         },
         {
          "name": "TIME_PERIOD",
          "type": "string"
         },
         {
          "name": "OBS_VALUE",
          "type": "string"
         },
         {
          "name": "OBS_FLAG",
          "type": "string"
         }
        ]
       }
      },
      "text/html": [
       "<table><thead><tr><th>DATAFLOW</th><th>LAST UPDATE</th><th>freq</th><th>age</th><th>sex</th><th>unit</th><th>geo</th><th>TIME_PERIOD</th><th>OBS_VALUE</th><th>OBS_FLAG</th></tr></thead><tbody></tbody></table>"
      ]
     },
     "execution_count": 7,
     "metadata": {},
     "output_type": "execute_result"
    }
   ],
   "source": [
    "pl.readCSV(demo_r_mwk_05.substring(0,demo_r_mwk_05.indexOf('\\r\\n')), { sep: \",\"});"
   ]
  },
  {
   "cell_type": "code",
   "execution_count": 9,
   "id": "e760008f-87db-4e73-bb08-e5df481fca9d",
   "metadata": {},
   "outputs": [
    {
     "data": {
      "text/plain": [
       "[\n",
       "  { DataType: \u001b[32m\"String\"\u001b[39m },\n",
       "  { DataType: \u001b[32m\"String\"\u001b[39m },\n",
       "  { DataType: \u001b[32m\"String\"\u001b[39m },\n",
       "  { DataType: \u001b[32m\"String\"\u001b[39m },\n",
       "  { DataType: \u001b[32m\"String\"\u001b[39m },\n",
       "  { DataType: \u001b[32m\"String\"\u001b[39m },\n",
       "  { DataType: \u001b[32m\"String\"\u001b[39m },\n",
       "  { DataType: \u001b[32m\"String\"\u001b[39m },\n",
       "  { DataType: \u001b[32m\"Int64\"\u001b[39m },\n",
       "  { DataType: \u001b[32m\"String\"\u001b[39m }\n",
       "]"
      ]
     },
     "execution_count": 9,
     "metadata": {},
     "output_type": "execute_result"
    }
   ],
   "source": [
    " pl.readCSV(demo_r_mwk_05, { sep: \",\" }).dtypes"
   ]
  },
  {
   "cell_type": "markdown",
   "id": "16d255ba-8d7d-4fc2-876e-ae3124fbe7ea",
   "metadata": {},
   "source": [
    "### Noms desColonnes ainsi que leur type\n",
    "\n",
    "| DATAFLOW | LAST UPDATE | freq | age | sex | unit | geo | TIME_PERIOD | OBS_VALUE | OBS_FLAG |\n",
    "|:--------:|:-----------:|:----:|:---:|:---:|:----:|:---:|:-----------:|:---------:|:--------:|\n",
    "|String|String|String|String|String|String|String|String|Int64|String|"
   ]
  },
  {
   "cell_type": "markdown",
   "id": "78355221-591a-468c-b350-1ba377c8411f",
   "metadata": {},
   "source": [
    "## échantillon des 5000 1ere rangés"
   ]
  },
  {
   "cell_type": "code",
   "execution_count": 10,
   "id": "220650df-e609-45ed-a7f6-486d285afc60",
   "metadata": {},
   "outputs": [
    {
     "data": {
      "application/vnd.dataresource+json": {
       "data": [
        {
         "DATAFLOW": "ESTAT:DEMO_R_MWK_05(1.0)",
         "LAST UPDATE": "18/03/24 23:00:00",
         "OBS_FLAG": null,
         "OBS_VALUE": 2,
         "TIME_PERIOD": "2010-W01",
         "age": "TOTAL",
         "freq": "W",
         "geo": "AD",
         "sex": "F",
         "unit": "NR"
        },
        {
         "DATAFLOW": "ESTAT:DEMO_R_MWK_05(1.0)",
         "LAST UPDATE": "18/03/24 23:00:00",
         "OBS_FLAG": null,
         "OBS_VALUE": 3,
         "TIME_PERIOD": "2010-W02",
         "age": "TOTAL",
         "freq": "W",
         "geo": "AD",
         "sex": "F",
         "unit": "NR"
        },
        {
         "DATAFLOW": "ESTAT:DEMO_R_MWK_05(1.0)",
         "LAST UPDATE": "18/03/24 23:00:00",
         "OBS_FLAG": null,
         "OBS_VALUE": 4,
         "TIME_PERIOD": "2010-W03",
         "age": "TOTAL",
         "freq": "W",
         "geo": "AD",
         "sex": "F",
         "unit": "NR"
        },
        {
         "DATAFLOW": "ESTAT:DEMO_R_MWK_05(1.0)",
         "LAST UPDATE": "18/03/24 23:00:00",
         "OBS_FLAG": null,
         "OBS_VALUE": 3,
         "TIME_PERIOD": "2010-W04",
         "age": "TOTAL",
         "freq": "W",
         "geo": "AD",
         "sex": "F",
         "unit": "NR"
        },
        {
         "DATAFLOW": "ESTAT:DEMO_R_MWK_05(1.0)",
         "LAST UPDATE": "18/03/24 23:00:00",
         "OBS_FLAG": null,
         "OBS_VALUE": 3,
         "TIME_PERIOD": "2010-W05",
         "age": "TOTAL",
         "freq": "W",
         "geo": "AD",
         "sex": "F",
         "unit": "NR"
        },
        {
         "DATAFLOW": "ESTAT:DEMO_R_MWK_05(1.0)",
         "LAST UPDATE": "18/03/24 23:00:00",
         "OBS_FLAG": null,
         "OBS_VALUE": 0,
         "TIME_PERIOD": "2010-W06",
         "age": "TOTAL",
         "freq": "W",
         "geo": "AD",
         "sex": "F",
         "unit": "NR"
        },
        {
         "DATAFLOW": "ESTAT:DEMO_R_MWK_05(1.0)",
         "LAST UPDATE": "18/03/24 23:00:00",
         "OBS_FLAG": null,
         "OBS_VALUE": 3,
         "TIME_PERIOD": "2010-W07",
         "age": "TOTAL",
         "freq": "W",
         "geo": "AD",
         "sex": "F",
         "unit": "NR"
        },
        {
         "DATAFLOW": "ESTAT:DEMO_R_MWK_05(1.0)",
         "LAST UPDATE": "18/03/24 23:00:00",
         "OBS_FLAG": null,
         "OBS_VALUE": 2,
         "TIME_PERIOD": "2010-W08",
         "age": "TOTAL",
         "freq": "W",
         "geo": "AD",
         "sex": "F",
         "unit": "NR"
        },
        {
         "DATAFLOW": "ESTAT:DEMO_R_MWK_05(1.0)",
         "LAST UPDATE": "18/03/24 23:00:00",
         "OBS_FLAG": null,
         "OBS_VALUE": 3,
         "TIME_PERIOD": "2010-W09",
         "age": "TOTAL",
         "freq": "W",
         "geo": "AD",
         "sex": "F",
         "unit": "NR"
        },
        {
         "DATAFLOW": "ESTAT:DEMO_R_MWK_05(1.0)",
         "LAST UPDATE": "18/03/24 23:00:00",
         "OBS_FLAG": null,
         "OBS_VALUE": 1,
         "TIME_PERIOD": "2010-W10",
         "age": "TOTAL",
         "freq": "W",
         "geo": "AD",
         "sex": "F",
         "unit": "NR"
        },
        {
         "DATAFLOW": "ESTAT:DEMO_R_MWK_05(1.0)",
         "LAST UPDATE": "18/03/24 23:00:00",
         "OBS_FLAG": null,
         "OBS_VALUE": 2,
         "TIME_PERIOD": "2010-W11",
         "age": "TOTAL",
         "freq": "W",
         "geo": "AD",
         "sex": "F",
         "unit": "NR"
        },
        {
         "DATAFLOW": "ESTAT:DEMO_R_MWK_05(1.0)",
         "LAST UPDATE": "18/03/24 23:00:00",
         "OBS_FLAG": null,
         "OBS_VALUE": 2,
         "TIME_PERIOD": "2010-W12",
         "age": "TOTAL",
         "freq": "W",
         "geo": "AD",
         "sex": "F",
         "unit": "NR"
        },
        {
         "DATAFLOW": "ESTAT:DEMO_R_MWK_05(1.0)",
         "LAST UPDATE": "18/03/24 23:00:00",
         "OBS_FLAG": null,
         "OBS_VALUE": 1,
         "TIME_PERIOD": "2010-W13",
         "age": "TOTAL",
         "freq": "W",
         "geo": "AD",
         "sex": "F",
         "unit": "NR"
        },
        {
         "DATAFLOW": "ESTAT:DEMO_R_MWK_05(1.0)",
         "LAST UPDATE": "18/03/24 23:00:00",
         "OBS_FLAG": null,
         "OBS_VALUE": 3,
         "TIME_PERIOD": "2010-W14",
         "age": "TOTAL",
         "freq": "W",
         "geo": "AD",
         "sex": "F",
         "unit": "NR"
        },
        {
         "DATAFLOW": "ESTAT:DEMO_R_MWK_05(1.0)",
         "LAST UPDATE": "18/03/24 23:00:00",
         "OBS_FLAG": null,
         "OBS_VALUE": 2,
         "TIME_PERIOD": "2010-W15",
         "age": "TOTAL",
         "freq": "W",
         "geo": "AD",
         "sex": "F",
         "unit": "NR"
        },
        {
         "DATAFLOW": "ESTAT:DEMO_R_MWK_05(1.0)",
         "LAST UPDATE": "18/03/24 23:00:00",
         "OBS_FLAG": null,
         "OBS_VALUE": 1,
         "TIME_PERIOD": "2010-W16",
         "age": "TOTAL",
         "freq": "W",
         "geo": "AD",
         "sex": "F",
         "unit": "NR"
        },
        {
         "DATAFLOW": "ESTAT:DEMO_R_MWK_05(1.0)",
         "LAST UPDATE": "18/03/24 23:00:00",
         "OBS_FLAG": null,
         "OBS_VALUE": 1,
         "TIME_PERIOD": "2010-W17",
         "age": "TOTAL",
         "freq": "W",
         "geo": "AD",
         "sex": "F",
         "unit": "NR"
        },
        {
         "DATAFLOW": "ESTAT:DEMO_R_MWK_05(1.0)",
         "LAST UPDATE": "18/03/24 23:00:00",
         "OBS_FLAG": null,
         "OBS_VALUE": 3,
         "TIME_PERIOD": "2010-W18",
         "age": "TOTAL",
         "freq": "W",
         "geo": "AD",
         "sex": "F",
         "unit": "NR"
        },
        {
         "DATAFLOW": "ESTAT:DEMO_R_MWK_05(1.0)",
         "LAST UPDATE": "18/03/24 23:00:00",
         "OBS_FLAG": null,
         "OBS_VALUE": 1,
         "TIME_PERIOD": "2010-W19",
         "age": "TOTAL",
         "freq": "W",
         "geo": "AD",
         "sex": "F",
         "unit": "NR"
        },
        {
         "DATAFLOW": "ESTAT:DEMO_R_MWK_05(1.0)",
         "LAST UPDATE": "18/03/24 23:00:00",
         "OBS_FLAG": null,
         "OBS_VALUE": 2,
         "TIME_PERIOD": "2010-W20",
         "age": "TOTAL",
         "freq": "W",
         "geo": "AD",
         "sex": "F",
         "unit": "NR"
        },
        {
         "DATAFLOW": "ESTAT:DEMO_R_MWK_05(1.0)",
         "LAST UPDATE": "18/03/24 23:00:00",
         "OBS_FLAG": null,
         "OBS_VALUE": 1,
         "TIME_PERIOD": "2010-W21",
         "age": "TOTAL",
         "freq": "W",
         "geo": "AD",
         "sex": "F",
         "unit": "NR"
        },
        {
         "DATAFLOW": "ESTAT:DEMO_R_MWK_05(1.0)",
         "LAST UPDATE": "18/03/24 23:00:00",
         "OBS_FLAG": null,
         "OBS_VALUE": 1,
         "TIME_PERIOD": "2010-W22",
         "age": "TOTAL",
         "freq": "W",
         "geo": "AD",
         "sex": "F",
         "unit": "NR"
        },
        {
         "DATAFLOW": "ESTAT:DEMO_R_MWK_05(1.0)",
         "LAST UPDATE": "18/03/24 23:00:00",
         "OBS_FLAG": null,
         "OBS_VALUE": 1,
         "TIME_PERIOD": "2010-W23",
         "age": "TOTAL",
         "freq": "W",
         "geo": "AD",
         "sex": "F",
         "unit": "NR"
        },
        {
         "DATAFLOW": "ESTAT:DEMO_R_MWK_05(1.0)",
         "LAST UPDATE": "18/03/24 23:00:00",
         "OBS_FLAG": null,
         "OBS_VALUE": 2,
         "TIME_PERIOD": "2010-W24",
         "age": "TOTAL",
         "freq": "W",
         "geo": "AD",
         "sex": "F",
         "unit": "NR"
        },
        {
         "DATAFLOW": "ESTAT:DEMO_R_MWK_05(1.0)",
         "LAST UPDATE": "18/03/24 23:00:00",
         "OBS_FLAG": null,
         "OBS_VALUE": 2,
         "TIME_PERIOD": "2010-W25",
         "age": "TOTAL",
         "freq": "W",
         "geo": "AD",
         "sex": "F",
         "unit": "NR"
        },
        {
         "DATAFLOW": "ESTAT:DEMO_R_MWK_05(1.0)",
         "LAST UPDATE": "18/03/24 23:00:00",
         "OBS_FLAG": null,
         "OBS_VALUE": 2,
         "TIME_PERIOD": "2010-W26",
         "age": "TOTAL",
         "freq": "W",
         "geo": "AD",
         "sex": "F",
         "unit": "NR"
        },
        {
         "DATAFLOW": "ESTAT:DEMO_R_MWK_05(1.0)",
         "LAST UPDATE": "18/03/24 23:00:00",
         "OBS_FLAG": null,
         "OBS_VALUE": 5,
         "TIME_PERIOD": "2010-W27",
         "age": "TOTAL",
         "freq": "W",
         "geo": "AD",
         "sex": "F",
         "unit": "NR"
        },
        {
         "DATAFLOW": "ESTAT:DEMO_R_MWK_05(1.0)",
         "LAST UPDATE": "18/03/24 23:00:00",
         "OBS_FLAG": null,
         "OBS_VALUE": 1,
         "TIME_PERIOD": "2010-W28",
         "age": "TOTAL",
         "freq": "W",
         "geo": "AD",
         "sex": "F",
         "unit": "NR"
        },
        {
         "DATAFLOW": "ESTAT:DEMO_R_MWK_05(1.0)",
         "LAST UPDATE": "18/03/24 23:00:00",
         "OBS_FLAG": null,
         "OBS_VALUE": 2,
         "TIME_PERIOD": "2010-W29",
         "age": "TOTAL",
         "freq": "W",
         "geo": "AD",
         "sex": "F",
         "unit": "NR"
        },
        {
         "DATAFLOW": "ESTAT:DEMO_R_MWK_05(1.0)",
         "LAST UPDATE": "18/03/24 23:00:00",
         "OBS_FLAG": null,
         "OBS_VALUE": 4,
         "TIME_PERIOD": "2010-W30",
         "age": "TOTAL",
         "freq": "W",
         "geo": "AD",
         "sex": "F",
         "unit": "NR"
        },
        {
         "DATAFLOW": "ESTAT:DEMO_R_MWK_05(1.0)",
         "LAST UPDATE": "18/03/24 23:00:00",
         "OBS_FLAG": null,
         "OBS_VALUE": 1,
         "TIME_PERIOD": "2010-W31",
         "age": "TOTAL",
         "freq": "W",
         "geo": "AD",
         "sex": "F",
         "unit": "NR"
        },
        {
         "DATAFLOW": "ESTAT:DEMO_R_MWK_05(1.0)",
         "LAST UPDATE": "18/03/24 23:00:00",
         "OBS_FLAG": null,
         "OBS_VALUE": 1,
         "TIME_PERIOD": "2010-W32",
         "age": "TOTAL",
         "freq": "W",
         "geo": "AD",
         "sex": "F",
         "unit": "NR"
        },
        {
         "DATAFLOW": "ESTAT:DEMO_R_MWK_05(1.0)",
         "LAST UPDATE": "18/03/24 23:00:00",
         "OBS_FLAG": null,
         "OBS_VALUE": 2,
         "TIME_PERIOD": "2010-W33",
         "age": "TOTAL",
         "freq": "W",
         "geo": "AD",
         "sex": "F",
         "unit": "NR"
        },
        {
         "DATAFLOW": "ESTAT:DEMO_R_MWK_05(1.0)",
         "LAST UPDATE": "18/03/24 23:00:00",
         "OBS_FLAG": null,
         "OBS_VALUE": 1,
         "TIME_PERIOD": "2010-W34",
         "age": "TOTAL",
         "freq": "W",
         "geo": "AD",
         "sex": "F",
         "unit": "NR"
        },
        {
         "DATAFLOW": "ESTAT:DEMO_R_MWK_05(1.0)",
         "LAST UPDATE": "18/03/24 23:00:00",
         "OBS_FLAG": null,
         "OBS_VALUE": 4,
         "TIME_PERIOD": "2010-W35",
         "age": "TOTAL",
         "freq": "W",
         "geo": "AD",
         "sex": "F",
         "unit": "NR"
        },
        {
         "DATAFLOW": "ESTAT:DEMO_R_MWK_05(1.0)",
         "LAST UPDATE": "18/03/24 23:00:00",
         "OBS_FLAG": null,
         "OBS_VALUE": 2,
         "TIME_PERIOD": "2010-W36",
         "age": "TOTAL",
         "freq": "W",
         "geo": "AD",
         "sex": "F",
         "unit": "NR"
        },
        {
         "DATAFLOW": "ESTAT:DEMO_R_MWK_05(1.0)",
         "LAST UPDATE": "18/03/24 23:00:00",
         "OBS_FLAG": null,
         "OBS_VALUE": 1,
         "TIME_PERIOD": "2010-W37",
         "age": "TOTAL",
         "freq": "W",
         "geo": "AD",
         "sex": "F",
         "unit": "NR"
        },
        {
         "DATAFLOW": "ESTAT:DEMO_R_MWK_05(1.0)",
         "LAST UPDATE": "18/03/24 23:00:00",
         "OBS_FLAG": null,
         "OBS_VALUE": 3,
         "TIME_PERIOD": "2010-W38",
         "age": "TOTAL",
         "freq": "W",
         "geo": "AD",
         "sex": "F",
         "unit": "NR"
        },
        {
         "DATAFLOW": "ESTAT:DEMO_R_MWK_05(1.0)",
         "LAST UPDATE": "18/03/24 23:00:00",
         "OBS_FLAG": null,
         "OBS_VALUE": 2,
         "TIME_PERIOD": "2010-W39",
         "age": "TOTAL",
         "freq": "W",
         "geo": "AD",
         "sex": "F",
         "unit": "NR"
        },
        {
         "DATAFLOW": "ESTAT:DEMO_R_MWK_05(1.0)",
         "LAST UPDATE": "18/03/24 23:00:00",
         "OBS_FLAG": null,
         "OBS_VALUE": 5,
         "TIME_PERIOD": "2010-W40",
         "age": "TOTAL",
         "freq": "W",
         "geo": "AD",
         "sex": "F",
         "unit": "NR"
        },
        {
         "DATAFLOW": "ESTAT:DEMO_R_MWK_05(1.0)",
         "LAST UPDATE": "18/03/24 23:00:00",
         "OBS_FLAG": null,
         "OBS_VALUE": 1,
         "TIME_PERIOD": "2010-W41",
         "age": "TOTAL",
         "freq": "W",
         "geo": "AD",
         "sex": "F",
         "unit": "NR"
        },
        {
         "DATAFLOW": "ESTAT:DEMO_R_MWK_05(1.0)",
         "LAST UPDATE": "18/03/24 23:00:00",
         "OBS_FLAG": null,
         "OBS_VALUE": 2,
         "TIME_PERIOD": "2010-W42",
         "age": "TOTAL",
         "freq": "W",
         "geo": "AD",
         "sex": "F",
         "unit": "NR"
        },
        {
         "DATAFLOW": "ESTAT:DEMO_R_MWK_05(1.0)",
         "LAST UPDATE": "18/03/24 23:00:00",
         "OBS_FLAG": null,
         "OBS_VALUE": 3,
         "TIME_PERIOD": "2010-W43",
         "age": "TOTAL",
         "freq": "W",
         "geo": "AD",
         "sex": "F",
         "unit": "NR"
        },
        {
         "DATAFLOW": "ESTAT:DEMO_R_MWK_05(1.0)",
         "LAST UPDATE": "18/03/24 23:00:00",
         "OBS_FLAG": null,
         "OBS_VALUE": 1,
         "TIME_PERIOD": "2010-W44",
         "age": "TOTAL",
         "freq": "W",
         "geo": "AD",
         "sex": "F",
         "unit": "NR"
        },
        {
         "DATAFLOW": "ESTAT:DEMO_R_MWK_05(1.0)",
         "LAST UPDATE": "18/03/24 23:00:00",
         "OBS_FLAG": null,
         "OBS_VALUE": 0,
         "TIME_PERIOD": "2010-W45",
         "age": "TOTAL",
         "freq": "W",
         "geo": "AD",
         "sex": "F",
         "unit": "NR"
        },
        {
         "DATAFLOW": "ESTAT:DEMO_R_MWK_05(1.0)",
         "LAST UPDATE": "18/03/24 23:00:00",
         "OBS_FLAG": null,
         "OBS_VALUE": 2,
         "TIME_PERIOD": "2010-W46",
         "age": "TOTAL",
         "freq": "W",
         "geo": "AD",
         "sex": "F",
         "unit": "NR"
        },
        {
         "DATAFLOW": "ESTAT:DEMO_R_MWK_05(1.0)",
         "LAST UPDATE": "18/03/24 23:00:00",
         "OBS_FLAG": null,
         "OBS_VALUE": 3,
         "TIME_PERIOD": "2010-W47",
         "age": "TOTAL",
         "freq": "W",
         "geo": "AD",
         "sex": "F",
         "unit": "NR"
        },
        {
         "DATAFLOW": "ESTAT:DEMO_R_MWK_05(1.0)",
         "LAST UPDATE": "18/03/24 23:00:00",
         "OBS_FLAG": null,
         "OBS_VALUE": 2,
         "TIME_PERIOD": "2010-W48",
         "age": "TOTAL",
         "freq": "W",
         "geo": "AD",
         "sex": "F",
         "unit": "NR"
        },
        {
         "DATAFLOW": "ESTAT:DEMO_R_MWK_05(1.0)",
         "LAST UPDATE": "18/03/24 23:00:00",
         "OBS_FLAG": null,
         "OBS_VALUE": 0,
         "TIME_PERIOD": "2010-W49",
         "age": "TOTAL",
         "freq": "W",
         "geo": "AD",
         "sex": "F",
         "unit": "NR"
        },
        {
         "DATAFLOW": "ESTAT:DEMO_R_MWK_05(1.0)",
         "LAST UPDATE": "18/03/24 23:00:00",
         "OBS_FLAG": null,
         "OBS_VALUE": 0,
         "TIME_PERIOD": "2010-W50",
         "age": "TOTAL",
         "freq": "W",
         "geo": "AD",
         "sex": "F",
         "unit": "NR"
        }
       ],
       "schema": {
        "fields": [
         {
          "name": "DATAFLOW",
          "type": "string"
         },
         {
          "name": "LAST UPDATE",
          "type": "string"
         },
         {
          "name": "freq",
          "type": "string"
         },
         {
          "name": "age",
          "type": "string"
         },
         {
          "name": "sex",
          "type": "string"
         },
         {
          "name": "unit",
          "type": "string"
         },
         {
          "name": "geo",
          "type": "string"
         },
         {
          "name": "TIME_PERIOD",
          "type": "string"
         },
         {
          "name": "OBS_VALUE",
          "type": "integer"
         },
         {
          "name": "OBS_FLAG",
          "type": "string"
         }
        ]
       }
      },
      "text/html": [
       "<table><thead><tr><th>DATAFLOW</th><th>LAST UPDATE</th><th>freq</th><th>age</th><th>sex</th><th>unit</th><th>geo</th><th>TIME_PERIOD</th><th>OBS_VALUE</th><th>OBS_FLAG</th></tr></thead><tbody><tr><td>ESTAT:DEMO_R_MWK_05(1.0)</td><td>18/03/24 23:00:00</td><td>W</td><td>TOTAL</td><td>F</td><td>NR</td><td>AD</td><td>2010-W01</td><td>2</td><td>null</td></tr><tr><td>ESTAT:DEMO_R_MWK_05(1.0)</td><td>18/03/24 23:00:00</td><td>W</td><td>TOTAL</td><td>F</td><td>NR</td><td>AD</td><td>2010-W02</td><td>3</td><td>null</td></tr><tr><td>ESTAT:DEMO_R_MWK_05(1.0)</td><td>18/03/24 23:00:00</td><td>W</td><td>TOTAL</td><td>F</td><td>NR</td><td>AD</td><td>2010-W03</td><td>4</td><td>null</td></tr><tr><td>ESTAT:DEMO_R_MWK_05(1.0)</td><td>18/03/24 23:00:00</td><td>W</td><td>TOTAL</td><td>F</td><td>NR</td><td>AD</td><td>2010-W04</td><td>3</td><td>null</td></tr><tr><td>ESTAT:DEMO_R_MWK_05(1.0)</td><td>18/03/24 23:00:00</td><td>W</td><td>TOTAL</td><td>F</td><td>NR</td><td>AD</td><td>2010-W05</td><td>3</td><td>null</td></tr><tr><td>ESTAT:DEMO_R_MWK_05(1.0)</td><td>18/03/24 23:00:00</td><td>W</td><td>TOTAL</td><td>F</td><td>NR</td><td>AD</td><td>2010-W06</td><td>0</td><td>null</td></tr><tr><td>ESTAT:DEMO_R_MWK_05(1.0)</td><td>18/03/24 23:00:00</td><td>W</td><td>TOTAL</td><td>F</td><td>NR</td><td>AD</td><td>2010-W07</td><td>3</td><td>null</td></tr><tr><td>ESTAT:DEMO_R_MWK_05(1.0)</td><td>18/03/24 23:00:00</td><td>W</td><td>TOTAL</td><td>F</td><td>NR</td><td>AD</td><td>2010-W08</td><td>2</td><td>null</td></tr><tr><td>ESTAT:DEMO_R_MWK_05(1.0)</td><td>18/03/24 23:00:00</td><td>W</td><td>TOTAL</td><td>F</td><td>NR</td><td>AD</td><td>2010-W09</td><td>3</td><td>null</td></tr><tr><td>ESTAT:DEMO_R_MWK_05(1.0)</td><td>18/03/24 23:00:00</td><td>W</td><td>TOTAL</td><td>F</td><td>NR</td><td>AD</td><td>2010-W10</td><td>1</td><td>null</td></tr><tr><td>ESTAT:DEMO_R_MWK_05(1.0)</td><td>18/03/24 23:00:00</td><td>W</td><td>TOTAL</td><td>F</td><td>NR</td><td>AD</td><td>2010-W11</td><td>2</td><td>null</td></tr><tr><td>ESTAT:DEMO_R_MWK_05(1.0)</td><td>18/03/24 23:00:00</td><td>W</td><td>TOTAL</td><td>F</td><td>NR</td><td>AD</td><td>2010-W12</td><td>2</td><td>null</td></tr><tr><td>ESTAT:DEMO_R_MWK_05(1.0)</td><td>18/03/24 23:00:00</td><td>W</td><td>TOTAL</td><td>F</td><td>NR</td><td>AD</td><td>2010-W13</td><td>1</td><td>null</td></tr><tr><td>ESTAT:DEMO_R_MWK_05(1.0)</td><td>18/03/24 23:00:00</td><td>W</td><td>TOTAL</td><td>F</td><td>NR</td><td>AD</td><td>2010-W14</td><td>3</td><td>null</td></tr><tr><td>ESTAT:DEMO_R_MWK_05(1.0)</td><td>18/03/24 23:00:00</td><td>W</td><td>TOTAL</td><td>F</td><td>NR</td><td>AD</td><td>2010-W15</td><td>2</td><td>null</td></tr><tr><td>ESTAT:DEMO_R_MWK_05(1.0)</td><td>18/03/24 23:00:00</td><td>W</td><td>TOTAL</td><td>F</td><td>NR</td><td>AD</td><td>2010-W16</td><td>1</td><td>null</td></tr><tr><td>ESTAT:DEMO_R_MWK_05(1.0)</td><td>18/03/24 23:00:00</td><td>W</td><td>TOTAL</td><td>F</td><td>NR</td><td>AD</td><td>2010-W17</td><td>1</td><td>null</td></tr><tr><td>ESTAT:DEMO_R_MWK_05(1.0)</td><td>18/03/24 23:00:00</td><td>W</td><td>TOTAL</td><td>F</td><td>NR</td><td>AD</td><td>2010-W18</td><td>3</td><td>null</td></tr><tr><td>ESTAT:DEMO_R_MWK_05(1.0)</td><td>18/03/24 23:00:00</td><td>W</td><td>TOTAL</td><td>F</td><td>NR</td><td>AD</td><td>2010-W19</td><td>1</td><td>null</td></tr><tr><td>ESTAT:DEMO_R_MWK_05(1.0)</td><td>18/03/24 23:00:00</td><td>W</td><td>TOTAL</td><td>F</td><td>NR</td><td>AD</td><td>2010-W20</td><td>2</td><td>null</td></tr><tr><td>ESTAT:DEMO_R_MWK_05(1.0)</td><td>18/03/24 23:00:00</td><td>W</td><td>TOTAL</td><td>F</td><td>NR</td><td>AD</td><td>2010-W21</td><td>1</td><td>null</td></tr><tr><td>ESTAT:DEMO_R_MWK_05(1.0)</td><td>18/03/24 23:00:00</td><td>W</td><td>TOTAL</td><td>F</td><td>NR</td><td>AD</td><td>2010-W22</td><td>1</td><td>null</td></tr><tr><td>ESTAT:DEMO_R_MWK_05(1.0)</td><td>18/03/24 23:00:00</td><td>W</td><td>TOTAL</td><td>F</td><td>NR</td><td>AD</td><td>2010-W23</td><td>1</td><td>null</td></tr><tr><td>ESTAT:DEMO_R_MWK_05(1.0)</td><td>18/03/24 23:00:00</td><td>W</td><td>TOTAL</td><td>F</td><td>NR</td><td>AD</td><td>2010-W24</td><td>2</td><td>null</td></tr><tr><td>ESTAT:DEMO_R_MWK_05(1.0)</td><td>18/03/24 23:00:00</td><td>W</td><td>TOTAL</td><td>F</td><td>NR</td><td>AD</td><td>2010-W25</td><td>2</td><td>null</td></tr><tr><td>ESTAT:DEMO_R_MWK_05(1.0)</td><td>18/03/24 23:00:00</td><td>W</td><td>TOTAL</td><td>F</td><td>NR</td><td>AD</td><td>2010-W26</td><td>2</td><td>null</td></tr><tr><td>ESTAT:DEMO_R_MWK_05(1.0)</td><td>18/03/24 23:00:00</td><td>W</td><td>TOTAL</td><td>F</td><td>NR</td><td>AD</td><td>2010-W27</td><td>5</td><td>null</td></tr><tr><td>ESTAT:DEMO_R_MWK_05(1.0)</td><td>18/03/24 23:00:00</td><td>W</td><td>TOTAL</td><td>F</td><td>NR</td><td>AD</td><td>2010-W28</td><td>1</td><td>null</td></tr><tr><td>ESTAT:DEMO_R_MWK_05(1.0)</td><td>18/03/24 23:00:00</td><td>W</td><td>TOTAL</td><td>F</td><td>NR</td><td>AD</td><td>2010-W29</td><td>2</td><td>null</td></tr><tr><td>ESTAT:DEMO_R_MWK_05(1.0)</td><td>18/03/24 23:00:00</td><td>W</td><td>TOTAL</td><td>F</td><td>NR</td><td>AD</td><td>2010-W30</td><td>4</td><td>null</td></tr><tr><td>ESTAT:DEMO_R_MWK_05(1.0)</td><td>18/03/24 23:00:00</td><td>W</td><td>TOTAL</td><td>F</td><td>NR</td><td>AD</td><td>2010-W31</td><td>1</td><td>null</td></tr><tr><td>ESTAT:DEMO_R_MWK_05(1.0)</td><td>18/03/24 23:00:00</td><td>W</td><td>TOTAL</td><td>F</td><td>NR</td><td>AD</td><td>2010-W32</td><td>1</td><td>null</td></tr><tr><td>ESTAT:DEMO_R_MWK_05(1.0)</td><td>18/03/24 23:00:00</td><td>W</td><td>TOTAL</td><td>F</td><td>NR</td><td>AD</td><td>2010-W33</td><td>2</td><td>null</td></tr><tr><td>ESTAT:DEMO_R_MWK_05(1.0)</td><td>18/03/24 23:00:00</td><td>W</td><td>TOTAL</td><td>F</td><td>NR</td><td>AD</td><td>2010-W34</td><td>1</td><td>null</td></tr><tr><td>ESTAT:DEMO_R_MWK_05(1.0)</td><td>18/03/24 23:00:00</td><td>W</td><td>TOTAL</td><td>F</td><td>NR</td><td>AD</td><td>2010-W35</td><td>4</td><td>null</td></tr><tr><td>ESTAT:DEMO_R_MWK_05(1.0)</td><td>18/03/24 23:00:00</td><td>W</td><td>TOTAL</td><td>F</td><td>NR</td><td>AD</td><td>2010-W36</td><td>2</td><td>null</td></tr><tr><td>ESTAT:DEMO_R_MWK_05(1.0)</td><td>18/03/24 23:00:00</td><td>W</td><td>TOTAL</td><td>F</td><td>NR</td><td>AD</td><td>2010-W37</td><td>1</td><td>null</td></tr><tr><td>ESTAT:DEMO_R_MWK_05(1.0)</td><td>18/03/24 23:00:00</td><td>W</td><td>TOTAL</td><td>F</td><td>NR</td><td>AD</td><td>2010-W38</td><td>3</td><td>null</td></tr><tr><td>ESTAT:DEMO_R_MWK_05(1.0)</td><td>18/03/24 23:00:00</td><td>W</td><td>TOTAL</td><td>F</td><td>NR</td><td>AD</td><td>2010-W39</td><td>2</td><td>null</td></tr><tr><td>ESTAT:DEMO_R_MWK_05(1.0)</td><td>18/03/24 23:00:00</td><td>W</td><td>TOTAL</td><td>F</td><td>NR</td><td>AD</td><td>2010-W40</td><td>5</td><td>null</td></tr><tr><td>ESTAT:DEMO_R_MWK_05(1.0)</td><td>18/03/24 23:00:00</td><td>W</td><td>TOTAL</td><td>F</td><td>NR</td><td>AD</td><td>2010-W41</td><td>1</td><td>null</td></tr><tr><td>ESTAT:DEMO_R_MWK_05(1.0)</td><td>18/03/24 23:00:00</td><td>W</td><td>TOTAL</td><td>F</td><td>NR</td><td>AD</td><td>2010-W42</td><td>2</td><td>null</td></tr><tr><td>ESTAT:DEMO_R_MWK_05(1.0)</td><td>18/03/24 23:00:00</td><td>W</td><td>TOTAL</td><td>F</td><td>NR</td><td>AD</td><td>2010-W43</td><td>3</td><td>null</td></tr><tr><td>ESTAT:DEMO_R_MWK_05(1.0)</td><td>18/03/24 23:00:00</td><td>W</td><td>TOTAL</td><td>F</td><td>NR</td><td>AD</td><td>2010-W44</td><td>1</td><td>null</td></tr><tr><td>ESTAT:DEMO_R_MWK_05(1.0)</td><td>18/03/24 23:00:00</td><td>W</td><td>TOTAL</td><td>F</td><td>NR</td><td>AD</td><td>2010-W45</td><td>0</td><td>null</td></tr><tr><td>ESTAT:DEMO_R_MWK_05(1.0)</td><td>18/03/24 23:00:00</td><td>W</td><td>TOTAL</td><td>F</td><td>NR</td><td>AD</td><td>2010-W46</td><td>2</td><td>null</td></tr><tr><td>ESTAT:DEMO_R_MWK_05(1.0)</td><td>18/03/24 23:00:00</td><td>W</td><td>TOTAL</td><td>F</td><td>NR</td><td>AD</td><td>2010-W47</td><td>3</td><td>null</td></tr><tr><td>ESTAT:DEMO_R_MWK_05(1.0)</td><td>18/03/24 23:00:00</td><td>W</td><td>TOTAL</td><td>F</td><td>NR</td><td>AD</td><td>2010-W48</td><td>2</td><td>null</td></tr><tr><td>ESTAT:DEMO_R_MWK_05(1.0)</td><td>18/03/24 23:00:00</td><td>W</td><td>TOTAL</td><td>F</td><td>NR</td><td>AD</td><td>2010-W49</td><td>0</td><td>null</td></tr><tr><td>ESTAT:DEMO_R_MWK_05(1.0)</td><td>18/03/24 23:00:00</td><td>W</td><td>TOTAL</td><td>F</td><td>NR</td><td>AD</td><td>2010-W50</td><td>0</td><td>null</td></tr></tbody></table>"
      ]
     },
     "execution_count": 10,
     "metadata": {},
     "output_type": "execute_result"
    }
   ],
   "source": [
    "pl.readCSV(demo_r_mwk_05, { sep: \",\" }).head(5000)"
   ]
  },
  {
   "cell_type": "code",
   "execution_count": null,
   "id": "5191f9de-96ca-4657-a148-8a45c7233379",
   "metadata": {},
   "outputs": [],
   "source": []
  }
 ],
 "metadata": {
  "kernelspec": {
   "display_name": "Deno",
   "language": "typescript",
   "name": "deno"
  },
  "language_info": {
   "file_extension": ".ts",
   "mimetype": "text/x.typescript",
   "name": "typescript",
   "nb_converter": "script",
   "pygments_lexer": "typescript",
   "version": "5.3.3"
  }
 },
 "nbformat": 4,
 "nbformat_minor": 5
}
