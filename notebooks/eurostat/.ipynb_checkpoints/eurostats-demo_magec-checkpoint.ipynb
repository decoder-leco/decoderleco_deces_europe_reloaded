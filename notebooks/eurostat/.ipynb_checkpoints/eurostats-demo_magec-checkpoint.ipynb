{
 "cells": [
  {
   "cell_type": "markdown",
   "id": "1af78410-48fb-4489-b045-5ab3392b2cfb",
   "metadata": {},
   "source": [
    "# Ingestion des données eurostat"
   ]
  },
  {
   "cell_type": "markdown",
   "id": "3b033e4a-eae6-4f93-bd23-4155dc947a6a",
   "metadata": {},
   "source": [
    "## Nous utilserons polars pour pouvoir voir nos dataset"
   ]
  },
  {
   "cell_type": "code",
   "execution_count": 1,
   "id": "845d81f8-c4b6-4689-9fd7-7592451455a5",
   "metadata": {},
   "outputs": [],
   "source": [
    "import pl from \"npm:nodejs-polars\";"
   ]
  },
  {
   "cell_type": "markdown",
   "id": "39c904ce-4872-4beb-a6a7-f23af6fdc2dd",
   "metadata": {},
   "source": [
    "## Declaration des constante pour construire l'url de chaquess ressources à interroger"
   ]
  },
  {
   "cell_type": "code",
   "execution_count": 2,
   "id": "e8fe1fc5-f9e0-428e-9701-0aa9f174b996",
   "metadata": {},
   "outputs": [],
   "source": [
    "const eurostat_baseUrl = \"https://ec.europa.eu/eurostat/api/dissemination/sdmx/2.1/data/\""
   ]
  },
  {
   "cell_type": "code",
   "execution_count": 3,
   "id": "cddbc304-bfd1-44f8-a6c7-fd6713776400",
   "metadata": {},
   "outputs": [],
   "source": [
    "const format = \"/?format=SDMX-CSV\""
   ]
  },
  {
   "cell_type": "markdown",
   "id": "f422bce6-f761-4e94-bb76-93f73f661e98",
   "metadata": {},
   "source": [
    "## Récupération des données pour `demo_pjan`"
   ]
  },
  {
   "cell_type": "code",
   "execution_count": 4,
   "id": "1d8fa6f6-faea-4665-bfc0-a1ca7b0d40bf",
   "metadata": {},
   "outputs": [],
   "source": [
    "let response = await fetch( eurostat_baseUrl +\"demo_magec\"+ format)"
   ]
  },
  {
   "cell_type": "code",
   "execution_count": 5,
   "id": "1d99093f-4110-409f-8a0f-8c10ce48c4e2",
   "metadata": {},
   "outputs": [],
   "source": [
    "let demo_magec = await response.text();"
   ]
  },
  {
   "cell_type": "markdown",
   "id": "0f2a80a8-9821-4d92-883c-819e03fe3d9f",
   "metadata": {},
   "source": [
    "## Visualisation du header csv"
   ]
  },
  {
   "cell_type": "code",
   "execution_count": 10,
   "id": "cbc46c5c-5b68-4994-9140-faee5b61add8",
   "metadata": {},
   "outputs": [
    {
     "data": {
      "application/vnd.dataresource+json": {
       "data": [],
       "schema": {
        "fields": [
         {
          "name": "DATAFLOW",
          "type": "string"
         },
         {
          "name": "LAST UPDATE",
          "type": "string"
         },
         {
          "name": "freq",
          "type": "string"
         },
         {
          "name": "unit",
          "type": "string"
         },
         {
          "name": "sex",
          "type": "string"
         },
         {
          "name": "age",
          "type": "string"
         },
         {
          "name": "geo",
          "type": "string"
         },
         {
          "name": "TIME_PERIOD",
          "type": "string"
         },
         {
          "name": "OBS_VALUE",
          "type": "string"
         },
         {
          "name": "OBS_FLAG",
          "type": "string"
         }
        ]
       }
      },
      "text/html": [
       "<table><thead><tr><th>DATAFLOW</th><th>LAST UPDATE</th><th>freq</th><th>unit</th><th>sex</th><th>age</th><th>geo</th><th>TIME_PERIOD</th><th>OBS_VALUE</th><th>OBS_FLAG</th></tr></thead><tbody></tbody></table>"
      ]
     },
     "execution_count": 10,
     "metadata": {},
     "output_type": "execute_result"
    }
   ],
   "source": [
    "pl.readCSV(demo_magec.substring(0,demo_magec.indexOf('\\r\\n')), { sep: \",\"});"
   ]
  },
  {
   "cell_type": "markdown",
   "id": "f9ed3736-b773-402b-966d-1579c176022b",
   "metadata": {},
   "source": [
    "## Transformation en dataframe polars pour recuperer nos types & visualiser un echantillon de données"
   ]
  },
  {
   "cell_type": "code",
   "execution_count": 11,
   "id": "f041aba7-0277-4798-9184-18e5c82df047",
   "metadata": {},
   "outputs": [],
   "source": [
    "let df = pl.readCSV(demo_magec, { sep: \",\" });"
   ]
  },
  {
   "cell_type": "code",
   "execution_count": 12,
   "id": "2b9c489c-9861-4883-8a4b-e1131c9988d4",
   "metadata": {},
   "outputs": [
    {
     "data": {
      "text/plain": [
       "[\n",
       "  { DataType: \u001b[32m\"String\"\u001b[39m },\n",
       "  { DataType: \u001b[32m\"String\"\u001b[39m },\n",
       "  { DataType: \u001b[32m\"String\"\u001b[39m },\n",
       "  { DataType: \u001b[32m\"String\"\u001b[39m },\n",
       "  { DataType: \u001b[32m\"String\"\u001b[39m },\n",
       "  { DataType: \u001b[32m\"String\"\u001b[39m },\n",
       "  { DataType: \u001b[32m\"String\"\u001b[39m },\n",
       "  { DataType: \u001b[32m\"Int64\"\u001b[39m },\n",
       "  { DataType: \u001b[32m\"Int64\"\u001b[39m },\n",
       "  { DataType: \u001b[32m\"String\"\u001b[39m }\n",
       "]"
      ]
     },
     "execution_count": 12,
     "metadata": {},
     "output_type": "execute_result"
    }
   ],
   "source": [
    "df.dtypes"
   ]
  },
  {
   "cell_type": "markdown",
   "id": "16d255ba-8d7d-4fc2-876e-ae3124fbe7ea",
   "metadata": {},
   "source": [
    "### Noms desColonnes ainsi que leur type\n",
    "\n",
    "| DATAFLOW | LAST UPDATE | freq | age | sex | unit | geo | TIME_PERIOD | OBS_VALUE | OBS_FLAG |\n",
    "|:--------:|:-----------:|:----:|:---:|:---:|:----:|:---:|:-----------:|:---------:|:--------:|\n",
    "|String|String|String|String|String|String|String|String|Int64|String|"
   ]
  },
  {
   "cell_type": "markdown",
   "id": "78355221-591a-468c-b350-1ba377c8411f",
   "metadata": {},
   "source": [
    "## échantillon des 50 1ere rangés"
   ]
  },
  {
   "cell_type": "code",
   "execution_count": 16,
   "id": "b420cc36-a8e5-4ed4-a0f8-5143423f17d1",
   "metadata": {
    "scrolled": true
   },
   "outputs": [
    {
     "data": {
      "application/vnd.dataresource+json": {
       "data": [
        {
         "DATAFLOW": "ESTAT:DEMO_MAGEC(1.0)",
         "LAST UPDATE": "14/03/24 11:00:00",
         "OBS_FLAG": null,
         "OBS_VALUE": 129,
         "TIME_PERIOD": 2004,
         "age": "TOTAL",
         "freq": "A",
         "geo": "AD",
         "sex": "F",
         "unit": "NR"
        },
        {
         "DATAFLOW": "ESTAT:DEMO_MAGEC(1.0)",
         "LAST UPDATE": "14/03/24 11:00:00",
         "OBS_FLAG": null,
         "OBS_VALUE": 119,
         "TIME_PERIOD": 2005,
         "age": "TOTAL",
         "freq": "A",
         "geo": "AD",
         "sex": "F",
         "unit": "NR"
        },
        {
         "DATAFLOW": "ESTAT:DEMO_MAGEC(1.0)",
         "LAST UPDATE": "14/03/24 11:00:00",
         "OBS_FLAG": null,
         "OBS_VALUE": 116,
         "TIME_PERIOD": 2006,
         "age": "TOTAL",
         "freq": "A",
         "geo": "AD",
         "sex": "F",
         "unit": "NR"
        },
        {
         "DATAFLOW": "ESTAT:DEMO_MAGEC(1.0)",
         "LAST UPDATE": "14/03/24 11:00:00",
         "OBS_FLAG": null,
         "OBS_VALUE": 90,
         "TIME_PERIOD": 2007,
         "age": "TOTAL",
         "freq": "A",
         "geo": "AD",
         "sex": "F",
         "unit": "NR"
        },
        {
         "DATAFLOW": "ESTAT:DEMO_MAGEC(1.0)",
         "LAST UPDATE": "14/03/24 11:00:00",
         "OBS_FLAG": null,
         "OBS_VALUE": 100,
         "TIME_PERIOD": 2008,
         "age": "TOTAL",
         "freq": "A",
         "geo": "AD",
         "sex": "F",
         "unit": "NR"
        },
        {
         "DATAFLOW": "ESTAT:DEMO_MAGEC(1.0)",
         "LAST UPDATE": "14/03/24 11:00:00",
         "OBS_FLAG": null,
         "OBS_VALUE": 113,
         "TIME_PERIOD": 2009,
         "age": "TOTAL",
         "freq": "A",
         "geo": "AD",
         "sex": "F",
         "unit": "NR"
        },
        {
         "DATAFLOW": "ESTAT:DEMO_MAGEC(1.0)",
         "LAST UPDATE": "14/03/24 11:00:00",
         "OBS_FLAG": null,
         "OBS_VALUE": 101,
         "TIME_PERIOD": 2010,
         "age": "TOTAL",
         "freq": "A",
         "geo": "AD",
         "sex": "F",
         "unit": "NR"
        },
        {
         "DATAFLOW": "ESTAT:DEMO_MAGEC(1.0)",
         "LAST UPDATE": "14/03/24 11:00:00",
         "OBS_FLAG": null,
         "OBS_VALUE": 119,
         "TIME_PERIOD": 2011,
         "age": "TOTAL",
         "freq": "A",
         "geo": "AD",
         "sex": "F",
         "unit": "NR"
        },
        {
         "DATAFLOW": "ESTAT:DEMO_MAGEC(1.0)",
         "LAST UPDATE": "14/03/24 11:00:00",
         "OBS_FLAG": null,
         "OBS_VALUE": 135,
         "TIME_PERIOD": 2012,
         "age": "TOTAL",
         "freq": "A",
         "geo": "AD",
         "sex": "F",
         "unit": "NR"
        },
        {
         "DATAFLOW": "ESTAT:DEMO_MAGEC(1.0)",
         "LAST UPDATE": "14/03/24 11:00:00",
         "OBS_FLAG": null,
         "OBS_VALUE": 157,
         "TIME_PERIOD": 2018,
         "age": "TOTAL",
         "freq": "A",
         "geo": "AD",
         "sex": "F",
         "unit": "NR"
        },
        {
         "DATAFLOW": "ESTAT:DEMO_MAGEC(1.0)",
         "LAST UPDATE": "14/03/24 11:00:00",
         "OBS_FLAG": null,
         "OBS_VALUE": 8423,
         "TIME_PERIOD": 1960,
         "age": "TOTAL",
         "freq": "A",
         "geo": "AL",
         "sex": "F",
         "unit": "NR"
        },
        {
         "DATAFLOW": "ESTAT:DEMO_MAGEC(1.0)",
         "LAST UPDATE": "14/03/24 11:00:00",
         "OBS_FLAG": null,
         "OBS_VALUE": 7569,
         "TIME_PERIOD": 1961,
         "age": "TOTAL",
         "freq": "A",
         "geo": "AL",
         "sex": "F",
         "unit": "NR"
        },
        {
         "DATAFLOW": "ESTAT:DEMO_MAGEC(1.0)",
         "LAST UPDATE": "14/03/24 11:00:00",
         "OBS_FLAG": null,
         "OBS_VALUE": 9187,
         "TIME_PERIOD": 1962,
         "age": "TOTAL",
         "freq": "A",
         "geo": "AL",
         "sex": "F",
         "unit": "NR"
        },
        {
         "DATAFLOW": "ESTAT:DEMO_MAGEC(1.0)",
         "LAST UPDATE": "14/03/24 11:00:00",
         "OBS_FLAG": null,
         "OBS_VALUE": 8604,
         "TIME_PERIOD": 1963,
         "age": "TOTAL",
         "freq": "A",
         "geo": "AL",
         "sex": "F",
         "unit": "NR"
        },
        {
         "DATAFLOW": "ESTAT:DEMO_MAGEC(1.0)",
         "LAST UPDATE": "14/03/24 11:00:00",
         "OBS_FLAG": null,
         "OBS_VALUE": 7854,
         "TIME_PERIOD": 1964,
         "age": "TOTAL",
         "freq": "A",
         "geo": "AL",
         "sex": "F",
         "unit": "NR"
        },
        {
         "DATAFLOW": "ESTAT:DEMO_MAGEC(1.0)",
         "LAST UPDATE": "14/03/24 11:00:00",
         "OBS_FLAG": null,
         "OBS_VALUE": 8043,
         "TIME_PERIOD": 1965,
         "age": "TOTAL",
         "freq": "A",
         "geo": "AL",
         "sex": "F",
         "unit": "NR"
        },
        {
         "DATAFLOW": "ESTAT:DEMO_MAGEC(1.0)",
         "LAST UPDATE": "14/03/24 11:00:00",
         "OBS_FLAG": null,
         "OBS_VALUE": 7995,
         "TIME_PERIOD": 1966,
         "age": "TOTAL",
         "freq": "A",
         "geo": "AL",
         "sex": "F",
         "unit": "NR"
        },
        {
         "DATAFLOW": "ESTAT:DEMO_MAGEC(1.0)",
         "LAST UPDATE": "14/03/24 11:00:00",
         "OBS_FLAG": null,
         "OBS_VALUE": 8020,
         "TIME_PERIOD": 1967,
         "age": "TOTAL",
         "freq": "A",
         "geo": "AL",
         "sex": "F",
         "unit": "NR"
        },
        {
         "DATAFLOW": "ESTAT:DEMO_MAGEC(1.0)",
         "LAST UPDATE": "14/03/24 11:00:00",
         "OBS_FLAG": null,
         "OBS_VALUE": 7696,
         "TIME_PERIOD": 1968,
         "age": "TOTAL",
         "freq": "A",
         "geo": "AL",
         "sex": "F",
         "unit": "NR"
        },
        {
         "DATAFLOW": "ESTAT:DEMO_MAGEC(1.0)",
         "LAST UPDATE": "14/03/24 11:00:00",
         "OBS_FLAG": null,
         "OBS_VALUE": 7247,
         "TIME_PERIOD": 1969,
         "age": "TOTAL",
         "freq": "A",
         "geo": "AL",
         "sex": "F",
         "unit": "NR"
        },
        {
         "DATAFLOW": "ESTAT:DEMO_MAGEC(1.0)",
         "LAST UPDATE": "14/03/24 11:00:00",
         "OBS_FLAG": null,
         "OBS_VALUE": 9193,
         "TIME_PERIOD": 1970,
         "age": "TOTAL",
         "freq": "A",
         "geo": "AL",
         "sex": "F",
         "unit": "NR"
        },
        {
         "DATAFLOW": "ESTAT:DEMO_MAGEC(1.0)",
         "LAST UPDATE": "14/03/24 11:00:00",
         "OBS_FLAG": null,
         "OBS_VALUE": 8461,
         "TIME_PERIOD": 1971,
         "age": "TOTAL",
         "freq": "A",
         "geo": "AL",
         "sex": "F",
         "unit": "NR"
        },
        {
         "DATAFLOW": "ESTAT:DEMO_MAGEC(1.0)",
         "LAST UPDATE": "14/03/24 11:00:00",
         "OBS_FLAG": null,
         "OBS_VALUE": 8346,
         "TIME_PERIOD": 1972,
         "age": "TOTAL",
         "freq": "A",
         "geo": "AL",
         "sex": "F",
         "unit": "NR"
        },
        {
         "DATAFLOW": "ESTAT:DEMO_MAGEC(1.0)",
         "LAST UPDATE": "14/03/24 11:00:00",
         "OBS_FLAG": null,
         "OBS_VALUE": 8329,
         "TIME_PERIOD": 1973,
         "age": "TOTAL",
         "freq": "A",
         "geo": "AL",
         "sex": "F",
         "unit": "NR"
        },
        {
         "DATAFLOW": "ESTAT:DEMO_MAGEC(1.0)",
         "LAST UPDATE": "14/03/24 11:00:00",
         "OBS_FLAG": null,
         "OBS_VALUE": 7697,
         "TIME_PERIOD": 1974,
         "age": "TOTAL",
         "freq": "A",
         "geo": "AL",
         "sex": "F",
         "unit": "NR"
        },
        {
         "DATAFLOW": "ESTAT:DEMO_MAGEC(1.0)",
         "LAST UPDATE": "14/03/24 11:00:00",
         "OBS_FLAG": null,
         "OBS_VALUE": 7449,
         "TIME_PERIOD": 1975,
         "age": "TOTAL",
         "freq": "A",
         "geo": "AL",
         "sex": "F",
         "unit": "NR"
        },
        {
         "DATAFLOW": "ESTAT:DEMO_MAGEC(1.0)",
         "LAST UPDATE": "14/03/24 11:00:00",
         "OBS_FLAG": null,
         "OBS_VALUE": 8016,
         "TIME_PERIOD": 1976,
         "age": "TOTAL",
         "freq": "A",
         "geo": "AL",
         "sex": "F",
         "unit": "NR"
        },
        {
         "DATAFLOW": "ESTAT:DEMO_MAGEC(1.0)",
         "LAST UPDATE": "14/03/24 11:00:00",
         "OBS_FLAG": null,
         "OBS_VALUE": 7437,
         "TIME_PERIOD": 1977,
         "age": "TOTAL",
         "freq": "A",
         "geo": "AL",
         "sex": "F",
         "unit": "NR"
        },
        {
         "DATAFLOW": "ESTAT:DEMO_MAGEC(1.0)",
         "LAST UPDATE": "14/03/24 11:00:00",
         "OBS_FLAG": null,
         "OBS_VALUE": 7427,
         "TIME_PERIOD": 1978,
         "age": "TOTAL",
         "freq": "A",
         "geo": "AL",
         "sex": "F",
         "unit": "NR"
        },
        {
         "DATAFLOW": "ESTAT:DEMO_MAGEC(1.0)",
         "LAST UPDATE": "14/03/24 11:00:00",
         "OBS_FLAG": null,
         "OBS_VALUE": 7786,
         "TIME_PERIOD": 1979,
         "age": "TOTAL",
         "freq": "A",
         "geo": "AL",
         "sex": "F",
         "unit": "NR"
        },
        {
         "DATAFLOW": "ESTAT:DEMO_MAGEC(1.0)",
         "LAST UPDATE": "14/03/24 11:00:00",
         "OBS_FLAG": null,
         "OBS_VALUE": 7603,
         "TIME_PERIOD": 1980,
         "age": "TOTAL",
         "freq": "A",
         "geo": "AL",
         "sex": "F",
         "unit": "NR"
        },
        {
         "DATAFLOW": "ESTAT:DEMO_MAGEC(1.0)",
         "LAST UPDATE": "14/03/24 11:00:00",
         "OBS_FLAG": null,
         "OBS_VALUE": 8133,
         "TIME_PERIOD": 1981,
         "age": "TOTAL",
         "freq": "A",
         "geo": "AL",
         "sex": "F",
         "unit": "NR"
        },
        {
         "DATAFLOW": "ESTAT:DEMO_MAGEC(1.0)",
         "LAST UPDATE": "14/03/24 11:00:00",
         "OBS_FLAG": null,
         "OBS_VALUE": 7414,
         "TIME_PERIOD": 1982,
         "age": "TOTAL",
         "freq": "A",
         "geo": "AL",
         "sex": "F",
         "unit": "NR"
        },
        {
         "DATAFLOW": "ESTAT:DEMO_MAGEC(1.0)",
         "LAST UPDATE": "14/03/24 11:00:00",
         "OBS_FLAG": null,
         "OBS_VALUE": 7774,
         "TIME_PERIOD": 1983,
         "age": "TOTAL",
         "freq": "A",
         "geo": "AL",
         "sex": "F",
         "unit": "NR"
        },
        {
         "DATAFLOW": "ESTAT:DEMO_MAGEC(1.0)",
         "LAST UPDATE": "14/03/24 11:00:00",
         "OBS_FLAG": null,
         "OBS_VALUE": 7288,
         "TIME_PERIOD": 1984,
         "age": "TOTAL",
         "freq": "A",
         "geo": "AL",
         "sex": "F",
         "unit": "NR"
        },
        {
         "DATAFLOW": "ESTAT:DEMO_MAGEC(1.0)",
         "LAST UPDATE": "14/03/24 11:00:00",
         "OBS_FLAG": null,
         "OBS_VALUE": 7546,
         "TIME_PERIOD": 1985,
         "age": "TOTAL",
         "freq": "A",
         "geo": "AL",
         "sex": "F",
         "unit": "NR"
        },
        {
         "DATAFLOW": "ESTAT:DEMO_MAGEC(1.0)",
         "LAST UPDATE": "14/03/24 11:00:00",
         "OBS_FLAG": null,
         "OBS_VALUE": 7491,
         "TIME_PERIOD": 1986,
         "age": "TOTAL",
         "freq": "A",
         "geo": "AL",
         "sex": "F",
         "unit": "NR"
        },
        {
         "DATAFLOW": "ESTAT:DEMO_MAGEC(1.0)",
         "LAST UPDATE": "14/03/24 11:00:00",
         "OBS_FLAG": null,
         "OBS_VALUE": 7547,
         "TIME_PERIOD": 1987,
         "age": "TOTAL",
         "freq": "A",
         "geo": "AL",
         "sex": "F",
         "unit": "NR"
        },
        {
         "DATAFLOW": "ESTAT:DEMO_MAGEC(1.0)",
         "LAST UPDATE": "14/03/24 11:00:00",
         "OBS_FLAG": null,
         "OBS_VALUE": 7438,
         "TIME_PERIOD": 1988,
         "age": "TOTAL",
         "freq": "A",
         "geo": "AL",
         "sex": "F",
         "unit": "NR"
        },
        {
         "DATAFLOW": "ESTAT:DEMO_MAGEC(1.0)",
         "LAST UPDATE": "14/03/24 11:00:00",
         "OBS_FLAG": null,
         "OBS_VALUE": 7929,
         "TIME_PERIOD": 1989,
         "age": "TOTAL",
         "freq": "A",
         "geo": "AL",
         "sex": "F",
         "unit": "NR"
        },
        {
         "DATAFLOW": "ESTAT:DEMO_MAGEC(1.0)",
         "LAST UPDATE": "14/03/24 11:00:00",
         "OBS_FLAG": null,
         "OBS_VALUE": 7882,
         "TIME_PERIOD": 1990,
         "age": "TOTAL",
         "freq": "A",
         "geo": "AL",
         "sex": "F",
         "unit": "NR"
        },
        {
         "DATAFLOW": "ESTAT:DEMO_MAGEC(1.0)",
         "LAST UPDATE": "14/03/24 11:00:00",
         "OBS_FLAG": null,
         "OBS_VALUE": 7447,
         "TIME_PERIOD": 1991,
         "age": "TOTAL",
         "freq": "A",
         "geo": "AL",
         "sex": "F",
         "unit": "NR"
        },
        {
         "DATAFLOW": "ESTAT:DEMO_MAGEC(1.0)",
         "LAST UPDATE": "14/03/24 11:00:00",
         "OBS_FLAG": null,
         "OBS_VALUE": 7618,
         "TIME_PERIOD": 1992,
         "age": "TOTAL",
         "freq": "A",
         "geo": "AL",
         "sex": "F",
         "unit": "NR"
        },
        {
         "DATAFLOW": "ESTAT:DEMO_MAGEC(1.0)",
         "LAST UPDATE": "14/03/24 11:00:00",
         "OBS_FLAG": null,
         "OBS_VALUE": 7482,
         "TIME_PERIOD": 1993,
         "age": "TOTAL",
         "freq": "A",
         "geo": "AL",
         "sex": "F",
         "unit": "NR"
        },
        {
         "DATAFLOW": "ESTAT:DEMO_MAGEC(1.0)",
         "LAST UPDATE": "14/03/24 11:00:00",
         "OBS_FLAG": null,
         "OBS_VALUE": 7554,
         "TIME_PERIOD": 1994,
         "age": "TOTAL",
         "freq": "A",
         "geo": "AL",
         "sex": "F",
         "unit": "NR"
        },
        {
         "DATAFLOW": "ESTAT:DEMO_MAGEC(1.0)",
         "LAST UPDATE": "14/03/24 11:00:00",
         "OBS_FLAG": null,
         "OBS_VALUE": 7613,
         "TIME_PERIOD": 1995,
         "age": "TOTAL",
         "freq": "A",
         "geo": "AL",
         "sex": "F",
         "unit": "NR"
        },
        {
         "DATAFLOW": "ESTAT:DEMO_MAGEC(1.0)",
         "LAST UPDATE": "14/03/24 11:00:00",
         "OBS_FLAG": null,
         "OBS_VALUE": 7306,
         "TIME_PERIOD": 1996,
         "age": "TOTAL",
         "freq": "A",
         "geo": "AL",
         "sex": "F",
         "unit": "NR"
        },
        {
         "DATAFLOW": "ESTAT:DEMO_MAGEC(1.0)",
         "LAST UPDATE": "14/03/24 11:00:00",
         "OBS_FLAG": null,
         "OBS_VALUE": 7116,
         "TIME_PERIOD": 1997,
         "age": "TOTAL",
         "freq": "A",
         "geo": "AL",
         "sex": "F",
         "unit": "NR"
        },
        {
         "DATAFLOW": "ESTAT:DEMO_MAGEC(1.0)",
         "LAST UPDATE": "14/03/24 11:00:00",
         "OBS_FLAG": null,
         "OBS_VALUE": 7442,
         "TIME_PERIOD": 1998,
         "age": "TOTAL",
         "freq": "A",
         "geo": "AL",
         "sex": "F",
         "unit": "NR"
        },
        {
         "DATAFLOW": "ESTAT:DEMO_MAGEC(1.0)",
         "LAST UPDATE": "14/03/24 11:00:00",
         "OBS_FLAG": null,
         "OBS_VALUE": 7025,
         "TIME_PERIOD": 1999,
         "age": "TOTAL",
         "freq": "A",
         "geo": "AL",
         "sex": "F",
         "unit": "NR"
        }
       ],
       "schema": {
        "fields": [
         {
          "name": "DATAFLOW",
          "type": "string"
         },
         {
          "name": "LAST UPDATE",
          "type": "string"
         },
         {
          "name": "freq",
          "type": "string"
         },
         {
          "name": "unit",
          "type": "string"
         },
         {
          "name": "sex",
          "type": "string"
         },
         {
          "name": "age",
          "type": "string"
         },
         {
          "name": "geo",
          "type": "string"
         },
         {
          "name": "TIME_PERIOD",
          "type": "integer"
         },
         {
          "name": "OBS_VALUE",
          "type": "integer"
         },
         {
          "name": "OBS_FLAG",
          "type": "string"
         }
        ]
       }
      },
      "text/html": [
       "<table><thead><tr><th>DATAFLOW</th><th>LAST UPDATE</th><th>freq</th><th>unit</th><th>sex</th><th>age</th><th>geo</th><th>TIME_PERIOD</th><th>OBS_VALUE</th><th>OBS_FLAG</th></tr></thead><tbody><tr><td>ESTAT:DEMO_MAGEC(1.0)</td><td>14/03/24 11:00:00</td><td>A</td><td>NR</td><td>F</td><td>TOTAL</td><td>AD</td><td>2004</td><td>129</td><td>null</td></tr><tr><td>ESTAT:DEMO_MAGEC(1.0)</td><td>14/03/24 11:00:00</td><td>A</td><td>NR</td><td>F</td><td>TOTAL</td><td>AD</td><td>2005</td><td>119</td><td>null</td></tr><tr><td>ESTAT:DEMO_MAGEC(1.0)</td><td>14/03/24 11:00:00</td><td>A</td><td>NR</td><td>F</td><td>TOTAL</td><td>AD</td><td>2006</td><td>116</td><td>null</td></tr><tr><td>ESTAT:DEMO_MAGEC(1.0)</td><td>14/03/24 11:00:00</td><td>A</td><td>NR</td><td>F</td><td>TOTAL</td><td>AD</td><td>2007</td><td>90</td><td>null</td></tr><tr><td>ESTAT:DEMO_MAGEC(1.0)</td><td>14/03/24 11:00:00</td><td>A</td><td>NR</td><td>F</td><td>TOTAL</td><td>AD</td><td>2008</td><td>100</td><td>null</td></tr><tr><td>ESTAT:DEMO_MAGEC(1.0)</td><td>14/03/24 11:00:00</td><td>A</td><td>NR</td><td>F</td><td>TOTAL</td><td>AD</td><td>2009</td><td>113</td><td>null</td></tr><tr><td>ESTAT:DEMO_MAGEC(1.0)</td><td>14/03/24 11:00:00</td><td>A</td><td>NR</td><td>F</td><td>TOTAL</td><td>AD</td><td>2010</td><td>101</td><td>null</td></tr><tr><td>ESTAT:DEMO_MAGEC(1.0)</td><td>14/03/24 11:00:00</td><td>A</td><td>NR</td><td>F</td><td>TOTAL</td><td>AD</td><td>2011</td><td>119</td><td>null</td></tr><tr><td>ESTAT:DEMO_MAGEC(1.0)</td><td>14/03/24 11:00:00</td><td>A</td><td>NR</td><td>F</td><td>TOTAL</td><td>AD</td><td>2012</td><td>135</td><td>null</td></tr><tr><td>ESTAT:DEMO_MAGEC(1.0)</td><td>14/03/24 11:00:00</td><td>A</td><td>NR</td><td>F</td><td>TOTAL</td><td>AD</td><td>2018</td><td>157</td><td>null</td></tr><tr><td>ESTAT:DEMO_MAGEC(1.0)</td><td>14/03/24 11:00:00</td><td>A</td><td>NR</td><td>F</td><td>TOTAL</td><td>AL</td><td>1960</td><td>8423</td><td>null</td></tr><tr><td>ESTAT:DEMO_MAGEC(1.0)</td><td>14/03/24 11:00:00</td><td>A</td><td>NR</td><td>F</td><td>TOTAL</td><td>AL</td><td>1961</td><td>7569</td><td>null</td></tr><tr><td>ESTAT:DEMO_MAGEC(1.0)</td><td>14/03/24 11:00:00</td><td>A</td><td>NR</td><td>F</td><td>TOTAL</td><td>AL</td><td>1962</td><td>9187</td><td>null</td></tr><tr><td>ESTAT:DEMO_MAGEC(1.0)</td><td>14/03/24 11:00:00</td><td>A</td><td>NR</td><td>F</td><td>TOTAL</td><td>AL</td><td>1963</td><td>8604</td><td>null</td></tr><tr><td>ESTAT:DEMO_MAGEC(1.0)</td><td>14/03/24 11:00:00</td><td>A</td><td>NR</td><td>F</td><td>TOTAL</td><td>AL</td><td>1964</td><td>7854</td><td>null</td></tr><tr><td>ESTAT:DEMO_MAGEC(1.0)</td><td>14/03/24 11:00:00</td><td>A</td><td>NR</td><td>F</td><td>TOTAL</td><td>AL</td><td>1965</td><td>8043</td><td>null</td></tr><tr><td>ESTAT:DEMO_MAGEC(1.0)</td><td>14/03/24 11:00:00</td><td>A</td><td>NR</td><td>F</td><td>TOTAL</td><td>AL</td><td>1966</td><td>7995</td><td>null</td></tr><tr><td>ESTAT:DEMO_MAGEC(1.0)</td><td>14/03/24 11:00:00</td><td>A</td><td>NR</td><td>F</td><td>TOTAL</td><td>AL</td><td>1967</td><td>8020</td><td>null</td></tr><tr><td>ESTAT:DEMO_MAGEC(1.0)</td><td>14/03/24 11:00:00</td><td>A</td><td>NR</td><td>F</td><td>TOTAL</td><td>AL</td><td>1968</td><td>7696</td><td>null</td></tr><tr><td>ESTAT:DEMO_MAGEC(1.0)</td><td>14/03/24 11:00:00</td><td>A</td><td>NR</td><td>F</td><td>TOTAL</td><td>AL</td><td>1969</td><td>7247</td><td>null</td></tr><tr><td>ESTAT:DEMO_MAGEC(1.0)</td><td>14/03/24 11:00:00</td><td>A</td><td>NR</td><td>F</td><td>TOTAL</td><td>AL</td><td>1970</td><td>9193</td><td>null</td></tr><tr><td>ESTAT:DEMO_MAGEC(1.0)</td><td>14/03/24 11:00:00</td><td>A</td><td>NR</td><td>F</td><td>TOTAL</td><td>AL</td><td>1971</td><td>8461</td><td>null</td></tr><tr><td>ESTAT:DEMO_MAGEC(1.0)</td><td>14/03/24 11:00:00</td><td>A</td><td>NR</td><td>F</td><td>TOTAL</td><td>AL</td><td>1972</td><td>8346</td><td>null</td></tr><tr><td>ESTAT:DEMO_MAGEC(1.0)</td><td>14/03/24 11:00:00</td><td>A</td><td>NR</td><td>F</td><td>TOTAL</td><td>AL</td><td>1973</td><td>8329</td><td>null</td></tr><tr><td>ESTAT:DEMO_MAGEC(1.0)</td><td>14/03/24 11:00:00</td><td>A</td><td>NR</td><td>F</td><td>TOTAL</td><td>AL</td><td>1974</td><td>7697</td><td>null</td></tr><tr><td>ESTAT:DEMO_MAGEC(1.0)</td><td>14/03/24 11:00:00</td><td>A</td><td>NR</td><td>F</td><td>TOTAL</td><td>AL</td><td>1975</td><td>7449</td><td>null</td></tr><tr><td>ESTAT:DEMO_MAGEC(1.0)</td><td>14/03/24 11:00:00</td><td>A</td><td>NR</td><td>F</td><td>TOTAL</td><td>AL</td><td>1976</td><td>8016</td><td>null</td></tr><tr><td>ESTAT:DEMO_MAGEC(1.0)</td><td>14/03/24 11:00:00</td><td>A</td><td>NR</td><td>F</td><td>TOTAL</td><td>AL</td><td>1977</td><td>7437</td><td>null</td></tr><tr><td>ESTAT:DEMO_MAGEC(1.0)</td><td>14/03/24 11:00:00</td><td>A</td><td>NR</td><td>F</td><td>TOTAL</td><td>AL</td><td>1978</td><td>7427</td><td>null</td></tr><tr><td>ESTAT:DEMO_MAGEC(1.0)</td><td>14/03/24 11:00:00</td><td>A</td><td>NR</td><td>F</td><td>TOTAL</td><td>AL</td><td>1979</td><td>7786</td><td>null</td></tr><tr><td>ESTAT:DEMO_MAGEC(1.0)</td><td>14/03/24 11:00:00</td><td>A</td><td>NR</td><td>F</td><td>TOTAL</td><td>AL</td><td>1980</td><td>7603</td><td>null</td></tr><tr><td>ESTAT:DEMO_MAGEC(1.0)</td><td>14/03/24 11:00:00</td><td>A</td><td>NR</td><td>F</td><td>TOTAL</td><td>AL</td><td>1981</td><td>8133</td><td>null</td></tr><tr><td>ESTAT:DEMO_MAGEC(1.0)</td><td>14/03/24 11:00:00</td><td>A</td><td>NR</td><td>F</td><td>TOTAL</td><td>AL</td><td>1982</td><td>7414</td><td>null</td></tr><tr><td>ESTAT:DEMO_MAGEC(1.0)</td><td>14/03/24 11:00:00</td><td>A</td><td>NR</td><td>F</td><td>TOTAL</td><td>AL</td><td>1983</td><td>7774</td><td>null</td></tr><tr><td>ESTAT:DEMO_MAGEC(1.0)</td><td>14/03/24 11:00:00</td><td>A</td><td>NR</td><td>F</td><td>TOTAL</td><td>AL</td><td>1984</td><td>7288</td><td>null</td></tr><tr><td>ESTAT:DEMO_MAGEC(1.0)</td><td>14/03/24 11:00:00</td><td>A</td><td>NR</td><td>F</td><td>TOTAL</td><td>AL</td><td>1985</td><td>7546</td><td>null</td></tr><tr><td>ESTAT:DEMO_MAGEC(1.0)</td><td>14/03/24 11:00:00</td><td>A</td><td>NR</td><td>F</td><td>TOTAL</td><td>AL</td><td>1986</td><td>7491</td><td>null</td></tr><tr><td>ESTAT:DEMO_MAGEC(1.0)</td><td>14/03/24 11:00:00</td><td>A</td><td>NR</td><td>F</td><td>TOTAL</td><td>AL</td><td>1987</td><td>7547</td><td>null</td></tr><tr><td>ESTAT:DEMO_MAGEC(1.0)</td><td>14/03/24 11:00:00</td><td>A</td><td>NR</td><td>F</td><td>TOTAL</td><td>AL</td><td>1988</td><td>7438</td><td>null</td></tr><tr><td>ESTAT:DEMO_MAGEC(1.0)</td><td>14/03/24 11:00:00</td><td>A</td><td>NR</td><td>F</td><td>TOTAL</td><td>AL</td><td>1989</td><td>7929</td><td>null</td></tr><tr><td>ESTAT:DEMO_MAGEC(1.0)</td><td>14/03/24 11:00:00</td><td>A</td><td>NR</td><td>F</td><td>TOTAL</td><td>AL</td><td>1990</td><td>7882</td><td>null</td></tr><tr><td>ESTAT:DEMO_MAGEC(1.0)</td><td>14/03/24 11:00:00</td><td>A</td><td>NR</td><td>F</td><td>TOTAL</td><td>AL</td><td>1991</td><td>7447</td><td>null</td></tr><tr><td>ESTAT:DEMO_MAGEC(1.0)</td><td>14/03/24 11:00:00</td><td>A</td><td>NR</td><td>F</td><td>TOTAL</td><td>AL</td><td>1992</td><td>7618</td><td>null</td></tr><tr><td>ESTAT:DEMO_MAGEC(1.0)</td><td>14/03/24 11:00:00</td><td>A</td><td>NR</td><td>F</td><td>TOTAL</td><td>AL</td><td>1993</td><td>7482</td><td>null</td></tr><tr><td>ESTAT:DEMO_MAGEC(1.0)</td><td>14/03/24 11:00:00</td><td>A</td><td>NR</td><td>F</td><td>TOTAL</td><td>AL</td><td>1994</td><td>7554</td><td>null</td></tr><tr><td>ESTAT:DEMO_MAGEC(1.0)</td><td>14/03/24 11:00:00</td><td>A</td><td>NR</td><td>F</td><td>TOTAL</td><td>AL</td><td>1995</td><td>7613</td><td>null</td></tr><tr><td>ESTAT:DEMO_MAGEC(1.0)</td><td>14/03/24 11:00:00</td><td>A</td><td>NR</td><td>F</td><td>TOTAL</td><td>AL</td><td>1996</td><td>7306</td><td>null</td></tr><tr><td>ESTAT:DEMO_MAGEC(1.0)</td><td>14/03/24 11:00:00</td><td>A</td><td>NR</td><td>F</td><td>TOTAL</td><td>AL</td><td>1997</td><td>7116</td><td>null</td></tr><tr><td>ESTAT:DEMO_MAGEC(1.0)</td><td>14/03/24 11:00:00</td><td>A</td><td>NR</td><td>F</td><td>TOTAL</td><td>AL</td><td>1998</td><td>7442</td><td>null</td></tr><tr><td>ESTAT:DEMO_MAGEC(1.0)</td><td>14/03/24 11:00:00</td><td>A</td><td>NR</td><td>F</td><td>TOTAL</td><td>AL</td><td>1999</td><td>7025</td><td>null</td></tr></tbody></table>"
      ]
     },
     "execution_count": 16,
     "metadata": {},
     "output_type": "execute_result"
    }
   ],
   "source": [
    "df.head(5000)"
   ]
  },
  {
   "cell_type": "code",
   "execution_count": null,
   "id": "60495604-79d9-483e-b004-32eb3fdd123e",
   "metadata": {},
   "outputs": [],
   "source": []
  }
 ],
 "metadata": {
  "kernelspec": {
   "display_name": "Deno",
   "language": "typescript",
   "name": "deno"
  },
  "language_info": {
   "file_extension": ".ts",
   "mimetype": "text/x.typescript",
   "name": "typescript",
   "nb_converter": "script",
   "pygments_lexer": "typescript",
   "version": "5.3.3"
  }
 },
 "nbformat": 4,
 "nbformat_minor": 5
}
