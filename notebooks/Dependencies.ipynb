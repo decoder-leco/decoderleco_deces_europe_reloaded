{
 "cells": [
  {
   "cell_type": "markdown",
   "id": "3a83da33-d38a-4338-861a-307afffccf1d",
   "metadata": {},
   "source": [
    "# The first 5"
   ]
  },
  {
   "cell_type": "markdown",
   "id": "7bfb2f61-2d71-4258-a9ea-4a592abb2ad8",
   "metadata": {},
   "source": [
    "## 000_install_libraries.R"
   ]
  },
  {
   "cell_type": "markdown",
   "id": "ac48293b-a8c2-4fad-98bb-82f174033b6c",
   "metadata": {},
   "source": [
    "#### Setting the `.Rprofile`\n",
    "\n",
    "_First, I add a configuration for how R is going to resolve dependencies (not present in the original repo): this configuration could (should ?) be placed into a `~/.Rprofile` configuration file._\n"
   ]
  },
  {
   "cell_type": "code",
   "execution_count": 1,
   "id": "55d9c8a7-8d92-4d6f-8f8c-86633ea65ca8",
   "metadata": {},
   "outputs": [],
   "source": [
    "# options(repos = c(CRAN = \"https://cloud.r-project.org\"))\n",
    "# # other repos we could try: https://github.com/search?q=options%28repos+%3D+c%28CRAN+%3D+&type=code\n",
    "# # \"http://cran.stat.ucla.edu\", \"http://cloud.r-project.org\", \"http://cran.us.r-project.org\"\n",
    "\n",
    "# -----------\n",
    "# Warning message:\n",
    "# “unable to access index for repository http://cran.stat.ucla.edu/src/contrib:\n",
    "#   cannot open URL 'http://cran.stat.ucla.edu/src/contrib/PACKAGES'”Updating HTML index of packages in '.Library'\n",
    "# options(repos = c(CRAN = c(\"http://cloud.r-project.org\", \"http://cran.us.r-project.org\", \"http://cran.stat.ucla.edu\")))\n",
    "options(repos = c(CRAN = c(\"http://cloud.r-project.org\", \"http://cran.us.r-project.org\")))\n",
    "\n",
    "\n",
    "# see https://github.com/jupyter/docker-stacks/blob/main/images/minimal-notebook/Rprofile.site\n",
    "# Add R mimetype to specify how the plot returns from R to the browser.\n",
    "# https://notebook.community/andrie/jupyter-notebook-samples/Changing%20R%20plot%20options%20in%20Jupyter\n",
    "\n",
    "options(jupyter.plot_mimetypes = c('text/plain', 'image/png', 'image/jpeg', 'image/svg+xml', 'application/pdf'))"
   ]
  },
  {
   "cell_type": "markdown",
   "id": "09d1886d-3977-4401-9fd3-1224f56e67a1",
   "metadata": {},
   "source": [
    "* Then, let's resolve all R dependencies, but not all of them at same time, but step by step, to incrementally test their proper resolution:"
   ]
  },
  {
   "cell_type": "code",
   "execution_count": 2,
   "id": "37a371cd-0666-420a-bf05-c93af0e485e2",
   "metadata": {},
   "outputs": [
    {
     "name": "stderr",
     "output_type": "stream",
     "text": [
      "Installing package into ‘/usr/local/lib/R/site-library’\n",
      "(as ‘lib’ is unspecified)\n",
      "\n",
      "Installing package into ‘/usr/local/lib/R/site-library’\n",
      "(as ‘lib’ is unspecified)\n",
      "\n"
     ]
    }
   ],
   "source": [
    "# Télécharger et installer tous les packages dans R_LIBS_SITE\n",
    "#\n",
    "# Ce fichier n'est à executer qu'une seule fois (sauf en cas d'erreur ou il faut le relancer plusieurs fois\n",
    "# car il compile certaine packages qui deviennent alors disponibles)\n",
    "\n",
    "# Option pour éviter le warning : the 'wininet' method is deprecated for http\n",
    "options(download.file.method = \"auto\")\n",
    "\n",
    "# Fonction install_github()\n",
    "# jb: you can use remotes::install_github() instead  of using devtools to have install_github available, see https://stackoverflow.com/questions/75449981/r-does-not-let-me-install-packages\n",
    "install.packages(\"remotes\")\n",
    "# install.packages(\"devtools\")\n",
    "\n",
    "# Pour EuroStat\n",
    "install.packages(\"glue\")\n"
   ]
  },
  {
   "cell_type": "markdown",
   "id": "adb10be8-62fa-42ff-8bd5-62aecede120f",
   "metadata": {},
   "source": [
    "### Install the left `R` packages after `remotes`, `devtools`, and `glue`\n"
   ]
  },
  {
   "cell_type": "code",
   "execution_count": null,
   "id": "55a3a59c-4b67-4c1f-9937-0f3895564c9d",
   "metadata": {},
   "outputs": [],
   "source": [
    "# Installer le package eurostat et ses copains\n",
    "install.packages(\"eurostat\")\n",
    "install.packages(\"maptools\")\n",
    "install.packages(\"rgdal\")\n",
    "install.packages(\"maps\");\n",
    "install.packages(\"leaflet\");\n",
    "install.packages(\"questionr\");\n",
    "install.packages(\"ggplot2\");\n",
    "install.packages(\"rnaturalearth\")\n",
    "install.packages(\"rnaturalearthdata\")\n",
    "install.packages(\"rgeos\")\n",
    "install.packages(\"readr\")\n",
    "install.packages(\"lsr\")\n",
    "install.packages(\"formattable\") \n",
    "install.packages(\"RColorBrewer\")\n",
    "install.packages(\"insee\")\n",
    "install.packages(\"rvest\")\n",
    "install.packages(\"weights\")\n",
    "\n",
    "install.packages(\"tinytex\")\n",
    "install.packages(\"curl\")\n",
    "install.packages(\"gsl\")\n",
    "\n",
    "install.packages(\"igraph\")\n",
    "install.packages(\"ggforce\")\n",
    "install.packages(\"Rtools\")\n",
    "\n",
    "install.packages(\"pyramid\")\n",
    "install.packages(\"reshape2\")\n",
    "\n",
    "install.packages(\"plyr\")\n",
    "install.packages(\"tidyr\")\n",
    "install.packages(\"rapport\")\n",
    "\n",
    "#Pour létude de la météo\n",
    "install.packages(\"mgcv\")\n",
    "\n",
    "# Pour la generation de l'article\n",
    "install.packages(\"knitr\")\n",
    "install.packages(\"rmarkdown\")\n",
    "install.packages(\"markdown\")\n",
    "\n",
    "# Conversion semaine en date et inversément\n",
    "install.packages('ISOweek')\n",
    "\n",
    "\n",
    "\n",
    "# jb: you can use remotes::install_github() instead  of using devtools to have install_github available, see https://stackoverflow.com/questions/75449981/r-does-not-let-me-install-packages\n",
    "\n",
    "# Charger devtools pour disposer de install_github\n",
    "# library(\"devtools\")\n",
    "\n",
    "# L'instruction ci-dessous nécessite le chargement préalable de devtools et la méthode wininet\n",
    "options(download.file.method = \"wininet\")\n",
    "\n",
    "# install_github(\"aryoda/tryCatchLog\")\n",
    "remotes::install_github(\"aryoda/tryCatchLog\")\n",
    "\n",
    "options(download.file.method = \"auto\")\n"
   ]
  },
  {
   "cell_type": "markdown",
   "id": "7553d43f-eb6e-47cc-9745-a627d1cd4fd1",
   "metadata": {},
   "source": [
    "_La résolution de dépendances, installation de packages `R`, executée ci-desus, a duré plsu d'une heure, s'est terminée sans récupérer d'output._\n",
    "_Cette résolution de dépendances, a donné comme dernières lignes de los dans le conteneur docker, les logs ci-dessous:_\n",
    "\n",
    "```bash\n",
    "jupyter_deno_1       | The downloaded source packages are in\n",
    "jupyter_deno_1       |  ���/tmp/Rtmpa6pPR4/downloaded_packages���\n",
    "jupyter_deno_1       | trying URL 'http://cloud.r-project.org/src/contrib/rmarkdown_2.26.tar.gz'\n",
    "jupyter_deno_1       | Content type 'application/x-gzip' length 2189506 bytes (2.1 MB)\n",
    "jupyter_deno_1       | ==================================================\n",
    "jupyter_deno_1       | downloaded 2.1 MB\n",
    "jupyter_deno_1       |\n",
    "jupyter_deno_1       | * installing *source* package ���rmarkdown��� ...\n",
    "jupyter_deno_1       | ** package ���rmarkdown��� successfully unpacked and MD5 sums checked\n",
    "jupyter_deno_1       | ** using staged installation\n",
    "jupyter_deno_1       | ** R\n",
    "jupyter_deno_1       | ** inst\n",
    "jupyter_deno_1       | ** byte-compile and prepare package for lazy loading\n",
    "jupyter_deno_1       | ** help\n",
    "jupyter_deno_1       | *** installing help indices\n",
    "jupyter_deno_1       | *** copying figures\n",
    "jupyter_deno_1       | ** building package indices\n",
    "jupyter_deno_1       | ** installing vignettes\n",
    "jupyter_deno_1       | ** testing if installed package can be loaded from temporary location\n",
    "jupyter_deno_1       | ** testing if installed package can be loaded from final location\n",
    "jupyter_deno_1       | ** testing if installed package keeps a record of temporary installation path\n",
    "jupyter_deno_1       | * DONE (rmarkdown)\n",
    "jupyter_deno_1       |\n",
    "jupyter_deno_1       | The downloaded source packages are in\n",
    "jupyter_deno_1       |  ���/tmp/Rtmpa6pPR4/downloaded_packages���\n",
    "jupyter_deno_1       | trying URL 'http://cloud.r-project.org/src/contrib/markdown_1.12.tar.gz'\n",
    "jupyter_deno_1       | trying URL 'http://cloud.r-project.org/src/contrib/ISOweek_0.6-2.tar.gz'\n",
    "jupyter_deno_1       | Content type 'application/x-gzip' length 5731 bytes\n",
    "jupyter_deno_1       | ==================================================\n",
    "jupyter_deno_1       | downloaded 5731 bytes\n",
    "jupyter_deno_1       |\n",
    "jupyter_deno_1       | * installing *source* package ���ISOweek��� ...\n",
    "jupyter_deno_1       | ** package ���ISOweek��� successfully unpacked and MD5 sums checked\n",
    "jupyter_deno_1       | ** using staged installation\n",
    "jupyter_deno_1       | ** R\n",
    "jupyter_deno_1       | ** inst\n",
    "jupyter_deno_1       | ** byte-compile and prepare package for lazy loading\n",
    "jupyter_deno_1       | ** help\n",
    "jupyter_deno_1       | *** installing help indices\n",
    "jupyter_deno_1       | ** building package indices\n",
    "jupyter_deno_1       | ** testing if installed package can be loaded from temporary location\n",
    "jupyter_deno_1       | ** testing if installed package can be loaded from final location\n",
    "jupyter_deno_1       | ** testing if installed package keeps a record of temporary installation path\n",
    "jupyter_deno_1       | * DONE (ISOweek)\n",
    "jupyter_deno_1       |\n",
    "jupyter_deno_1       | The downloaded source packages are in\n",
    "jupyter_deno_1       |  ���/tmp/Rtmpa6pPR4/downloaded_packages���\n",
    "```"
   ]
  },
  {
   "cell_type": "markdown",
   "id": "d54ed5f1-b541-485e-8254-87a5de4dc34b",
   "metadata": {},
   "source": [
    "_Par curiosité, je vais exécuter ci-dessous, la toute dernière installation de package `R`, `aryoda/tryCatchLog`, parec que le dernier package apparaissant dans les logs (ci-dessus), est `ISOweek`, celui juste précédent `aryoda/tryCatchLog`,  pour voir si celle-ci me donnera des logs, dans le conteneur Docker:_\n",
    "\n",
    "> note: https://github.com/aryoda/tryCatchLog"
   ]
  },
  {
   "cell_type": "code",
   "execution_count": 2,
   "id": "6dd50235-9086-4751-83a0-624dfa6b313d",
   "metadata": {},
   "outputs": [
    {
     "ename": "ERROR",
     "evalue": "Error: Failed to install 'tryCatchLog' from GitHub:\n  'arg' should be one of “auto”, “internal”, “libcurl”, “wget”, “curl”, “lynx”\n",
     "output_type": "error",
     "traceback": [
      "Error: Failed to install 'tryCatchLog' from GitHub:\n  'arg' should be one of “auto”, “internal”, “libcurl”, “wget”, “curl”, “lynx”\nTraceback:\n",
      "1. remotes::install_github(\"aryoda/tryCatchLog\", auto = \"TRUE\")",
      "2. install_remotes(remotes, auth_token = auth_token, host = host, \n .     dependencies = dependencies, upgrade = upgrade, force = force, \n .     quiet = quiet, build = build, build_opts = build_opts, build_manual = build_manual, \n .     build_vignettes = build_vignettes, repos = repos, type = type, \n .     ...)",
      "3. tryCatch(res[[i]] <- install_remote(remotes[[i]], ...), error = function(e) {\n .     stop(remote_install_error(remotes[[i]], e))\n . })",
      "4. tryCatchList(expr, classes, parentenv, handlers)",
      "5. tryCatchOne(expr, names, parentenv, handlers[[1L]])",
      "6. value[[3L]](cond)"
     ]
    }
   ],
   "source": [
    "# Option pour éviter le warning : the 'wininet' method is deprecated for http\n",
    "options(download.file.method = \"auto\")\n",
    "\n",
    "# Charger devtools pour disposer de install_github\n",
    "# library(\"devtools\")\n",
    "\n",
    "# L'instruction ci-dessous nécessite le chargement préalable de devtools et la méthode wininet\n",
    "options(download.file.method = \"wininet\")\n",
    "\n",
    "# install_github(\"aryoda/tryCatchLog\")\n",
    "remotes::install_github(\"aryoda/tryCatchLog\", auto = \"TRUE\")\n",
    "\n",
    "options(download.file.method = \"auto\")"
   ]
  },
  {
   "cell_type": "code",
   "execution_count": 1,
   "id": "2496ba41-56c9-45d2-aed1-dc16f368118e",
   "metadata": {},
   "outputs": [
    {
     "name": "stderr",
     "output_type": "stream",
     "text": [
      "Installing package into ‘/usr/local/lib/R/site-library’\n",
      "(as ‘lib’ is unspecified)\n",
      "\n"
     ]
    }
   ],
   "source": [
    "install.packages(\"tryCatchLog\")"
   ]
  },
  {
   "cell_type": "markdown",
   "id": "3f5d1112-01b8-4f69-a896-c8221f4de32f",
   "metadata": {},
   "source": [
    "_L'exécution ci-dessus, a manifestement réussit, sans avoir à utiliser la méthode install_github(), en témoigne les logs dans le conteneur docker:_\n",
    "\n",
    "```bash\n",
    "jupyter_deno_1       | trying URL 'https://cloud.r-project.org/src/contrib/tryCatchLog_1.3.1.tar.gz'\n",
    "jupyter_deno_1       | Content type 'application/x-gzip' length 352814 bytes (344 KB)\n",
    "jupyter_deno_1       | ==================================================\n",
    "jupyter_deno_1       | downloaded 344 KB\n",
    "jupyter_deno_1       |\n",
    "jupyter_deno_1       | * installing *source* package ���tryCatchLog��� ...\n",
    "jupyter_deno_1       | ** package ���tryCatchLog��� successfully unpacked and MD5 sums checked\n",
    "jupyter_deno_1       | ** using staged installation\n",
    "jupyter_deno_1       | ** R\n",
    "jupyter_deno_1       | ** demo\n",
    "jupyter_deno_1       | ** inst\n",
    "jupyter_deno_1       | ** byte-compile and prepare package for lazy loading\n",
    "jupyter_deno_1       | ** help\n",
    "jupyter_deno_1       | *** installing help indices\n",
    "jupyter_deno_1       | ** building package indices\n",
    "jupyter_deno_1       | ** installing vignettes\n",
    "jupyter_deno_1       | ** testing if installed package can be loaded from temporary location\n",
    "jupyter_deno_1       | ** testing if installed package can be loaded from final location\n",
    "jupyter_deno_1       | ** testing if installed package keeps a record of temporary installation path\n",
    "jupyter_deno_1       | * DONE (tryCatchLog)\n",
    "jupyter_deno_1       |\n",
    "jupyter_deno_1       | The downloaded source packages are in\n",
    "jupyter_deno_1       |  ���/tmp/RtmpmzkeLQ/downloaded_packages���\n",
    "\n",
    "```"
   ]
  },
  {
   "cell_type": "markdown",
   "id": "ca90f743-9092-429c-bd00-4561d57dced2",
   "metadata": {},
   "source": [
    "_Affichons les infromations de Session:_"
   ]
  },
  {
   "cell_type": "code",
   "execution_count": 3,
   "id": "e7411f79-b412-4bb5-abfc-5ce1b5cc36d0",
   "metadata": {},
   "outputs": [
    {
     "data": {
      "text/plain": [
       "R version 4.2.2 Patched (2022-11-10 r83330)\n",
       "Platform: x86_64-pc-linux-gnu (64-bit)\n",
       "Running under: Debian GNU/Linux 12 (bookworm)\n",
       "\n",
       "Matrix products: default\n",
       "BLAS:   /usr/lib/x86_64-linux-gnu/blas/libblas.so.3.11.0\n",
       "LAPACK: /usr/lib/x86_64-linux-gnu/lapack/liblapack.so.3.11.0\n",
       "\n",
       "locale:\n",
       " [1] LC_CTYPE=C.UTF-8       LC_NUMERIC=C           LC_TIME=C.UTF-8       \n",
       " [4] LC_COLLATE=C.UTF-8     LC_MONETARY=C.UTF-8    LC_MESSAGES=C.UTF-8   \n",
       " [7] LC_PAPER=C.UTF-8       LC_NAME=C              LC_ADDRESS=C          \n",
       "[10] LC_TELEPHONE=C         LC_MEASUREMENT=C.UTF-8 LC_IDENTIFICATION=C   \n",
       "\n",
       "attached base packages:\n",
       "[1] stats     graphics  grDevices utils     datasets  methods   base     \n",
       "\n",
       "loaded via a namespace (and not attached):\n",
       " [1] fansi_1.0.6     crayon_1.5.2    digest_0.6.34   utf8_1.2.4     \n",
       " [5] IRdisplay_1.1   repr_1.1.6      lifecycle_1.0.4 jsonlite_1.8.8 \n",
       " [9] evaluate_0.23   pillar_1.9.0    rlang_1.1.3     cli_3.6.2      \n",
       "[13] uuid_1.2-0      remotes_2.4.2.1 vctrs_0.6.5     IRkernel_1.3.2 \n",
       "[17] tools_4.2.2     glue_1.7.0      fastmap_1.1.1   compiler_4.2.2 \n",
       "[21] base64enc_0.1-3 pbdZMQ_0.3-11   htmltools_0.5.7"
      ]
     },
     "metadata": {},
     "output_type": "display_data"
    }
   ],
   "source": [
    "sessionInfo()"
   ]
  },
  {
   "cell_type": "markdown",
   "id": "529a369d-d5d3-4ab8-8363-16de5426770d",
   "metadata": {},
   "source": [
    "_Très bien, maintenant essayons de charger toutes les fonctions avec `005_functions.R`, pour vérifier que nosu avons bien toutes les dépendances:_\n",
    "* le premier essai est un échec. J'ai donc décidé de recommencer à installer les packages `R` un par un, pour analyser les problématiques incrémentalement, au lieu d'une énorme exécution d'installation de tout les packages `R`, de plus d'une heure."
   ]
  },
  {
   "cell_type": "markdown",
   "id": "5a7b6d5b-2930-4e74-a10e-3f85589c3026",
   "metadata": {},
   "source": [
    "## Installing all packages incrementally"
   ]
  },
  {
   "cell_type": "markdown",
   "id": "2db7f9b3-8ba1-4625-bbd6-df04e8267801",
   "metadata": {},
   "source": [
    "_Installation du packege `eurostat` seul_\n",
    "\n",
    "_Résultat 1: échec, j'ai alors testé l'installatioon du package `KernSmooth`_\n",
    "\n",
    "_L'installation de `KernSmooth` a donné une erreur d'une nature non-vue jusque là, dans le conteneur docker:_\n",
    "\n",
    "```bash\n",
    "jupyter_deno_1       | gfortran -fno-optimize-sibling-calls  -fpic  -g -O2 -ffile-prefix-map=/build/r-base-wZDgjM/r-base-4.2.2.20221110=. -fstack-protector-strong  -c locpoly.f -o locpoly.o\n",
    "jupyter_deno_1       | gfortran -fno-optimize-sibling-calls  -fpic  -g -O2 -ffile-prefix-map=/build/r-base-wZDgjM/r-base-4.2.2.20221110=. -fstack-protector-strong  -c rlbin.f -o rlbin.o\n",
    "jupyter_deno_1       | gfortran -fno-optimize-sibling-calls  -fpic  -g -O2 -ffile-prefix-map=/build/r-base-wZDgjM/r-base-4.2.2.20221110=. -fstack-protector-strong  -c sdiag.f -o sdiag.o\n",
    "jupyter_deno_1       | gfortran -fno-optimize-sibling-calls  -fpic  -g -O2 -ffile-prefix-map=/build/r-base-wZDgjM/r-base-4.2.2.20221110=. -fstack-protector-strong  -c sstdiag.f -o sstdiag.o\n",
    "jupyter_deno_1       | gcc -shared -L/usr/lib/R/lib -Wl,-z,relro -o KernSmooth.so blkest.o cp.o dgedi.o dgefa.o dgesl.o init.o linbin.o linbin2D.o locpoly.o rlbin.o sdiag.o sstdiag.o -lblas -lgfortran -lm -lquadmath -L/usr/lib/R/lib -lR\n",
    "jupyter_deno_1       | /usr/bin/ld: cannot find -lblas: No such file or directory\n",
    "jupyter_deno_1       | collect2: error: ld returned 1 exit status\n",
    "jupyter_deno_1       | make: *** [/usr/share/R/share/make/shlib.mk:10: KernSmooth.so] Error 1\n",
    "jupyter_deno_1       | ERROR: compilation failed for package ���KernSmooth���\n",
    "jupyter_deno_1       | * removing ���/usr/local/lib/R/site-library/KernSmooth���\n",
    "jupyter_deno_1       | ERROR: failed to lock directory ���/usr/local/lib/R/site-library��� for modifying\n",
    "jupyter_deno_1       | Try removing ���/usr/local/lib/R/site-library/00LOCK-httr���\n",
    "jupyter_deno_1       | ERROR: dependency ���KernSmooth��� is not available for package ���classInt���\n",
    "jupyter_deno_1       | * removing ���/usr/local/lib/R/site-library/classInt���\n",
    "jupyter_deno_1       | ERROR: dependency ���httr��� is not available for package ���RefManageR���\n",
    "jupyter_deno_1       | * removing ���/usr/local/lib/R/site-library/RefManageR���\n",
    "jupyter_deno_1       | ERROR: dependencies ���classInt���, ���RefManageR��� are not available for package ���eurostat���\n",
    "jupyter_deno_1       | * removing ���/usr/local/lib/R/site-library/eurostat���\n",
    "jupyter_deno_1       |\n",
    "jupyter_deno_1       | The downloaded source packages are in\n",
    "jupyter_deno_1       |  ���/tmp/RtmpySJYWk/downloaded_packages���\n",
    "jupyter_deno_1       | [I 2024-03-10 21:35:22.756 ServerApp] Saving file at /jb/reload_deces_europe/decoderleco_deces_europe_reloaded/notebooks/Dependencies.ipynb\n",
    "```"
   ]
  },
  {
   "cell_type": "code",
   "execution_count": 3,
   "id": "271e4bff-8413-445d-ba19-030784b0fef2",
   "metadata": {},
   "outputs": [
    {
     "name": "stderr",
     "output_type": "stream",
     "text": [
      "Installing package into ‘/usr/local/lib/R/site-library’\n",
      "(as ‘lib’ is unspecified)\n",
      "\n",
      "Warning message in install.packages(\"KernSmooth\", INSTALL_opts = \"--no-lock\"):\n",
      "“installation of package ‘KernSmooth’ had non-zero exit status”\n"
     ]
    }
   ],
   "source": [
    "# Installer le package eurostat et ses copains\n",
    "install.packages(\"KernSmooth\", INSTALL_opts = '--no-lock')\n",
    "# install.packages(\"eurostat\")"
   ]
  },
  {
   "cell_type": "markdown",
   "id": "9394a46b-e8fe-4bcd-abff-9e1d6fd115d2",
   "metadata": {},
   "source": [
    "## 005_functions.R"
   ]
  },
  {
   "cell_type": "markdown",
   "id": "0bf51296-31e7-401f-a268-2e4e6e8d2f83",
   "metadata": {},
   "source": [
    "### load all required functions"
   ]
  },
  {
   "cell_type": "code",
   "execution_count": 4,
   "id": "9c2c30dc-0501-4c8e-b8d6-455c9a28392f",
   "metadata": {},
   "outputs": [
    {
     "name": "stderr",
     "output_type": "stream",
     "text": [
      "Warning message in Sys.setlocale(\"LC_ALL\", \"French\"):\n",
      "“OS reports request to set locale to \"French\" cannot be honored”\n"
     ]
    },
    {
     "data": {
      "text/html": [
       "''"
      ],
      "text/latex": [
       "''"
      ],
      "text/markdown": [
       "''"
      ],
      "text/plain": [
       "[1] \"\""
      ]
     },
     "metadata": {},
     "output_type": "display_data"
    },
    {
     "name": "stderr",
     "output_type": "stream",
     "text": [
      "futile.logger not found. Using tryCatchLog-internal functions for logging...\n",
      "\n"
     ]
    },
    {
     "ename": "ERROR",
     "evalue": "Error in library(maptools): there is no package called ‘maptools’\n",
     "output_type": "error",
     "traceback": [
      "Error in library(maptools): there is no package called ‘maptools’\nTraceback:\n",
      "1. library(maptools)"
     ]
    }
   ],
   "source": [
    "# load all required functions\n",
    "# TODO: Add comment\n",
    "# \n",
    "# Author: JeanGarf\n",
    "###############################################################################\n",
    "\n",
    "################################################################################\n",
    "#\n",
    "# Options générales\n",
    "#\n",
    "################################################################################\n",
    "\n",
    "Sys.setlocale(\"LC_ALL\", \"French\")\n",
    "options(encoding = \"UTF-8\")\n",
    "#options(encoding = \"UTF-8\", error=function() traceback(2))\n",
    "\n",
    "\n",
    "################################################################################\n",
    "#\n",
    "# Charger les Packages contenus dans les Library et définir les namespaces\n",
    "#\n",
    "################################################################################\n",
    "\n",
    "# Library pour la gestion des Exceptions\n",
    "library(tryCatchLog)\n",
    "\n",
    "# Librairie pour le formattage des nombres sur les échelles ggplot\n",
    "#library(scales)\n",
    "\n",
    "#Charger la librairie rlang pour les fonctions sur les environnements de variables R\n",
    "library(rlang)\n",
    "\n",
    "library(sp)\n",
    "library(maptools)\n",
    "library(rgdal)\n",
    "library(tidyr)\n",
    "library(maps)\n",
    "library(eurostat)\n",
    "library(dplyr)\n",
    "library(stringr)\n",
    "library(leaflet)\n",
    "library(questionr)\n",
    "library(ggplot2)\n",
    "library(lubridate)\n",
    "library(sf)\n",
    "library(rnaturalearth)\n",
    "library(rgeos)\n",
    "library(rnaturalearthdata)\n",
    "library(readr)\n",
    "library(lsr)\n",
    "library(reshape2)\n",
    "library(purrr)\n",
    "\n",
    "################################################################################\n",
    "#\n",
    "# Constantes\n",
    "#\n",
    "################################################################################\n",
    "\n",
    "# Refaire les downloads, même si on l'a déjà fait précédemment et que l'on a \n",
    "# déjà les données en mémoire et/ou les fichiers sur disque.\n",
    "# (Utile pour être sûr de forcer une mise à jour totale)\n",
    "shallForceDownload = FALSE\n",
    "\n",
    "# Supprimer les variables temporaires lorsqu'elle ne sont plus utiles, pour libérer\n",
    "# de la mémoire et rendre le GlobalEnv plus lisible\n",
    "shallDeleteVars = TRUE\n",
    "\n",
    "PLOT_AXIS_SIDE_BELOW <- 1\n",
    "PLOT_AXIS_SIDE_LEFT <- 2\n",
    "PLOT_AXIS_SIDE_TOP <- 3\n",
    "PLOT_AXIS_SIDE_RIGHT <- 4\n",
    "\n",
    "K_SOURCE_TYPE_CSV <- 1\n",
    "K_SOURCE_TYPE_EUROSTAT <- 2\n",
    "K_SOURCE_TYPE_CURL <- 3\n",
    "\n",
    "################################################################################\n",
    "#\n",
    "# Definitions de fonctions\n",
    "#\n",
    "################################################################################\n",
    "\n",
    "################################################################################\n",
    "# Gestion des Exceptions\n",
    "################################################################################\n",
    "\n",
    "source(\"src/exceptions/exceptions.R\")\n",
    "\n",
    "\n",
    "################################################################################\n",
    "# Gestion des répertoires\n",
    "################################################################################\n",
    "\n",
    "source(\"src/files/directory.R\")\n",
    "\n",
    "K_DIR_EXT_DATA <- a__f_createDir('inst/extdata')\n",
    "K_DIR_EXT_DATA_WORLD <- a__f_createDir(file.path(K_DIR_EXT_DATA, 'world'))\n",
    "K_DIR_EXT_DATA_EUROPE <- a__f_createDir(file.path(K_DIR_EXT_DATA_WORLD, 'eu'))\n",
    "K_DIR_EXT_DATA_FRANCE <- a__f_createDir(file.path(K_DIR_EXT_DATA_EUROPE, 'fr'))\n",
    "K_DIR_EXT_DATA_FR_GOUV <- a__f_createDir(file.path(K_DIR_EXT_DATA_FRANCE, 'gouv'))\n",
    "K_DIR_EXT_DATA_USA <- a__f_createDir(file.path(K_DIR_EXT_DATA_WORLD, 'usa'))\n",
    "\n",
    "\n",
    "K_DIR_GEN_IMG <- a__f_createDir(\"gen/images\")\n",
    "K_DIR_GEN_IMG_WORLD <- a__f_createDir(file.path(K_DIR_GEN_IMG, 'world'))\n",
    "\n",
    "K_DIR_GEN_IMG_EUROPE <- a__f_createDir(file.path(K_DIR_GEN_IMG_WORLD, 'eu'))\n",
    "K_DIR_GEN_IMG_EUROSTAT <- a__f_createDir(file.path(K_DIR_GEN_IMG_EUROPE, 'Eurostat'))\n",
    "\n",
    "K_DIR_GEN_IMG_FRANCE <- a__f_createDir(file.path(K_DIR_GEN_IMG_EUROPE, 'fr'))\n",
    "K_DIR_GEN_IMG_FR_GOUV <- a__f_createDir(file.path(K_DIR_GEN_IMG_FRANCE, 'gouv'))\n",
    "K_DIR_GEN_IMG_FR_AMELIE <- a__f_createDir(file.path(K_DIR_GEN_IMG_FRANCE, 'amelie'))\n",
    "\n",
    "K_DIR_GEN_IMG_USA <- a__f_createDir(file.path(K_DIR_GEN_IMG_WORLD, 'usa'))\n",
    "K_DIR_GEN_IMG_OWID <- a__f_createDir(file.path(K_DIR_GEN_IMG_WORLD, 'owid'))\n",
    "\n",
    "\n",
    "################################################################################\n",
    "# Téléchargement et Gestion des fichiers\n",
    "################################################################################\n",
    "\n",
    "source(\"src/files/files.R\")\n",
    "\n",
    "\n",
    "################################################################################\n",
    "# Gestion des Environnements R\n",
    "################################################################################\n",
    "\n",
    "source(\"src/environments/environments.R\")\n",
    "\n",
    "\n",
    "################################################################################\n",
    "# Fonctions générales pour les dates\n",
    "################################################################################\n",
    "\n",
    "source(\"src/dates/dates.R\")\n",
    "\n",
    "\n",
    "################################################################################\n",
    "# Fonctions générales pour les graphiques\n",
    "################################################################################\n",
    "\n",
    "source(\"src/graphiques/graphiques.R\")\n",
    "\n",
    "\n",
    "################################################################################\n",
    "# EuroStat Décès Hebdomadaires\n",
    "################################################################################\n",
    "\n",
    "source(\"src/analyses/world/eu/es/es_functions.R\")\n",
    "source(\"src/analyses/world/eu/es/deces/hebdo/es_deces_hebdo_std.R\")\n",
    "\n",
    "\n",
    "################################################################################\n",
    "# Fr Décès Quotidiens\n",
    "################################################################################\n",
    "\n",
    "source(\"src/analyses/world/eu/fr/deces/fr_deces_quotidiens.R\")\n",
    "source(\"src/analyses/world/eu/fr/meteo/meteo.R\")"
   ]
  },
  {
   "cell_type": "markdown",
   "id": "a7eef776-a210-4ff4-aca1-33fa20e5f9c3",
   "metadata": {},
   "source": [
    "## 010_eurostat_creation_tables_deces_europe.R"
   ]
  },
  {
   "cell_type": "code",
   "execution_count": null,
   "id": "34e68087-f9d8-41cb-af7b-0d059e234744",
   "metadata": {},
   "outputs": [],
   "source": []
  }
 ],
 "metadata": {
  "kernelspec": {
   "display_name": "R",
   "language": "R",
   "name": "ir"
  },
  "language_info": {
   "codemirror_mode": "r",
   "file_extension": ".r",
   "mimetype": "text/x-r-source",
   "name": "R",
   "pygments_lexer": "r",
   "version": "4.2.2"
  }
 },
 "nbformat": 4,
 "nbformat_minor": 5
}
